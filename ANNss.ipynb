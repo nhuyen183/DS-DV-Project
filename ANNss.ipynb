{
  "nbformat": 4,
  "nbformat_minor": 0,
  "metadata": {
    "colab": {
      "provenance": [],
      "toc_visible": true,
      "authorship_tag": "ABX9TyP08WAtoH9cDokIjLmLN5ie",
      "include_colab_link": true
    },
    "kernelspec": {
      "name": "python3",
      "display_name": "Python 3"
    },
    "language_info": {
      "name": "python"
    }
  },
  "cells": [
    {
      "cell_type": "markdown",
      "metadata": {
        "id": "view-in-github",
        "colab_type": "text"
      },
      "source": [
        "<a href=\"https://colab.research.google.com/github/nhuyen183/DS-DV-Project/blob/master/ANNss.ipynb\" target=\"_parent\"><img src=\"https://colab.research.google.com/assets/colab-badge.svg\" alt=\"Open In Colab\"/></a>"
      ]
    },
    {
      "cell_type": "code",
      "execution_count": 1,
      "metadata": {
        "colab": {
          "base_uri": "https://localhost:8080/"
        },
        "id": "5yuA0MvLX3ow",
        "outputId": "e5c37c7e-215e-4b02-a187-18f09374e0aa"
      },
      "outputs": [
        {
          "output_type": "stream",
          "name": "stdout",
          "text": [
            "Imported modules.\n"
          ]
        }
      ],
      "source": [
        "#@title Import relevant modules\n",
        "import numpy as np\n",
        "import pandas as pd\n",
        "import tensorflow as tf\n",
        "from tensorflow.keras import layers\n",
        "from matplotlib import pyplot as plt\n",
        "import seaborn as sns\n",
        "\n",
        "import os\n",
        "from glob import glob\n",
        "import joblib\n",
        "import pandas as pd\n",
        "from sklearn import model_selection\n",
        "from sklearn import preprocessing\n",
        "from sklearn import metrics\n",
        "from sklearn.model_selection import train_test_split\n",
        "from tensorflow.python.keras import Sequential\n",
        "from tensorflow.python.keras.layers import Dense\n",
        "from tensorflow.python.keras import models\n",
        "from tensorflow.python.keras.models import load_model\n",
        "\n",
        "# The following lines adjust the granularity of reporting. \n",
        "pd.options.display.max_rows = 10\n",
        "pd.options.display.float_format = \"{:.1f}\".format\n",
        "\n",
        "print(\"Imported modules.\")"
      ]
    },
    {
      "cell_type": "code",
      "source": [
        "#@title Load the dataset\n",
        "filenames = glob('/content/*.csv')\n",
        "appended_data=[] #create a list\n",
        "for f in filenames:\n",
        "    df = pd.read_csv(f, index_col=None)\n",
        "    appended_data.append(df) #append to the list\n",
        "\n",
        "df = pd.concat(appended_data, axis=0)"
      ],
      "metadata": {
        "id": "VLh_eyPeYEZj"
      },
      "execution_count": 47,
      "outputs": []
    },
    {
      "cell_type": "code",
      "source": [
        "df.head(5)"
      ],
      "metadata": {
        "colab": {
          "base_uri": "https://localhost:8080/",
          "height": 206
        },
        "id": "yUkKUrLKYWyT",
        "outputId": "93ca3f8d-f00b-4394-d73b-32c1684263bc"
      },
      "execution_count": 3,
      "outputs": [
        {
          "output_type": "execute_result",
          "data": {
            "text/plain": [
              "   Gender  Age65  GeneralHealth  Smoked100  SmokerStatus  FirstSmokedAge  \\\n",
              "0       1      1              3          1             2               0   \n",
              "1       2      1              3          2             4               0   \n",
              "2       2      2              4          1             3               0   \n",
              "3       1      1              3          1             1               0   \n",
              "4       1      1              4          1             1               0   \n",
              "\n",
              "   LastSmokedAge  AvgNumCigADay  HasCTScan  StopSmoking  HasAsthma  \\\n",
              "0              0              0          0            1          2   \n",
              "1              0              0          0            0          2   \n",
              "2              0              0          0            0          2   \n",
              "3              0              0          0            1          1   \n",
              "4              0              0          0            2          2   \n",
              "\n",
              "   HasLungCancer  \n",
              "0              0  \n",
              "1              0  \n",
              "2              0  \n",
              "3              0  \n",
              "4              0  "
            ],
            "text/html": [
              "\n",
              "  <div id=\"df-72e63dcc-f69f-4557-9ed7-95edfd6aae3d\">\n",
              "    <div class=\"colab-df-container\">\n",
              "      <div>\n",
              "<style scoped>\n",
              "    .dataframe tbody tr th:only-of-type {\n",
              "        vertical-align: middle;\n",
              "    }\n",
              "\n",
              "    .dataframe tbody tr th {\n",
              "        vertical-align: top;\n",
              "    }\n",
              "\n",
              "    .dataframe thead th {\n",
              "        text-align: right;\n",
              "    }\n",
              "</style>\n",
              "<table border=\"1\" class=\"dataframe\">\n",
              "  <thead>\n",
              "    <tr style=\"text-align: right;\">\n",
              "      <th></th>\n",
              "      <th>Gender</th>\n",
              "      <th>Age65</th>\n",
              "      <th>GeneralHealth</th>\n",
              "      <th>Smoked100</th>\n",
              "      <th>SmokerStatus</th>\n",
              "      <th>FirstSmokedAge</th>\n",
              "      <th>LastSmokedAge</th>\n",
              "      <th>AvgNumCigADay</th>\n",
              "      <th>HasCTScan</th>\n",
              "      <th>StopSmoking</th>\n",
              "      <th>HasAsthma</th>\n",
              "      <th>HasLungCancer</th>\n",
              "    </tr>\n",
              "  </thead>\n",
              "  <tbody>\n",
              "    <tr>\n",
              "      <th>0</th>\n",
              "      <td>1</td>\n",
              "      <td>1</td>\n",
              "      <td>3</td>\n",
              "      <td>1</td>\n",
              "      <td>2</td>\n",
              "      <td>0</td>\n",
              "      <td>0</td>\n",
              "      <td>0</td>\n",
              "      <td>0</td>\n",
              "      <td>1</td>\n",
              "      <td>2</td>\n",
              "      <td>0</td>\n",
              "    </tr>\n",
              "    <tr>\n",
              "      <th>1</th>\n",
              "      <td>2</td>\n",
              "      <td>1</td>\n",
              "      <td>3</td>\n",
              "      <td>2</td>\n",
              "      <td>4</td>\n",
              "      <td>0</td>\n",
              "      <td>0</td>\n",
              "      <td>0</td>\n",
              "      <td>0</td>\n",
              "      <td>0</td>\n",
              "      <td>2</td>\n",
              "      <td>0</td>\n",
              "    </tr>\n",
              "    <tr>\n",
              "      <th>2</th>\n",
              "      <td>2</td>\n",
              "      <td>2</td>\n",
              "      <td>4</td>\n",
              "      <td>1</td>\n",
              "      <td>3</td>\n",
              "      <td>0</td>\n",
              "      <td>0</td>\n",
              "      <td>0</td>\n",
              "      <td>0</td>\n",
              "      <td>0</td>\n",
              "      <td>2</td>\n",
              "      <td>0</td>\n",
              "    </tr>\n",
              "    <tr>\n",
              "      <th>3</th>\n",
              "      <td>1</td>\n",
              "      <td>1</td>\n",
              "      <td>3</td>\n",
              "      <td>1</td>\n",
              "      <td>1</td>\n",
              "      <td>0</td>\n",
              "      <td>0</td>\n",
              "      <td>0</td>\n",
              "      <td>0</td>\n",
              "      <td>1</td>\n",
              "      <td>1</td>\n",
              "      <td>0</td>\n",
              "    </tr>\n",
              "    <tr>\n",
              "      <th>4</th>\n",
              "      <td>1</td>\n",
              "      <td>1</td>\n",
              "      <td>4</td>\n",
              "      <td>1</td>\n",
              "      <td>1</td>\n",
              "      <td>0</td>\n",
              "      <td>0</td>\n",
              "      <td>0</td>\n",
              "      <td>0</td>\n",
              "      <td>2</td>\n",
              "      <td>2</td>\n",
              "      <td>0</td>\n",
              "    </tr>\n",
              "  </tbody>\n",
              "</table>\n",
              "</div>\n",
              "      <button class=\"colab-df-convert\" onclick=\"convertToInteractive('df-72e63dcc-f69f-4557-9ed7-95edfd6aae3d')\"\n",
              "              title=\"Convert this dataframe to an interactive table.\"\n",
              "              style=\"display:none;\">\n",
              "        \n",
              "  <svg xmlns=\"http://www.w3.org/2000/svg\" height=\"24px\"viewBox=\"0 0 24 24\"\n",
              "       width=\"24px\">\n",
              "    <path d=\"M0 0h24v24H0V0z\" fill=\"none\"/>\n",
              "    <path d=\"M18.56 5.44l.94 2.06.94-2.06 2.06-.94-2.06-.94-.94-2.06-.94 2.06-2.06.94zm-11 1L8.5 8.5l.94-2.06 2.06-.94-2.06-.94L8.5 2.5l-.94 2.06-2.06.94zm10 10l.94 2.06.94-2.06 2.06-.94-2.06-.94-.94-2.06-.94 2.06-2.06.94z\"/><path d=\"M17.41 7.96l-1.37-1.37c-.4-.4-.92-.59-1.43-.59-.52 0-1.04.2-1.43.59L10.3 9.45l-7.72 7.72c-.78.78-.78 2.05 0 2.83L4 21.41c.39.39.9.59 1.41.59.51 0 1.02-.2 1.41-.59l7.78-7.78 2.81-2.81c.8-.78.8-2.07 0-2.86zM5.41 20L4 18.59l7.72-7.72 1.47 1.35L5.41 20z\"/>\n",
              "  </svg>\n",
              "      </button>\n",
              "      \n",
              "  <style>\n",
              "    .colab-df-container {\n",
              "      display:flex;\n",
              "      flex-wrap:wrap;\n",
              "      gap: 12px;\n",
              "    }\n",
              "\n",
              "    .colab-df-convert {\n",
              "      background-color: #E8F0FE;\n",
              "      border: none;\n",
              "      border-radius: 50%;\n",
              "      cursor: pointer;\n",
              "      display: none;\n",
              "      fill: #1967D2;\n",
              "      height: 32px;\n",
              "      padding: 0 0 0 0;\n",
              "      width: 32px;\n",
              "    }\n",
              "\n",
              "    .colab-df-convert:hover {\n",
              "      background-color: #E2EBFA;\n",
              "      box-shadow: 0px 1px 2px rgba(60, 64, 67, 0.3), 0px 1px 3px 1px rgba(60, 64, 67, 0.15);\n",
              "      fill: #174EA6;\n",
              "    }\n",
              "\n",
              "    [theme=dark] .colab-df-convert {\n",
              "      background-color: #3B4455;\n",
              "      fill: #D2E3FC;\n",
              "    }\n",
              "\n",
              "    [theme=dark] .colab-df-convert:hover {\n",
              "      background-color: #434B5C;\n",
              "      box-shadow: 0px 1px 3px 1px rgba(0, 0, 0, 0.15);\n",
              "      filter: drop-shadow(0px 1px 2px rgba(0, 0, 0, 0.3));\n",
              "      fill: #FFFFFF;\n",
              "    }\n",
              "  </style>\n",
              "\n",
              "      <script>\n",
              "        const buttonEl =\n",
              "          document.querySelector('#df-72e63dcc-f69f-4557-9ed7-95edfd6aae3d button.colab-df-convert');\n",
              "        buttonEl.style.display =\n",
              "          google.colab.kernel.accessAllowed ? 'block' : 'none';\n",
              "\n",
              "        async function convertToInteractive(key) {\n",
              "          const element = document.querySelector('#df-72e63dcc-f69f-4557-9ed7-95edfd6aae3d');\n",
              "          const dataTable =\n",
              "            await google.colab.kernel.invokeFunction('convertToInteractive',\n",
              "                                                     [key], {});\n",
              "          if (!dataTable) return;\n",
              "\n",
              "          const docLinkHtml = 'Like what you see? Visit the ' +\n",
              "            '<a target=\"_blank\" href=https://colab.research.google.com/notebooks/data_table.ipynb>data table notebook</a>'\n",
              "            + ' to learn more about interactive tables.';\n",
              "          element.innerHTML = '';\n",
              "          dataTable['output_type'] = 'display_data';\n",
              "          await google.colab.output.renderOutput(dataTable, element);\n",
              "          const docLink = document.createElement('div');\n",
              "          docLink.innerHTML = docLinkHtml;\n",
              "          element.appendChild(docLink);\n",
              "        }\n",
              "      </script>\n",
              "    </div>\n",
              "  </div>\n",
              "  "
            ]
          },
          "metadata": {},
          "execution_count": 3
        }
      ]
    },
    {
      "cell_type": "code",
      "source": [
        "df.dtypes"
      ],
      "metadata": {
        "colab": {
          "base_uri": "https://localhost:8080/"
        },
        "id": "VX-FjCBuYmU2",
        "outputId": "8549eb38-b190-4f48-918e-10c98aafb12b"
      },
      "execution_count": 48,
      "outputs": [
        {
          "output_type": "execute_result",
          "data": {
            "text/plain": [
              "Gender           int64\n",
              "Age65            int64\n",
              "GeneralHealth    int64\n",
              "Smoked100        int64\n",
              "SmokerStatus     int64\n",
              "                 ...  \n",
              "AvgNumCigADay    int64\n",
              "HasCTScan        int64\n",
              "StopSmoking      int64\n",
              "HasAsthma        int64\n",
              "HasLungCancer    int64\n",
              "Length: 12, dtype: object"
            ]
          },
          "metadata": {},
          "execution_count": 48
        }
      ]
    },
    {
      "cell_type": "code",
      "source": [
        "df.HasLungCancer.value_counts()"
      ],
      "metadata": {
        "colab": {
          "base_uri": "https://localhost:8080/"
        },
        "id": "_bxxpgPuaNuZ",
        "outputId": "2837148b-ab79-43ed-e247-09a6fdf51540"
      },
      "execution_count": 4,
      "outputs": [
        {
          "output_type": "execute_result",
          "data": {
            "text/plain": [
              "0    371625\n",
              "1       156\n",
              "Name: HasLungCancer, dtype: int64"
            ]
          },
          "metadata": {},
          "execution_count": 4
        }
      ]
    },
    {
      "cell_type": "code",
      "source": [
        "#@title Split data into traning and test sets\n",
        "\n",
        "train_df = df.sample(frac=0.8, random_state =42)\n",
        "test_df = df.drop(train_df.index)"
      ],
      "metadata": {
        "id": "uQ08m8H7XELE"
      },
      "execution_count": 49,
      "outputs": []
    },
    {
      "cell_type": "code",
      "source": [
        "#@title Data balancing using SMOTE\n",
        "#K-nearest neighbor algorithm to simulate the minority sample\n",
        "from imblearn.over_sampling import SMOTE\n",
        "\n",
        "count_majority_class, count_minority_class = train_df.HasLungCancer.value_counts()"
      ],
      "metadata": {
        "id": "PIFLuFsqbAzK"
      },
      "execution_count": 50,
      "outputs": []
    },
    {
      "cell_type": "code",
      "source": [
        "df_majority_class = train_df[train_df['HasLungCancer'] == 0]\n",
        "df_minority_class = train_df[train_df['HasLungCancer'] == 1]"
      ],
      "metadata": {
        "id": "ZomvRGPcbDFa"
      },
      "execution_count": 51,
      "outputs": []
    },
    {
      "cell_type": "code",
      "source": [
        "df_class_oversample = df_minority_class.sample(count_majority_class, replace=True)"
      ],
      "metadata": {
        "id": "gPn3YeFfbJUi"
      },
      "execution_count": 52,
      "outputs": []
    },
    {
      "cell_type": "code",
      "source": [
        "df_balanced_os = pd.concat([df_class_oversample, df_majority_class], axis=0)"
      ],
      "metadata": {
        "id": "n_5BEcwIbUPW"
      },
      "execution_count": 53,
      "outputs": []
    },
    {
      "cell_type": "code",
      "source": [
        "print('Number of data samples after over-sampling:')\n",
        "print(df_balanced_os.HasLungCancer.value_counts())"
      ],
      "metadata": {
        "colab": {
          "base_uri": "https://localhost:8080/"
        },
        "id": "QPdZgjSgbaBF",
        "outputId": "c3b9cd99-b4de-41b0-a35d-868a2ae71806"
      },
      "execution_count": 54,
      "outputs": [
        {
          "output_type": "stream",
          "name": "stdout",
          "text": [
            "Number of data samples after over-sampling:\n",
            "1    297294\n",
            "0    297294\n",
            "Name: HasLungCancer, dtype: int64\n"
          ]
        }
      ]
    },
    {
      "cell_type": "code",
      "source": [
        "#X = df_balanced_os.iloc[:, 0:11].astype(int)\n",
        "#y = df_balanced_os['HasLungCancer'].astype(int)\n",
        "\n",
        "#X_train, X_test, y_train, y_test = train_test_split(X, y, test_size=0.2)"
      ],
      "metadata": {
        "id": "3C7QRf3BY1o9"
      },
      "execution_count": 41,
      "outputs": []
    },
    {
      "cell_type": "code",
      "source": [
        "#@title Create numeric feature columns\n",
        "# For Numeric features, we can just call on feature_column.numeric_column()\n",
        "# to use its raw value instead of having to create a map between value and ID.\n",
        "gender = tf.feature_column.numeric_column(\"Gender\")\n",
        "age = tf.feature_column.numeric_column(\"Age65\")\n",
        "genhealth = tf.feature_column.numeric_column(\"GeneralHealth\")\n",
        "smoked100 = tf.feature_column.numeric_column(\"Smoked100\")\n",
        "firstsmoked_age = tf.feature_column.numeric_column(\"FirstSmokedAge\")\n",
        "lastsmoked_age = tf.feature_column.numeric_column(\"LastSmokedAge\")\n",
        "avg_numcig_day = tf.feature_column.numeric_column(\"AvgNumCigADay\")\n",
        "scan = tf.feature_column.numeric_column(\"HasCTScan\")\n",
        "stopsmoked_attempt = tf.feature_column.numeric_column(\"StopSmoking\")\n",
        "has_asthma = tf.feature_column.numeric_column(\"HasAsthma\")"
      ],
      "metadata": {
        "id": "X1tIfXh9bez_"
      },
      "execution_count": 55,
      "outputs": []
    },
    {
      "cell_type": "code",
      "source": [
        "# Create an empty list that will eventually hold all created feature columns.\n",
        "feature_columns = [gender, age, genhealth, smoked100, firstsmoked_age, lastsmoked_age, avg_numcig_day, scan, stopsmoked_attempt, has_asthma]\n",
        "\n",
        "# Convert the list of feature columns into a layer that will later be fed into the model. \n",
        "my_feature_layer = tf.keras.layers.DenseFeatures(feature_columns)"
      ],
      "metadata": {
        "id": "cr65CQn1fynt"
      },
      "execution_count": 56,
      "outputs": []
    },
    {
      "cell_type": "code",
      "source": [
        "#@title Define the plotting function.\n",
        "\n",
        "def plot_the_loss_curve(epochs, mse):\n",
        "  \"\"\"Plot a curve of loss vs. epoch.\"\"\"\n",
        "\n",
        "  plt.figure()\n",
        "  plt.xlabel(\"Epoch\")\n",
        "  plt.ylabel(\"Mean Squared Error\")\n",
        "\n",
        "  plt.plot(epochs, mse, label=\"Loss\")\n",
        "  plt.legend()\n",
        "  plt.ylim([mse.min()*0.95, mse.max() * 1.03])\n",
        "  plt.show()  \n",
        "\n",
        "print(\"Defined the plot_the_loss_curve function.\")"
      ],
      "metadata": {
        "colab": {
          "base_uri": "https://localhost:8080/"
        },
        "id": "wRY-pdbJdA58",
        "outputId": "76c1eaa9-e90c-45a9-edcf-a39a40308e31"
      },
      "execution_count": 57,
      "outputs": [
        {
          "output_type": "stream",
          "name": "stdout",
          "text": [
            "Defined the plot_the_loss_curve function.\n"
          ]
        }
      ]
    },
    {
      "cell_type": "code",
      "source": [
        "#@title Define functions to create and train a linear regression model\n",
        "def create_model(my_learning_rate, feature_layer):\n",
        "  \"\"\"Create and compile a simple linear regression model.\"\"\"\n",
        "  # Most simple tf.keras models are sequential.\n",
        "  model = tf.keras.models.Sequential()\n",
        "\n",
        "  # Add the layer containing the feature columns to the model.\n",
        "  model.add(feature_layer)\n",
        "\n",
        "  # Add one linear layer to the model to yield a simple linear regressor.\n",
        "  model.add(tf.keras.layers.Dense(units=1, input_shape=(1,)))\n",
        "\n",
        "  # Construct the layers into a model that TensorFlow can execute.\n",
        "  model.compile(optimizer=tf.keras.optimizers.RMSprop(lr=my_learning_rate),\n",
        "                loss=\"mean_squared_error\",\n",
        "                metrics=[tf.keras.metrics.MeanSquaredError()])\n",
        "\n",
        "  return model           \n",
        "\n",
        "\n",
        "def train_model(model, df, epochs, batch_size, label_name):\n",
        "  \"\"\"Feed a dataset into the model in order to train it.\"\"\"\n",
        "\n",
        "  # Split the dataset into features and label.\n",
        "  features = {name:np.array(value) for name, value in df.items()}\n",
        "  label = np.array(features.pop(label_name))\n",
        "  history = model.fit(x=features, y=label, batch_size=batch_size,\n",
        "                      epochs=epochs, shuffle=True)\n",
        "\n",
        "  # Get details that will be useful for plotting the loss curve.\n",
        "  epochs = history.epoch\n",
        "  hist = pd.DataFrame(history.history)\n",
        "  rmse = hist[\"mean_squared_error\"]\n",
        "\n",
        "  return epochs, rmse   \n",
        "\n",
        "print(\"Defined the create_model and train_model functions.\")"
      ],
      "metadata": {
        "colab": {
          "base_uri": "https://localhost:8080/"
        },
        "id": "m7aWztDoeLb7",
        "outputId": "ce4174e1-90fb-4ca4-ac0f-bbde78cfb269"
      },
      "execution_count": 58,
      "outputs": [
        {
          "output_type": "stream",
          "name": "stdout",
          "text": [
            "Defined the create_model and train_model functions.\n"
          ]
        }
      ]
    },
    {
      "cell_type": "code",
      "source": [
        "# The following variables are the hyperparameters.\n",
        "learning_rate = 0.01\n",
        "epochs = 15\n",
        "batch_size = 1000\n",
        "label_name = \"HasLungCancer\"\n",
        "\n",
        "# Establish the model's topography.\n",
        "my_model = create_model(learning_rate, my_feature_layer)\n",
        "\n",
        "# Train the model on the training set.\n",
        "epochs, mse = train_model(my_model, df_balanced_os, epochs, batch_size, label_name)\n",
        "plot_the_loss_curve(epochs, mse)\n",
        "\n",
        "test_features = {name:np.array(value) for name, value in test_df.items()}\n",
        "test_label = np.array(test_features.pop(label_name)) # isolate the label\n",
        "print(\"\\n Evaluate the linear regression model against the test set:\")\n",
        "my_model.evaluate(x = test_features, y = test_label, batch_size=batch_size)"
      ],
      "metadata": {
        "colab": {
          "base_uri": "https://localhost:8080/",
          "height": 976
        },
        "id": "ayLGRdeAeZQe",
        "outputId": "e0830b37-63c0-4a1a-e89e-03fc5f71254b"
      },
      "execution_count": 59,
      "outputs": [
        {
          "output_type": "stream",
          "name": "stdout",
          "text": [
            "Epoch 1/15\n"
          ]
        },
        {
          "output_type": "stream",
          "name": "stderr",
          "text": [
            "/usr/local/lib/python3.8/dist-packages/keras/optimizers/optimizer_v2/rmsprop.py:135: UserWarning: The `lr` argument is deprecated, use `learning_rate` instead.\n",
            "  super(RMSprop, self).__init__(name, **kwargs)\n",
            "WARNING:tensorflow:Layers in a Sequential model should only have a single input tensor. Received: inputs={'Gender': <tf.Tensor 'IteratorGetNext:3' shape=(None,) dtype=int64>, 'Age65': <tf.Tensor 'IteratorGetNext:0' shape=(None,) dtype=int64>, 'GeneralHealth': <tf.Tensor 'IteratorGetNext:4' shape=(None,) dtype=int64>, 'Smoked100': <tf.Tensor 'IteratorGetNext:8' shape=(None,) dtype=int64>, 'SmokerStatus': <tf.Tensor 'IteratorGetNext:9' shape=(None,) dtype=int64>, 'FirstSmokedAge': <tf.Tensor 'IteratorGetNext:2' shape=(None,) dtype=int64>, 'LastSmokedAge': <tf.Tensor 'IteratorGetNext:7' shape=(None,) dtype=int64>, 'AvgNumCigADay': <tf.Tensor 'IteratorGetNext:1' shape=(None,) dtype=int64>, 'HasCTScan': <tf.Tensor 'IteratorGetNext:6' shape=(None,) dtype=int64>, 'StopSmoking': <tf.Tensor 'IteratorGetNext:10' shape=(None,) dtype=int64>, 'HasAsthma': <tf.Tensor 'IteratorGetNext:5' shape=(None,) dtype=int64>}. Consider rewriting this model with the Functional API.\n",
            "WARNING:tensorflow:Layers in a Sequential model should only have a single input tensor. Received: inputs={'Gender': <tf.Tensor 'IteratorGetNext:3' shape=(None,) dtype=int64>, 'Age65': <tf.Tensor 'IteratorGetNext:0' shape=(None,) dtype=int64>, 'GeneralHealth': <tf.Tensor 'IteratorGetNext:4' shape=(None,) dtype=int64>, 'Smoked100': <tf.Tensor 'IteratorGetNext:8' shape=(None,) dtype=int64>, 'SmokerStatus': <tf.Tensor 'IteratorGetNext:9' shape=(None,) dtype=int64>, 'FirstSmokedAge': <tf.Tensor 'IteratorGetNext:2' shape=(None,) dtype=int64>, 'LastSmokedAge': <tf.Tensor 'IteratorGetNext:7' shape=(None,) dtype=int64>, 'AvgNumCigADay': <tf.Tensor 'IteratorGetNext:1' shape=(None,) dtype=int64>, 'HasCTScan': <tf.Tensor 'IteratorGetNext:6' shape=(None,) dtype=int64>, 'StopSmoking': <tf.Tensor 'IteratorGetNext:10' shape=(None,) dtype=int64>, 'HasAsthma': <tf.Tensor 'IteratorGetNext:5' shape=(None,) dtype=int64>}. Consider rewriting this model with the Functional API.\n"
          ]
        },
        {
          "output_type": "stream",
          "name": "stdout",
          "text": [
            "595/595 [==============================] - 2s 2ms/step - loss: 4.5938 - mean_squared_error: 4.5938\n",
            "Epoch 2/15\n",
            "595/595 [==============================] - 1s 3ms/step - loss: 0.1880 - mean_squared_error: 0.1880\n",
            "Epoch 3/15\n",
            "595/595 [==============================] - 2s 3ms/step - loss: 0.1883 - mean_squared_error: 0.1883\n",
            "Epoch 4/15\n",
            "595/595 [==============================] - 1s 3ms/step - loss: 0.1878 - mean_squared_error: 0.1878\n",
            "Epoch 5/15\n",
            "595/595 [==============================] - 1s 2ms/step - loss: 0.1879 - mean_squared_error: 0.1879\n",
            "Epoch 6/15\n",
            "595/595 [==============================] - 2s 3ms/step - loss: 0.1879 - mean_squared_error: 0.1879\n",
            "Epoch 7/15\n",
            "595/595 [==============================] - 2s 3ms/step - loss: 0.1882 - mean_squared_error: 0.1882\n",
            "Epoch 8/15\n",
            "595/595 [==============================] - 2s 3ms/step - loss: 0.1878 - mean_squared_error: 0.1878\n",
            "Epoch 9/15\n",
            "595/595 [==============================] - 2s 3ms/step - loss: 0.1881 - mean_squared_error: 0.1881\n",
            "Epoch 10/15\n",
            "595/595 [==============================] - 2s 3ms/step - loss: 0.1879 - mean_squared_error: 0.1879\n",
            "Epoch 11/15\n",
            "595/595 [==============================] - 1s 2ms/step - loss: 0.1878 - mean_squared_error: 0.1878\n",
            "Epoch 12/15\n",
            "595/595 [==============================] - 1s 2ms/step - loss: 0.1881 - mean_squared_error: 0.1881\n",
            "Epoch 13/15\n",
            "595/595 [==============================] - 1s 2ms/step - loss: 0.1874 - mean_squared_error: 0.1874\n",
            "Epoch 14/15\n",
            "595/595 [==============================] - 2s 3ms/step - loss: 0.1883 - mean_squared_error: 0.1883\n",
            "Epoch 15/15\n",
            "595/595 [==============================] - 1s 2ms/step - loss: 0.1882 - mean_squared_error: 0.1882\n"
          ]
        },
        {
          "output_type": "display_data",
          "data": {
            "text/plain": [
              "<Figure size 432x288 with 1 Axes>"
            ],
            "image/png": "[encoded data removed]"
          },
          "metadata": {
            "needs_background": "light"
          }
        },
        {
          "output_type": "stream",
          "name": "stdout",
          "text": [
            "\n",
            " Evaluate the linear regression model against the test set:\n"
          ]
        },
        {
          "output_type": "stream",
          "name": "stderr",
          "text": [
            "WARNING:tensorflow:Layers in a Sequential model should only have a single input tensor. Received: inputs={'Gender': <tf.Tensor 'IteratorGetNext:3' shape=(None,) dtype=int64>, 'Age65': <tf.Tensor 'IteratorGetNext:0' shape=(None,) dtype=int64>, 'GeneralHealth': <tf.Tensor 'IteratorGetNext:4' shape=(None,) dtype=int64>, 'Smoked100': <tf.Tensor 'IteratorGetNext:8' shape=(None,) dtype=int64>, 'SmokerStatus': <tf.Tensor 'IteratorGetNext:9' shape=(None,) dtype=int64>, 'FirstSmokedAge': <tf.Tensor 'IteratorGetNext:2' shape=(None,) dtype=int64>, 'LastSmokedAge': <tf.Tensor 'IteratorGetNext:7' shape=(None,) dtype=int64>, 'AvgNumCigADay': <tf.Tensor 'IteratorGetNext:1' shape=(None,) dtype=int64>, 'HasCTScan': <tf.Tensor 'IteratorGetNext:6' shape=(None,) dtype=int64>, 'StopSmoking': <tf.Tensor 'IteratorGetNext:10' shape=(None,) dtype=int64>, 'HasAsthma': <tf.Tensor 'IteratorGetNext:5' shape=(None,) dtype=int64>}. Consider rewriting this model with the Functional API.\n"
          ]
        },
        {
          "output_type": "stream",
          "name": "stdout",
          "text": [
            "4/4 [==============================] - 0s 3ms/step - loss: 0.1529 - mean_squared_error: 0.1529\n"
          ]
        },
        {
          "output_type": "execute_result",
          "data": {
            "text/plain": [
              "[0.15293049812316895, 0.15293049812316895]"
            ]
          },
          "metadata": {},
          "execution_count": 59
        }
      ]
    },
    {
      "cell_type": "code",
      "source": [
        "#@title Define Deep Neural Net Model\n",
        "\n",
        "def create_model(my_learning_rate, my_feature_layer):\n",
        "  \"\"\"Create and compile a simple linear regression model.\"\"\"\n",
        "  # Most simple tf.keras models are sequential.\n",
        "  model = tf.keras.models.Sequential()\n",
        "\n",
        "  # Add the layer containing the feature columns to the model.\n",
        "  model.add(my_feature_layer)\n",
        "\n",
        "  # Describe the topography of the model by calling the tf.keras.layers.Dense\n",
        "  # method once for each layer. We've specified the following arguments:\n",
        "  #   * units specifies the number of nodes in this layer.\n",
        "  #   * activation specifies the activation function (Rectified Linear Unit).\n",
        "  #   * name is just a string that can be useful when debugging.\n",
        "\n",
        "  # Define the first hidden layer with 20 nodes.   \n",
        "  model.add(tf.keras.layers.Dense(units=20, \n",
        "                                  activation='relu', \n",
        "                                  name='Hidden1'))\n",
        "  \n",
        "  # Define the second hidden layer with 12 nodes. \n",
        "  model.add(tf.keras.layers.Dense(units=12, \n",
        "                                  activation='relu', \n",
        "                                  name='Hidden2'))\n",
        "  \n",
        "  # Define the output layer.\n",
        "  model.add(tf.keras.layers.Dense(units=2,  \n",
        "                                  name='Output'))                      \n",
        "  \n",
        "  model.compile(optimizer=tf.keras.optimizers.Adam(lr=my_learning_rate),\n",
        "                loss=\"mean_squared_error\",\n",
        "                metrics=[tf.keras.metrics.MeanSquaredError()])\n",
        "\n",
        "  return model"
      ],
      "metadata": {
        "id": "Tx6FlPFMYuV1"
      },
      "execution_count": 90,
      "outputs": []
    },
    {
      "cell_type": "code",
      "source": [
        "def train_model(model, df, epochs, label_name,\n",
        "                batch_size=None):\n",
        "  \"\"\"Train the model by feeding it data.\"\"\"\n",
        "\n",
        "  # Split the dataset into features and label.\n",
        "  features = {name:np.array(value) for name, value in df.items()}\n",
        "  label = np.array(features.pop(label_name))\n",
        "  history = model.fit(x=features, y=label, batch_size=batch_size,\n",
        "                      epochs=epochs, shuffle=True) \n",
        "\n",
        "  # The list of epochs is stored separately from the rest of history.\n",
        "  epochs = history.epoch\n",
        "  \n",
        "  # To track the progression of training, gather a snapshot\n",
        "  # of the model's mean squared error at each epoch. \n",
        "  hist = pd.DataFrame(history.history)\n",
        "  mse = hist[\"mean_squared_error\"]\n",
        "  \n",
        "\n",
        "  return epochs, mse"
      ],
      "metadata": {
        "id": "_txtk6TvZU11"
      },
      "execution_count": 91,
      "outputs": []
    },
    {
      "cell_type": "code",
      "source": [
        "# The following variables are the hyperparameters.\n",
        "learning_rate = 0.01\n",
        "epochs = 20\n",
        "batch_size = 1000\n",
        "\n",
        "# Specify the label\n",
        "label_name = \"HasLungCancer\"\n",
        "    \n",
        "    \n",
        "# List of built-in metrics that we'll need to evaluate performance.\n",
        "METRICS = [\n",
        "    tf.keras.metrics.TruePositives(name='tp'),\n",
        "    tf.keras.metrics.FalsePositives(name='fp'),\n",
        "    tf.keras.metrics.TrueNegatives(name='tn'),\n",
        "    tf.keras.metrics.FalseNegatives(name='fn'), \n",
        "    tf.keras.metrics.BinaryAccuracy(name='accuracy'),\n",
        "    tf.keras.metrics.Precision(name='precision'),\n",
        "    tf.keras.metrics.Recall(name='recall'),\n",
        "    tf.keras.metrics.AUC(name='auc'),\n",
        "  ]        \n",
        "\n",
        "# Establish the model's topography.\n",
        "my_model = create_model(learning_rate, my_feature_layer)\n",
        "\n",
        "# Train the model on the normalized training set. We're passing the entire\n",
        "# normalized training set, but the model will only use the features\n",
        "# defined by the feature_layer.\n",
        "epochs, mse = train_model(my_model, df_balanced_os, epochs, \n",
        "                          label_name, batch_size)\n",
        "plot_the_loss_curve(epochs, mse)\n",
        "\n",
        "# After building a model against the training set, test that model\n",
        "# against the test set.\n",
        "test_features = {name:np.array(value) for name, value in test_df.items()}\n",
        "test_label = np.array(test_features.pop(label_name)) # isolate the label\n",
        "print(\"\\n Evaluate the new model against the test set:\")\n",
        "my_model.evaluate(x = test_features, y = test_label, batch_size=batch_size)"
      ],
      "metadata": {
        "colab": {
          "base_uri": "https://localhost:8080/",
          "height": 1000
        },
        "id": "lXi_c4EaZmNf",
        "outputId": "156f5b4b-732f-41c3-d5c3-76a9e8fe8858"
      },
      "execution_count": 92,
      "outputs": [
        {
          "output_type": "stream",
          "name": "stdout",
          "text": [
            "Epoch 1/20\n"
          ]
        },
        {
          "output_type": "stream",
          "name": "stderr",
          "text": [
            "WARNING:tensorflow:Layers in a Sequential model should only have a single input tensor. Received: inputs={'Gender': <tf.Tensor 'IteratorGetNext:3' shape=(None,) dtype=int64>, 'Age65': <tf.Tensor 'IteratorGetNext:0' shape=(None,) dtype=int64>, 'GeneralHealth': <tf.Tensor 'IteratorGetNext:4' shape=(None,) dtype=int64>, 'Smoked100': <tf.Tensor 'IteratorGetNext:8' shape=(None,) dtype=int64>, 'SmokerStatus': <tf.Tensor 'IteratorGetNext:9' shape=(None,) dtype=int64>, 'FirstSmokedAge': <tf.Tensor 'IteratorGetNext:2' shape=(None,) dtype=int64>, 'LastSmokedAge': <tf.Tensor 'IteratorGetNext:7' shape=(None,) dtype=int64>, 'AvgNumCigADay': <tf.Tensor 'IteratorGetNext:1' shape=(None,) dtype=int64>, 'HasCTScan': <tf.Tensor 'IteratorGetNext:6' shape=(None,) dtype=int64>, 'StopSmoking': <tf.Tensor 'IteratorGetNext:10' shape=(None,) dtype=int64>, 'HasAsthma': <tf.Tensor 'IteratorGetNext:5' shape=(None,) dtype=int64>}. Consider rewriting this model with the Functional API.\n",
            "WARNING:tensorflow:Layers in a Sequential model should only have a single input tensor. Received: inputs={'Gender': <tf.Tensor 'IteratorGetNext:3' shape=(None,) dtype=int64>, 'Age65': <tf.Tensor 'IteratorGetNext:0' shape=(None,) dtype=int64>, 'GeneralHealth': <tf.Tensor 'IteratorGetNext:4' shape=(None,) dtype=int64>, 'Smoked100': <tf.Tensor 'IteratorGetNext:8' shape=(None,) dtype=int64>, 'SmokerStatus': <tf.Tensor 'IteratorGetNext:9' shape=(None,) dtype=int64>, 'FirstSmokedAge': <tf.Tensor 'IteratorGetNext:2' shape=(None,) dtype=int64>, 'LastSmokedAge': <tf.Tensor 'IteratorGetNext:7' shape=(None,) dtype=int64>, 'AvgNumCigADay': <tf.Tensor 'IteratorGetNext:1' shape=(None,) dtype=int64>, 'HasCTScan': <tf.Tensor 'IteratorGetNext:6' shape=(None,) dtype=int64>, 'StopSmoking': <tf.Tensor 'IteratorGetNext:10' shape=(None,) dtype=int64>, 'HasAsthma': <tf.Tensor 'IteratorGetNext:5' shape=(None,) dtype=int64>}. Consider rewriting this model with the Functional API.\n"
          ]
        },
        {
          "output_type": "stream",
          "name": "stdout",
          "text": [
            "595/595 [==============================] - 2s 3ms/step - loss: 0.1683 - mean_squared_error: 0.1683\n",
            "Epoch 2/20\n",
            "595/595 [==============================] - 2s 3ms/step - loss: 0.1257 - mean_squared_error: 0.1257\n",
            "Epoch 3/20\n",
            "595/595 [==============================] - 2s 3ms/step - loss: 0.1228 - mean_squared_error: 0.1228\n",
            "Epoch 4/20\n",
            "595/595 [==============================] - 2s 3ms/step - loss: 0.1212 - mean_squared_error: 0.1212\n",
            "Epoch 5/20\n",
            "595/595 [==============================] - 2s 3ms/step - loss: 0.1196 - mean_squared_error: 0.1196\n",
            "Epoch 6/20\n",
            "595/595 [==============================] - 2s 3ms/step - loss: 0.1190 - mean_squared_error: 0.1190\n",
            "Epoch 7/20\n",
            "595/595 [==============================] - 2s 3ms/step - loss: 0.1186 - mean_squared_error: 0.1186\n",
            "Epoch 8/20\n",
            "595/595 [==============================] - 2s 3ms/step - loss: 0.1183 - mean_squared_error: 0.1183\n",
            "Epoch 9/20\n",
            "595/595 [==============================] - 2s 3ms/step - loss: 0.1170 - mean_squared_error: 0.1170\n",
            "Epoch 10/20\n",
            "595/595 [==============================] - 2s 4ms/step - loss: 0.1156 - mean_squared_error: 0.1156\n",
            "Epoch 11/20\n",
            "595/595 [==============================] - 3s 5ms/step - loss: 0.1149 - mean_squared_error: 0.1149\n",
            "Epoch 12/20\n",
            "595/595 [==============================] - 2s 4ms/step - loss: 0.1132 - mean_squared_error: 0.1132\n",
            "Epoch 13/20\n",
            "595/595 [==============================] - 2s 3ms/step - loss: 0.1120 - mean_squared_error: 0.1120\n",
            "Epoch 14/20\n",
            "595/595 [==============================] - 2s 3ms/step - loss: 0.1112 - mean_squared_error: 0.1112\n",
            "Epoch 15/20\n",
            "595/595 [==============================] - 2s 3ms/step - loss: 0.1108 - mean_squared_error: 0.1108\n",
            "Epoch 16/20\n",
            "595/595 [==============================] - 2s 3ms/step - loss: 0.1097 - mean_squared_error: 0.1097\n",
            "Epoch 17/20\n",
            "595/595 [==============================] - 2s 3ms/step - loss: 0.1096 - mean_squared_error: 0.1096\n",
            "Epoch 18/20\n",
            "595/595 [==============================] - 2s 4ms/step - loss: 0.1094 - mean_squared_error: 0.1094\n",
            "Epoch 19/20\n",
            "595/595 [==============================] - 2s 4ms/step - loss: 0.1088 - mean_squared_error: 0.1088\n",
            "Epoch 20/20\n",
            "595/595 [==============================] - 2s 3ms/step - loss: 0.1086 - mean_squared_error: 0.1086\n"
          ]
        },
        {
          "output_type": "display_data",
          "data": {
            "text/plain": [
              "<Figure size 432x288 with 1 Axes>"
            ],
            "image/png": "[encoded data removed]"
          },
          "metadata": {
            "needs_background": "light"
          }
        },
        {
          "output_type": "stream",
          "name": "stderr",
          "text": [
            "WARNING:tensorflow:Layers in a Sequential model should only have a single input tensor. Received: inputs={'Gender': <tf.Tensor 'IteratorGetNext:3' shape=(None,) dtype=int64>, 'Age65': <tf.Tensor 'IteratorGetNext:0' shape=(None,) dtype=int64>, 'GeneralHealth': <tf.Tensor 'IteratorGetNext:4' shape=(None,) dtype=int64>, 'Smoked100': <tf.Tensor 'IteratorGetNext:8' shape=(None,) dtype=int64>, 'SmokerStatus': <tf.Tensor 'IteratorGetNext:9' shape=(None,) dtype=int64>, 'FirstSmokedAge': <tf.Tensor 'IteratorGetNext:2' shape=(None,) dtype=int64>, 'LastSmokedAge': <tf.Tensor 'IteratorGetNext:7' shape=(None,) dtype=int64>, 'AvgNumCigADay': <tf.Tensor 'IteratorGetNext:1' shape=(None,) dtype=int64>, 'HasCTScan': <tf.Tensor 'IteratorGetNext:6' shape=(None,) dtype=int64>, 'StopSmoking': <tf.Tensor 'IteratorGetNext:10' shape=(None,) dtype=int64>, 'HasAsthma': <tf.Tensor 'IteratorGetNext:5' shape=(None,) dtype=int64>}. Consider rewriting this model with the Functional API.\n"
          ]
        },
        {
          "output_type": "stream",
          "name": "stdout",
          "text": [
            "\n",
            " Evaluate the new model against the test set:\n",
            "4/4 [==============================] - 0s 4ms/step - loss: 0.1260 - mean_squared_error: 0.1260\n"
          ]
        },
        {
          "output_type": "execute_result",
          "data": {
            "text/plain": [
              "[0.1260349452495575, 0.1260349452495575]"
            ]
          },
          "metadata": {},
          "execution_count": 92
        }
      ]
    },
    {
      "cell_type": "code",
      "source": [
        "my_model.predict()"
      ],
      "metadata": {
        "id": "PkPamPmAiiEM"
      },
      "execution_count": null,
      "outputs": []
    }
  ]
}