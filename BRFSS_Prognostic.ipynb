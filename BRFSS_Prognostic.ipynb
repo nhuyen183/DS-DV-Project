{
  "nbformat": 4,
  "nbformat_minor": 0,
  "metadata": {
    "colab": {
      "provenance": [],
      "authorship_tag": "ABX9TyMXXPshByx+YkSEtRxPGsTa",
      "include_colab_link": true
    },
    "kernelspec": {
      "name": "ir",
      "display_name": "R"
    },
    "language_info": {
      "name": "R"
    },
    "gpuClass": "standard"
  },
  "cells": [
    {
      "cell_type": "markdown",
      "metadata": {
        "id": "view-in-github",
        "colab_type": "text"
      },
      "source": [
        "<a href=\"https://colab.research.google.com/github/nhuyen183/DS-DV-Project/blob/master/BRFSS_Prognostic.ipynb\" target=\"_parent\"><img src=\"https://colab.research.google.com/assets/colab-badge.svg\" alt=\"Open In Colab\"/></a>"
      ]
    },
    {
      "cell_type": "code",
      "execution_count": 35,
      "metadata": {
        "colab": {
          "base_uri": "https://localhost:8080/",
          "height": 286
        },
        "id": "KZa6HsJ4Atue",
        "outputId": "dba90c59-4447-404c-f188-3480642c8a6a"
      },
      "outputs": [
        {
          "output_type": "display_data",
          "data": {
            "text/html": [
              "<table class=\"dataframe\">\n",
              "<caption>A data.frame: 6 × 18</caption>\n",
              "<thead>\n",
              "\t<tr><th></th><th scope=col>Gender</th><th scope=col>Age65</th><th scope=col>BMI</th><th scope=col>GeneralHealth</th><th scope=col>CheckupFreq</th><th scope=col>Exercise</th><th scope=col>Smoked100</th><th scope=col>SmokerStatus</th><th scope=col>StopSmoking</th><th scope=col>TimeSinceQuitSmk</th><th scope=col>EverUsedEcig</th><th scope=col>EcigLevel</th><th scope=col>HasCTScan</th><th scope=col>HasChronicDisease</th><th scope=col>HasAsthma</th><th scope=col>HadStroke</th><th scope=col>HadHeartDisease</th><th scope=col>HasLungCancer</th></tr>\n",
              "\t<tr><th></th><th scope=col>&lt;int&gt;</th><th scope=col>&lt;int&gt;</th><th scope=col>&lt;int&gt;</th><th scope=col>&lt;int&gt;</th><th scope=col>&lt;int&gt;</th><th scope=col>&lt;int&gt;</th><th scope=col>&lt;int&gt;</th><th scope=col>&lt;int&gt;</th><th scope=col>&lt;int&gt;</th><th scope=col>&lt;int&gt;</th><th scope=col>&lt;int&gt;</th><th scope=col>&lt;int&gt;</th><th scope=col>&lt;int&gt;</th><th scope=col>&lt;int&gt;</th><th scope=col>&lt;int&gt;</th><th scope=col>&lt;int&gt;</th><th scope=col>&lt;int&gt;</th><th scope=col>&lt;int&gt;</th></tr>\n",
              "</thead>\n",
              "<tbody>\n",
              "\t<tr><th scope=row>1</th><td>0</td><td>0</td><td>4</td><td>2</td><td>1</td><td>0</td><td>0</td><td>4</td><td>0</td><td>0</td><td>0</td><td>0</td><td>0</td><td>0</td><td>0</td><td>0</td><td>0</td><td>0</td></tr>\n",
              "\t<tr><th scope=row>2</th><td>1</td><td>1</td><td>2</td><td>1</td><td>1</td><td>1</td><td>1</td><td>3</td><td>0</td><td>7</td><td>0</td><td>0</td><td>0</td><td>0</td><td>0</td><td>1</td><td>1</td><td>0</td></tr>\n",
              "\t<tr><th scope=row>3</th><td>1</td><td>1</td><td>4</td><td>3</td><td>1</td><td>1</td><td>0</td><td>4</td><td>0</td><td>0</td><td>0</td><td>0</td><td>0</td><td>0</td><td>0</td><td>0</td><td>0</td><td>0</td></tr>\n",
              "\t<tr><th scope=row>4</th><td>1</td><td>1</td><td>3</td><td>2</td><td>1</td><td>1</td><td>1</td><td>3</td><td>0</td><td>7</td><td>1</td><td>3</td><td>0</td><td>0</td><td>0</td><td>0</td><td>0</td><td>0</td></tr>\n",
              "\t<tr><th scope=row>5</th><td>1</td><td>0</td><td>4</td><td>5</td><td>1</td><td>1</td><td>1</td><td>3</td><td>0</td><td>7</td><td>0</td><td>0</td><td>0</td><td>0</td><td>0</td><td>0</td><td>0</td><td>0</td></tr>\n",
              "\t<tr><th scope=row>6</th><td>0</td><td>1</td><td>4</td><td>3</td><td>1</td><td>1</td><td>0</td><td>4</td><td>0</td><td>0</td><td>0</td><td>0</td><td>1</td><td>0</td><td>0</td><td>0</td><td>1</td><td>0</td></tr>\n",
              "</tbody>\n",
              "</table>\n"
            ],
            "text/markdown": "\nA data.frame: 6 × 18\n\n| <!--/--> | Gender &lt;int&gt; | Age65 &lt;int&gt; | BMI &lt;int&gt; | GeneralHealth &lt;int&gt; | CheckupFreq &lt;int&gt; | Exercise &lt;int&gt; | Smoked100 &lt;int&gt; | SmokerStatus &lt;int&gt; | StopSmoking &lt;int&gt; | TimeSinceQuitSmk &lt;int&gt; | EverUsedEcig &lt;int&gt; | EcigLevel &lt;int&gt; | HasCTScan &lt;int&gt; | HasChronicDisease &lt;int&gt; | HasAsthma &lt;int&gt; | HadStroke &lt;int&gt; | HadHeartDisease &lt;int&gt; | HasLungCancer &lt;int&gt; |\n|---|---|---|---|---|---|---|---|---|---|---|---|---|---|---|---|---|---|---|\n| 1 | 0 | 0 | 4 | 2 | 1 | 0 | 0 | 4 | 0 | 0 | 0 | 0 | 0 | 0 | 0 | 0 | 0 | 0 |\n| 2 | 1 | 1 | 2 | 1 | 1 | 1 | 1 | 3 | 0 | 7 | 0 | 0 | 0 | 0 | 0 | 1 | 1 | 0 |\n| 3 | 1 | 1 | 4 | 3 | 1 | 1 | 0 | 4 | 0 | 0 | 0 | 0 | 0 | 0 | 0 | 0 | 0 | 0 |\n| 4 | 1 | 1 | 3 | 2 | 1 | 1 | 1 | 3 | 0 | 7 | 1 | 3 | 0 | 0 | 0 | 0 | 0 | 0 |\n| 5 | 1 | 0 | 4 | 5 | 1 | 1 | 1 | 3 | 0 | 7 | 0 | 0 | 0 | 0 | 0 | 0 | 0 | 0 |\n| 6 | 0 | 1 | 4 | 3 | 1 | 1 | 0 | 4 | 0 | 0 | 0 | 0 | 1 | 0 | 0 | 0 | 1 | 0 |\n\n",
            "text/latex": "A data.frame: 6 × 18\n\\begin{tabular}{r|llllllllllllllllll}\n  & Gender & Age65 & BMI & GeneralHealth & CheckupFreq & Exercise & Smoked100 & SmokerStatus & StopSmoking & TimeSinceQuitSmk & EverUsedEcig & EcigLevel & HasCTScan & HasChronicDisease & HasAsthma & HadStroke & HadHeartDisease & HasLungCancer\\\\\n  & <int> & <int> & <int> & <int> & <int> & <int> & <int> & <int> & <int> & <int> & <int> & <int> & <int> & <int> & <int> & <int> & <int> & <int>\\\\\n\\hline\n\t1 & 0 & 0 & 4 & 2 & 1 & 0 & 0 & 4 & 0 & 0 & 0 & 0 & 0 & 0 & 0 & 0 & 0 & 0\\\\\n\t2 & 1 & 1 & 2 & 1 & 1 & 1 & 1 & 3 & 0 & 7 & 0 & 0 & 0 & 0 & 0 & 1 & 1 & 0\\\\\n\t3 & 1 & 1 & 4 & 3 & 1 & 1 & 0 & 4 & 0 & 0 & 0 & 0 & 0 & 0 & 0 & 0 & 0 & 0\\\\\n\t4 & 1 & 1 & 3 & 2 & 1 & 1 & 1 & 3 & 0 & 7 & 1 & 3 & 0 & 0 & 0 & 0 & 0 & 0\\\\\n\t5 & 1 & 0 & 4 & 5 & 1 & 1 & 1 & 3 & 0 & 7 & 0 & 0 & 0 & 0 & 0 & 0 & 0 & 0\\\\\n\t6 & 0 & 1 & 4 & 3 & 1 & 1 & 0 & 4 & 0 & 0 & 0 & 0 & 1 & 0 & 0 & 0 & 1 & 0\\\\\n\\end{tabular}\n",
            "text/plain": [
              "  Gender Age65 BMI GeneralHealth CheckupFreq Exercise Smoked100 SmokerStatus\n",
              "1 0      0     4   2             1           0        0         4           \n",
              "2 1      1     2   1             1           1        1         3           \n",
              "3 1      1     4   3             1           1        0         4           \n",
              "4 1      1     3   2             1           1        1         3           \n",
              "5 1      0     4   5             1           1        1         3           \n",
              "6 0      1     4   3             1           1        0         4           \n",
              "  StopSmoking TimeSinceQuitSmk EverUsedEcig EcigLevel HasCTScan\n",
              "1 0           0                0            0         0        \n",
              "2 0           7                0            0         0        \n",
              "3 0           0                0            0         0        \n",
              "4 0           7                1            3         0        \n",
              "5 0           7                0            0         0        \n",
              "6 0           0                0            0         1        \n",
              "  HasChronicDisease HasAsthma HadStroke HadHeartDisease HasLungCancer\n",
              "1 0                 0         0         0               0            \n",
              "2 0                 0         1         1               0            \n",
              "3 0                 0         0         0               0            \n",
              "4 0                 0         0         0               0            \n",
              "5 0                 0         0         0               0            \n",
              "6 0                 0         0         1               0            "
            ]
          },
          "metadata": {}
        }
      ],
      "source": [
        "mydata <- read.csv(\"./df.csv\")\n",
        "## view the first few rows of the data\n",
        "head(mydata)"
      ]
    },
    {
      "cell_type": "code",
      "source": [
        "lapply(df[, c(\"Gender\", \"Age65\", \"BMI\", \"GeneralHealth\", \"CheckupFreq\", \"Exercise\",\n",
        " \"Smoked100\", \"SmokerStatus\", \"StopSmoking\", \"TimeSinceQuitSmk\",\n",
        " \"EverUsedEcig\", \"EcigLevel\", \"HasCTScan\", \"HasChronicDisease\", \"HasAsthma\",\n",
        " \"HadStroke\", \"HadHeartDisease\", \"HasLungCancer\")], table)"
      ],
      "metadata": {
        "id": "VandmUn4Cyjn"
      },
      "execution_count": null,
      "outputs": []
    },
    {
      "cell_type": "code",
      "source": [
        "## three way cross tabs (xtabs) and flatten the table\n",
        "ftable(xtabs(~ Gender+\tAge65+\tBMI+\tGeneralHealth+\tCheckupFreq+\tExercise+\tSmoked100+\tSmokerStatus+\tStopSmoking+\tTimeSinceQuitSmk+\tEverUsedEcig+\tEcigLevel\t+HasCTScan+\tHasChronicDisease+\tHasAsthma+\tHadStroke+\tHadHeartDisease+\tHasLungCancer, data = df))"
      ],
      "metadata": {
        "id": "pcdi8MbQGJzX"
      },
      "execution_count": null,
      "outputs": []
    },
    {
      "cell_type": "code",
      "source": [
        "summary(mydata)"
      ],
      "metadata": {
        "colab": {
          "base_uri": "https://localhost:8080/",
          "height": 712
        },
        "id": "TlbcylXSJX5I",
        "outputId": "46034bbc-2ee6-4adc-e25f-b413eb492826"
      },
      "execution_count": 37,
      "outputs": [
        {
          "output_type": "display_data",
          "data": {
            "text/plain": [
              "     Gender           Age65             BMI        GeneralHealth  \n",
              " Min.   :0.0000   Min.   :0.0000   Min.   :0.000   Min.   :0.000  \n",
              " 1st Qu.:0.0000   1st Qu.:0.0000   1st Qu.:2.000   1st Qu.:2.000  \n",
              " Median :0.0000   Median :0.0000   Median :3.000   Median :2.000  \n",
              " Mean   :0.4623   Mean   :0.3506   Mean   :2.953   Mean   :2.534  \n",
              " 3rd Qu.:1.0000   3rd Qu.:1.0000   3rd Qu.:4.000   3rd Qu.:3.000  \n",
              " Max.   :1.0000   Max.   :4.0000   Max.   :4.000   Max.   :5.000  \n",
              "                                                                  \n",
              "  CheckupFreq      Exercise        Smoked100       SmokerStatus  \n",
              " Min.   :0.00   Min.   :0.0000   Min.   :0.0000   Min.   :0.000  \n",
              " 1st Qu.:1.00   1st Qu.:1.0000   1st Qu.:0.0000   1st Qu.:3.000  \n",
              " Median :1.00   Median :1.0000   Median :0.0000   Median :4.000  \n",
              " Mean   :1.39   Mean   :0.7503   Mean   :0.4246   Mean   :3.329  \n",
              " 3rd Qu.:1.00   3rd Qu.:1.0000   3rd Qu.:1.0000   3rd Qu.:4.000  \n",
              " Max.   :8.00   Max.   :1.0000   Max.   :4.0000   Max.   :4.000  \n",
              " NA's   :2      NA's   :2        NA's   :2        NA's   :2      \n",
              "  StopSmoking      TimeSinceQuitSmk  EverUsedEcig      EcigLevel     \n",
              " Min.   :0.00000   Min.   :0.000    Min.   :0.0000   Min.   :0.0000  \n",
              " 1st Qu.:0.00000   1st Qu.:0.000    1st Qu.:0.0000   1st Qu.:0.0000  \n",
              " Median :0.00000   Median :0.000    Median :0.0000   Median :0.0000  \n",
              " Mean   :0.07858   Mean   :1.722    Mean   :0.1351   Mean   :0.3658  \n",
              " 3rd Qu.:0.00000   3rd Qu.:5.000    3rd Qu.:0.0000   3rd Qu.:0.0000  \n",
              " Max.   :1.00000   Max.   :8.000    Max.   :1.0000   Max.   :3.0000  \n",
              " NA's   :2         NA's   :2        NA's   :2        NA's   :2       \n",
              "   HasCTScan       HasChronicDisease   HasAsthma        HadStroke      \n",
              " Min.   :0.00000   Min.   :0.00000   Min.   :0.0000   Min.   :0.00000  \n",
              " 1st Qu.:0.00000   1st Qu.:0.00000   1st Qu.:0.0000   1st Qu.:0.00000  \n",
              " Median :0.00000   Median :0.00000   Median :0.0000   Median :0.00000  \n",
              " Mean   :0.06122   Mean   :0.08391   Mean   :0.1396   Mean   :0.04199  \n",
              " 3rd Qu.:0.00000   3rd Qu.:0.00000   3rd Qu.:0.0000   3rd Qu.:0.00000  \n",
              " Max.   :3.00000   Max.   :7.00000   Max.   :1.0000   Max.   :1.00000  \n",
              " NA's   :4         NA's   :4         NA's   :4        NA's   :4        \n",
              " HadHeartDisease   HasLungCancer     \n",
              " Min.   :0.00000   Min.   :0.000000  \n",
              " 1st Qu.:0.00000   1st Qu.:0.000000  \n",
              " Median :0.00000   Median :0.000000  \n",
              " Mean   :0.05914   Mean   :0.000613  \n",
              " 3rd Qu.:0.00000   3rd Qu.:0.000000  \n",
              " Max.   :1.00000   Max.   :1.000000  \n",
              " NA's   :4         NA's   :4         "
            ]
          },
          "metadata": {}
        }
      ]
    },
    {
      "cell_type": "code",
      "source": [
        "xtabs(~HasLungCancer + GeneralHealth, data = mydata)"
      ],
      "metadata": {
        "colab": {
          "base_uri": "https://localhost:8080/",
          "height": 86
        },
        "id": "qQchfooXGyVj",
        "outputId": "3e48184c-15db-48d1-b25a-477e7f61146a"
      },
      "execution_count": 38,
      "outputs": [
        {
          "output_type": "display_data",
          "data": {
            "text/plain": [
              "             GeneralHealth\n",
              "HasLungCancer      1      2      3      4      5\n",
              "            0 197110 370955 339915 143585  53011\n",
              "            1     21     96    212    184    164"
            ]
          },
          "metadata": {}
        }
      ]
    },
    {
      "cell_type": "code",
      "source": [
        "mydata$Gender <- factor(mydata$Gender)\n",
        "mydata$Age65 <- factor(mydata$Age65)\n",
        "mydata$BMI <- factor(mydata$BMI)\n",
        "mydata$GeneralHealth <- factor(mydata$GeneralHealth)\n",
        "mydata$CheckupFreq <- factor(mydata$CheckupFreq)\n",
        "mydata$Exercise <- factor(mydata$Exercise)\n",
        "mydata$Smoked100 <- factor(mydata$Smoked100)\n",
        "mydata$SmokerStatus <- factor(mydata$SmokerStatus)\n",
        "mydata$StopSmoking <- factor(mydata$StopSmoking)\n",
        "mydata$TimeSinceQuitSmk <- factor(mydata$TimeSinceQuitSmk)\n",
        "mydata$EverUsedEcig <- factor(mydata$EverUsedEcig)\n",
        "mydata$EcigLevel <- factor(mydata$EcigLevel)\n",
        "mydata$HasCTScan <- factor(mydata$HasCTScan)\n",
        "mydata$HasChronicDisease <- factor(mydata$HasChronicDisease)\n",
        "mydata$HasAsthma <- factor(mydata$HasAsthma)\n",
        "mydata$HadStroke <- factor(mydata$HadStroke)\n",
        "mydata$HadHeartDisease <- factor(mydata$HadHeartDisease)\n",
        "mylogit <- glm(HasLungCancer ~ Gender + Age65 + BMI + GeneralHealth + CheckupFreq + Exercise + Smoked100 + SmokerStatus + StopSmoking + TimeSinceQuitSmk + EverUsedEcig + EcigLevel + HasCTScan + HasChronicDisease + HasAsthma + HadStroke + HadHeartDisease, data = mydata, family = \"binomial\")"
      ],
      "metadata": {
        "colab": {
          "base_uri": "https://localhost:8080/"
        },
        "id": "OTok2x0_Gy8O",
        "outputId": "0622cd7e-34dd-463c-ba28-ff7b15aa3655"
      },
      "execution_count": 42,
      "outputs": [
        {
          "output_type": "stream",
          "name": "stderr",
          "text": [
            "Warning message:\n",
            "“glm.fit: fitted probabilities numerically 0 or 1 occurred”\n"
          ]
        }
      ]
    },
    {
      "cell_type": "code",
      "source": [
        "summary(mylogit)"
      ],
      "metadata": {
        "colab": {
          "base_uri": "https://localhost:8080/",
          "height": 1000
        },
        "id": "QUWdhPVuR0Vn",
        "outputId": "f0ae6741-c242-4451-cf31-1868954975d5"
      },
      "execution_count": 43,
      "outputs": [
        {
          "output_type": "display_data",
          "data": {
            "text/plain": [
              "\n",
              "Call:\n",
              "glm(formula = HasLungCancer ~ Gender + Age65 + BMI + GeneralHealth + \n",
              "    CheckupFreq + Exercise + Smoked100 + SmokerStatus + StopSmoking + \n",
              "    TimeSinceQuitSmk + EverUsedEcig + EcigLevel + HasCTScan + \n",
              "    HasChronicDisease + HasAsthma + HadStroke + HadHeartDisease, \n",
              "    family = \"binomial\", data = mydata)\n",
              "\n",
              "Deviance Residuals: \n",
              "    Min       1Q   Median       3Q      Max  \n",
              "-0.7370  -0.0301  -0.0183  -0.0120   4.5942  \n",
              "\n",
              "Coefficients: (1 not defined because of singularities)\n",
              "                     Estimate Std. Error z value Pr(>|z|)    \n",
              "(Intercept)        -3.656e+10  1.506e+12  -0.024 0.980638    \n",
              "Gender1            -2.150e-01  8.094e-02  -2.657 0.007892 ** \n",
              "Age651              1.032e+00  9.486e-02  10.874  < 2e-16 ***\n",
              "BMI2               -4.465e-01  1.769e-01  -2.524 0.011604 *  \n",
              "BMI3               -7.371e-01  1.806e-01  -4.081 4.49e-05 ***\n",
              "BMI4               -9.818e-01  1.826e-01  -5.376 7.62e-08 ***\n",
              "GeneralHealth2      6.117e-01  2.417e-01   2.531 0.011378 *  \n",
              "GeneralHealth3      1.196e+00  2.319e-01   5.155 2.54e-07 ***\n",
              "GeneralHealth4      1.457e+00  2.383e-01   6.115 9.66e-10 ***\n",
              "GeneralHealth5      1.918e+00  2.450e-01   7.826 5.06e-15 ***\n",
              "CheckupFreq1        3.656e+10  1.506e+12   0.024 0.980638    \n",
              "CheckupFreq2        3.656e+10  1.506e+12   0.024 0.980638    \n",
              "CheckupFreq3        3.656e+10  1.506e+12   0.024 0.980638    \n",
              "CheckupFreq4        3.656e+10  1.506e+12   0.024 0.980638    \n",
              "CheckupFreq5        3.656e+10  1.506e+12   0.024 0.980638    \n",
              "CheckupFreq8        3.656e+10  1.506e+12   0.024 0.980638    \n",
              "Exercise1          -2.772e-01  8.296e-02  -3.341 0.000836 ***\n",
              "Smoked1001         -1.740e+01  6.394e+03  -0.003 0.997829    \n",
              "Smoked1002         -3.353e+01  2.157e+05   0.000 0.999876    \n",
              "Smoked1004          3.656e+10  1.506e+12   0.024 0.980638    \n",
              "SmokerStatus2       2.743e-01  1.904e-01   1.441 0.149717    \n",
              "SmokerStatus3       4.137e-01  5.944e-01   0.696 0.486462    \n",
              "SmokerStatus4      -1.830e+01  6.394e+03  -0.003 0.997716    \n",
              "StopSmoking1       -6.418e-02  1.776e-01  -0.361 0.717800    \n",
              "TimeSinceQuitSmk1  -4.306e-01  7.339e-01  -0.587 0.557321    \n",
              "TimeSinceQuitSmk2  -8.941e-02  7.108e-01  -0.126 0.899903    \n",
              "TimeSinceQuitSmk3  -1.914e-01  7.106e-01  -0.269 0.787697    \n",
              "TimeSinceQuitSmk4   2.408e-01  6.359e-01   0.379 0.704927    \n",
              "TimeSinceQuitSmk5   5.667e-01  5.897e-01   0.961 0.336553    \n",
              "TimeSinceQuitSmk6   2.148e-01  5.974e-01   0.359 0.719222    \n",
              "TimeSinceQuitSmk7  -7.037e-02  5.833e-01  -0.121 0.903977    \n",
              "TimeSinceQuitSmk8  -1.848e+01  6.603e+03  -0.003 0.997768    \n",
              "EverUsedEcig1      -4.415e+00  1.127e+01  -0.392 0.695230    \n",
              "EcigLevel1          4.516e+00  1.127e+01   0.401 0.688722    \n",
              "EcigLevel2          4.504e+00  1.127e+01   0.400 0.689433    \n",
              "EcigLevel3          4.398e+00  1.127e+01   0.390 0.696307    \n",
              "HasCTScan1          2.062e+00  1.242e-01  16.601  < 2e-16 ***\n",
              "HasCTScan3         -8.135e-01  3.365e-01  -2.418 0.015625 *  \n",
              "HasChronicDisease1  1.407e+00  9.216e-02  15.266  < 2e-16 ***\n",
              "HasChronicDisease7         NA         NA      NA       NA    \n",
              "HasAsthma1         -2.658e-01  1.022e-01  -2.602 0.009272 ** \n",
              "HadStroke1         -2.540e-02  1.278e-01  -0.199 0.842491    \n",
              "HadHeartDisease1   -1.680e-02  1.079e-01  -0.156 0.876267    \n",
              "---\n",
              "Signif. codes:  0 ‘***’ 0.001 ‘**’ 0.01 ‘*’ 0.05 ‘.’ 0.1 ‘ ’ 1\n",
              "\n",
              "(Dispersion parameter for binomial family taken to be 1)\n",
              "\n",
              "    Null deviance: 11370.4  on 1105252  degrees of freedom\n",
              "Residual deviance:  9545.1  on 1105211  degrees of freedom\n",
              "  (4 observations deleted due to missingness)\n",
              "AIC: 9629.1\n",
              "\n",
              "Number of Fisher Scoring iterations: 24\n"
            ]
          },
          "metadata": {}
        }
      ]
    },
    {
      "cell_type": "code",
      "source": [
        "## CIs using profiled log-likelihood\n",
        "confint(mylogit)"
      ],
      "metadata": {
        "colab": {
          "base_uri": "https://localhost:8080/"
        },
        "id": "I5puNf71TDyP",
        "outputId": "07b65504-ad5b-480e-8162-0ba697076ec8"
      },
      "execution_count": 44,
      "outputs": [
        {
          "output_type": "stream",
          "name": "stderr",
          "text": [
            "Waiting for profiling to be done...\n",
            "\n",
            "Warning message:\n",
            "“glm.fit: algorithm did not converge”\n",
            "Warning message:\n",
            "“glm.fit: fitted probabilities numerically 0 or 1 occurred”\n",
            "Warning message:\n",
            "“glm.fit: algorithm did not converge”\n",
            "Warning message:\n",
            "“glm.fit: fitted probabilities numerically 0 or 1 occurred”\n",
            "Warning message:\n",
            "“glm.fit: algorithm did not converge”\n",
            "Warning message:\n",
            "“glm.fit: fitted probabilities numerically 0 or 1 occurred”\n",
            "Warning message:\n",
            "“glm.fit: algorithm did not converge”\n",
            "Warning message:\n",
            "“glm.fit: fitted probabilities numerically 0 or 1 occurred”\n",
            "Warning message:\n",
            "“glm.fit: algorithm did not converge”\n",
            "Warning message:\n",
            "“glm.fit: fitted probabilities numerically 0 or 1 occurred”\n",
            "Warning message:\n",
            "“glm.fit: algorithm did not converge”\n",
            "Warning message:\n",
            "“glm.fit: fitted probabilities numerically 0 or 1 occurred”\n",
            "Warning message:\n",
            "“glm.fit: algorithm did not converge”\n",
            "Warning message:\n",
            "“glm.fit: fitted probabilities numerically 0 or 1 occurred”\n"
          ]
        }
      ]
    },
    {
      "cell_type": "code",
      "source": [
        "## CIs using standard errors\n",
        "confint.default(mylogit)"
      ],
      "metadata": {
        "id": "-D7dzVZgTJv8"
      },
      "execution_count": null,
      "outputs": []
    },
    {
      "cell_type": "code",
      "source": [
        "install.packages(\"aod\")\n",
        "install.packages(\"ggplot2\")\n",
        "\n",
        "library(aod)\n",
        "library(ggplot2)"
      ],
      "metadata": {
        "colab": {
          "base_uri": "https://localhost:8080/"
        },
        "id": "b4-51gnmWQLD",
        "outputId": "10a65d4c-d5f2-4d0f-b087-afb77e50c46a"
      },
      "execution_count": 47,
      "outputs": [
        {
          "output_type": "stream",
          "name": "stderr",
          "text": [
            "Installing package into ‘/usr/local/lib/R/site-library’\n",
            "(as ‘lib’ is unspecified)\n",
            "\n"
          ]
        }
      ]
    },
    {
      "cell_type": "code",
      "source": [
        "wald.test(b = coef(mylogit), Sigma = vcov(mylogit), Terms = 4:10)"
      ],
      "metadata": {
        "colab": {
          "base_uri": "https://localhost:8080/",
          "height": 183
        },
        "id": "6xyM9cl6WAjy",
        "outputId": "005a7e59-87ff-46a4-e068-6a1c0ebc8526"
      },
      "execution_count": 51,
      "outputs": [
        {
          "output_type": "error",
          "ename": "ERROR",
          "evalue": "ignored",
          "traceback": [
            "Error in qr.default(a, tol = tol): NA/NaN/Inf in foreign function call (arg 1)\nTraceback:\n",
            "1. wald.test(b = coef(mylogit), Sigma = vcov(mylogit), Terms = 4:10)",
            "2. qr.solve(L %*% V %*% t(L))",
            "3. qr(a, tol = tol)",
            "4. qr.default(a, tol = tol)"
          ]
        }
      ]
    },
    {
      "cell_type": "code",
      "source": [
        "## odds ratios only\n",
        "exp(coef(mylogit))"
      ],
      "metadata": {
        "colab": {
          "base_uri": "https://localhost:8080/",
          "height": 121
        },
        "id": "yWcihj-NXgFf",
        "outputId": "f36181b0-e2f3-47fd-8f4a-86f5d7671b73"
      },
      "execution_count": 52,
      "outputs": [
        {
          "output_type": "display_data",
          "data": {
            "text/html": [
              "<style>\n",
              ".dl-inline {width: auto; margin:0; padding: 0}\n",
              ".dl-inline>dt, .dl-inline>dd {float: none; width: auto; display: inline-block}\n",
              ".dl-inline>dt::after {content: \":\\0020\"; padding-right: .5ex}\n",
              ".dl-inline>dt:not(:first-of-type) {padding-left: .5ex}\n",
              "</style><dl class=dl-inline><dt>(Intercept)</dt><dd>0</dd><dt>Gender1</dt><dd>0.806524983674705</dd><dt>Age651</dt><dd>2.80543398840621</dd><dt>BMI2</dt><dd>0.639882738202931</dd><dt>BMI3</dt><dd>0.478519131088767</dd><dt>BMI4</dt><dd>0.374652445132923</dd><dt>GeneralHealth2</dt><dd>1.84346247674133</dd><dt>GeneralHealth3</dt><dd>3.3058253415426</dd><dt>GeneralHealth4</dt><dd>4.29310926780811</dd><dt>GeneralHealth5</dt><dd>6.80420850706917</dd><dt>CheckupFreq1</dt><dd>Inf</dd><dt>CheckupFreq2</dt><dd>Inf</dd><dt>CheckupFreq3</dt><dd>Inf</dd><dt>CheckupFreq4</dt><dd>Inf</dd><dt>CheckupFreq5</dt><dd>Inf</dd><dt>CheckupFreq8</dt><dd>Inf</dd><dt>Exercise1</dt><dd>0.757943182171383</dd><dt>Smoked1001</dt><dd>2.78078114095514e-08</dd><dt>Smoked1002</dt><dd>2.7441829063475e-15</dd><dt>Smoked1004</dt><dd>Inf</dd><dt>SmokerStatus2</dt><dd>1.31557711968917</dd><dt>SmokerStatus3</dt><dd>1.51238891176808</dd><dt>SmokerStatus4</dt><dd>1.12350085323917e-08</dd><dt>StopSmoking1</dt><dd>0.937835961525175</dd><dt>TimeSinceQuitSmk1</dt><dd>0.650093462713155</dd><dt>TimeSinceQuitSmk2</dt><dd>0.914468306782833</dd><dt>TimeSinceQuitSmk3</dt><dd>0.825823216588528</dd><dt>TimeSinceQuitSmk4</dt><dd>1.27227982383028</dd><dt>TimeSinceQuitSmk5</dt><dd>1.76251002706044</dd><dt>TimeSinceQuitSmk6</dt><dd>1.23955854147745</dd><dt>TimeSinceQuitSmk7</dt><dd>0.93204975240007</dd><dt>TimeSinceQuitSmk8</dt><dd>9.46677258656741e-09</dd><dt>EverUsedEcig1</dt><dd>0.012099455151169</dd><dt>EcigLevel1</dt><dd>91.4344002020322</dd><dt>EcigLevel2</dt><dd>90.4212565002478</dd><dt>EcigLevel3</dt><dd>81.2978109646741</dd><dt>HasCTScan1</dt><dd>7.86129676108218</dd><dt>HasCTScan3</dt><dd>0.443322543492263</dd><dt>HasChronicDisease1</dt><dd>4.08328787616759</dd><dt>HasChronicDisease7</dt><dd>&lt;NA&gt;</dd><dt>HasAsthma1</dt><dd>0.766611038979973</dd><dt>HadStroke1</dt><dd>0.974918945845154</dd><dt>HadHeartDisease1</dt><dd>0.983344863018605</dd></dl>\n"
            ],
            "text/markdown": "(Intercept)\n:   0Gender1\n:   0.806524983674705Age651\n:   2.80543398840621BMI2\n:   0.639882738202931BMI3\n:   0.478519131088767BMI4\n:   0.374652445132923GeneralHealth2\n:   1.84346247674133GeneralHealth3\n:   3.3058253415426GeneralHealth4\n:   4.29310926780811GeneralHealth5\n:   6.80420850706917CheckupFreq1\n:   InfCheckupFreq2\n:   InfCheckupFreq3\n:   InfCheckupFreq4\n:   InfCheckupFreq5\n:   InfCheckupFreq8\n:   InfExercise1\n:   0.757943182171383Smoked1001\n:   2.78078114095514e-08Smoked1002\n:   2.7441829063475e-15Smoked1004\n:   InfSmokerStatus2\n:   1.31557711968917SmokerStatus3\n:   1.51238891176808SmokerStatus4\n:   1.12350085323917e-08StopSmoking1\n:   0.937835961525175TimeSinceQuitSmk1\n:   0.650093462713155TimeSinceQuitSmk2\n:   0.914468306782833TimeSinceQuitSmk3\n:   0.825823216588528TimeSinceQuitSmk4\n:   1.27227982383028TimeSinceQuitSmk5\n:   1.76251002706044TimeSinceQuitSmk6\n:   1.23955854147745TimeSinceQuitSmk7\n:   0.93204975240007TimeSinceQuitSmk8\n:   9.46677258656741e-09EverUsedEcig1\n:   0.012099455151169EcigLevel1\n:   91.4344002020322EcigLevel2\n:   90.4212565002478EcigLevel3\n:   81.2978109646741HasCTScan1\n:   7.86129676108218HasCTScan3\n:   0.443322543492263HasChronicDisease1\n:   4.08328787616759HasChronicDisease7\n:   &lt;NA&gt;HasAsthma1\n:   0.766611038979973HadStroke1\n:   0.974918945845154HadHeartDisease1\n:   0.983344863018605\n\n",
            "text/latex": "\\begin{description*}\n\\item[(Intercept)] 0\n\\item[Gender1] 0.806524983674705\n\\item[Age651] 2.80543398840621\n\\item[BMI2] 0.639882738202931\n\\item[BMI3] 0.478519131088767\n\\item[BMI4] 0.374652445132923\n\\item[GeneralHealth2] 1.84346247674133\n\\item[GeneralHealth3] 3.3058253415426\n\\item[GeneralHealth4] 4.29310926780811\n\\item[GeneralHealth5] 6.80420850706917\n\\item[CheckupFreq1] Inf\n\\item[CheckupFreq2] Inf\n\\item[CheckupFreq3] Inf\n\\item[CheckupFreq4] Inf\n\\item[CheckupFreq5] Inf\n\\item[CheckupFreq8] Inf\n\\item[Exercise1] 0.757943182171383\n\\item[Smoked1001] 2.78078114095514e-08\n\\item[Smoked1002] 2.7441829063475e-15\n\\item[Smoked1004] Inf\n\\item[SmokerStatus2] 1.31557711968917\n\\item[SmokerStatus3] 1.51238891176808\n\\item[SmokerStatus4] 1.12350085323917e-08\n\\item[StopSmoking1] 0.937835961525175\n\\item[TimeSinceQuitSmk1] 0.650093462713155\n\\item[TimeSinceQuitSmk2] 0.914468306782833\n\\item[TimeSinceQuitSmk3] 0.825823216588528\n\\item[TimeSinceQuitSmk4] 1.27227982383028\n\\item[TimeSinceQuitSmk5] 1.76251002706044\n\\item[TimeSinceQuitSmk6] 1.23955854147745\n\\item[TimeSinceQuitSmk7] 0.93204975240007\n\\item[TimeSinceQuitSmk8] 9.46677258656741e-09\n\\item[EverUsedEcig1] 0.012099455151169\n\\item[EcigLevel1] 91.4344002020322\n\\item[EcigLevel2] 90.4212565002478\n\\item[EcigLevel3] 81.2978109646741\n\\item[HasCTScan1] 7.86129676108218\n\\item[HasCTScan3] 0.443322543492263\n\\item[HasChronicDisease1] 4.08328787616759\n\\item[HasChronicDisease7] <NA>\n\\item[HasAsthma1] 0.766611038979973\n\\item[HadStroke1] 0.974918945845154\n\\item[HadHeartDisease1] 0.983344863018605\n\\end{description*}\n",
            "text/plain": [
              "       (Intercept)            Gender1             Age651               BMI2 \n",
              "      0.000000e+00       8.065250e-01       2.805434e+00       6.398827e-01 \n",
              "              BMI3               BMI4     GeneralHealth2     GeneralHealth3 \n",
              "      4.785191e-01       3.746524e-01       1.843462e+00       3.305825e+00 \n",
              "    GeneralHealth4     GeneralHealth5       CheckupFreq1       CheckupFreq2 \n",
              "      4.293109e+00       6.804209e+00                Inf                Inf \n",
              "      CheckupFreq3       CheckupFreq4       CheckupFreq5       CheckupFreq8 \n",
              "               Inf                Inf                Inf                Inf \n",
              "         Exercise1         Smoked1001         Smoked1002         Smoked1004 \n",
              "      7.579432e-01       2.780781e-08       2.744183e-15                Inf \n",
              "     SmokerStatus2      SmokerStatus3      SmokerStatus4       StopSmoking1 \n",
              "      1.315577e+00       1.512389e+00       1.123501e-08       9.378360e-01 \n",
              " TimeSinceQuitSmk1  TimeSinceQuitSmk2  TimeSinceQuitSmk3  TimeSinceQuitSmk4 \n",
              "      6.500935e-01       9.144683e-01       8.258232e-01       1.272280e+00 \n",
              " TimeSinceQuitSmk5  TimeSinceQuitSmk6  TimeSinceQuitSmk7  TimeSinceQuitSmk8 \n",
              "      1.762510e+00       1.239559e+00       9.320498e-01       9.466773e-09 \n",
              "     EverUsedEcig1         EcigLevel1         EcigLevel2         EcigLevel3 \n",
              "      1.209946e-02       9.143440e+01       9.042126e+01       8.129781e+01 \n",
              "        HasCTScan1         HasCTScan3 HasChronicDisease1 HasChronicDisease7 \n",
              "      7.861297e+00       4.433225e-01       4.083288e+00                 NA \n",
              "        HasAsthma1         HadStroke1   HadHeartDisease1 \n",
              "      7.666110e-01       9.749189e-01       9.833449e-01 "
            ]
          },
          "metadata": {}
        }
      ]
    },
    {
      "cell_type": "code",
      "source": [
        "## odds ratios and 95% CI\n",
        "exp(cbind(OR = coef(mylogit), confint(mylogit)))"
      ],
      "metadata": {
        "colab": {
          "base_uri": "https://localhost:8080/"
        },
        "id": "Kd0a711-X1Ql",
        "outputId": "0ae52bdd-efcb-491c-fa4b-4b7f7a17299e"
      },
      "execution_count": 53,
      "outputs": [
        {
          "output_type": "stream",
          "name": "stderr",
          "text": [
            "Waiting for profiling to be done...\n",
            "\n",
            "Warning message:\n",
            "“glm.fit: algorithm did not converge”\n",
            "Warning message:\n",
            "“glm.fit: fitted probabilities numerically 0 or 1 occurred”\n",
            "Warning message:\n",
            "“glm.fit: algorithm did not converge”\n",
            "Warning message:\n",
            "“glm.fit: fitted probabilities numerically 0 or 1 occurred”\n",
            "Warning message:\n",
            "“glm.fit: algorithm did not converge”\n",
            "Warning message:\n",
            "“glm.fit: fitted probabilities numerically 0 or 1 occurred”\n",
            "Warning message:\n",
            "“glm.fit: algorithm did not converge”\n",
            "Warning message:\n",
            "“glm.fit: fitted probabilities numerically 0 or 1 occurred”\n",
            "Warning message:\n",
            "“glm.fit: algorithm did not converge”\n",
            "Warning message:\n",
            "“glm.fit: fitted probabilities numerically 0 or 1 occurred”\n",
            "Warning message:\n",
            "“glm.fit: algorithm did not converge”\n",
            "Warning message:\n",
            "“glm.fit: fitted probabilities numerically 0 or 1 occurred”\n",
            "Warning message:\n",
            "“glm.fit: algorithm did not converge”\n",
            "Warning message:\n",
            "“glm.fit: fitted probabilities numerically 0 or 1 occurred”\n",
            "Warning message:\n",
            "“glm.fit: fitted probabilities numerically 0 or 1 occurred”\n",
            "Warning message:\n",
            "“glm.fit: fitted probabilities numerically 0 or 1 occurred”\n",
            "Warning message:\n",
            "“glm.fit: fitted probabilities numerically 0 or 1 occurred”\n",
            "Warning message:\n",
            "“glm.fit: fitted probabilities numerically 0 or 1 occurred”\n",
            "Warning message:\n",
            "“glm.fit: fitted probabilities numerically 0 or 1 occurred”\n",
            "Warning message:\n",
            "“glm.fit: fitted probabilities numerically 0 or 1 occurred”\n",
            "Warning message:\n",
            "“glm.fit: fitted probabilities numerically 0 or 1 occurred”\n",
            "Warning message:\n",
            "“glm.fit: fitted probabilities numerically 0 or 1 occurred”\n",
            "Warning message:\n",
            "“glm.fit: fitted probabilities numerically 0 or 1 occurred”\n",
            "Warning message:\n",
            "“glm.fit: fitted probabilities numerically 0 or 1 occurred”\n",
            "Warning message:\n",
            "“glm.fit: fitted probabilities numerically 0 or 1 occurred”\n",
            "Warning message:\n",
            "“glm.fit: fitted probabilities numerically 0 or 1 occurred”\n",
            "Warning message:\n",
            "“glm.fit: fitted probabilities numerically 0 or 1 occurred”\n",
            "Warning message:\n",
            "“glm.fit: fitted probabilities numerically 0 or 1 occurred”\n",
            "Warning message:\n",
            "“glm.fit: fitted probabilities numerically 0 or 1 occurred”\n",
            "Warning message:\n",
            "“glm.fit: fitted probabilities numerically 0 or 1 occurred”\n",
            "Warning message:\n",
            "“glm.fit: fitted probabilities numerically 0 or 1 occurred”\n",
            "Warning message:\n",
            "“glm.fit: fitted probabilities numerically 0 or 1 occurred”\n",
            "Warning message:\n",
            "“glm.fit: fitted probabilities numerically 0 or 1 occurred”\n",
            "Warning message:\n",
            "“glm.fit: fitted probabilities numerically 0 or 1 occurred”\n",
            "Warning message:\n",
            "“glm.fit: fitted probabilities numerically 0 or 1 occurred”\n",
            "Warning message:\n",
            "“glm.fit: fitted probabilities numerically 0 or 1 occurred”\n",
            "Warning message:\n",
            "“glm.fit: fitted probabilities numerically 0 or 1 occurred”\n",
            "Warning message:\n",
            "“glm.fit: fitted probabilities numerically 0 or 1 occurred”\n",
            "Warning message:\n",
            "“glm.fit: fitted probabilities numerically 0 or 1 occurred”\n",
            "Warning message:\n",
            "“glm.fit: fitted probabilities numerically 0 or 1 occurred”\n",
            "Warning message:\n",
            "“glm.fit: fitted probabilities numerically 0 or 1 occurred”\n",
            "Warning message:\n",
            "“glm.fit: fitted probabilities numerically 0 or 1 occurred”\n",
            "Warning message:\n",
            "“glm.fit: fitted probabilities numerically 0 or 1 occurred”\n",
            "Warning message:\n",
            "“glm.fit: fitted probabilities numerically 0 or 1 occurred”\n",
            "Warning message:\n",
            "“glm.fit: fitted probabilities numerically 0 or 1 occurred”\n",
            "Warning message:\n",
            "“glm.fit: fitted probabilities numerically 0 or 1 occurred”\n",
            "Warning message:\n",
            "“glm.fit: fitted probabilities numerically 0 or 1 occurred”\n",
            "Warning message:\n",
            "“glm.fit: fitted probabilities numerically 0 or 1 occurred”\n",
            "Warning message:\n",
            "“glm.fit: fitted probabilities numerically 0 or 1 occurred”\n",
            "Warning message:\n",
            "“glm.fit: fitted probabilities numerically 0 or 1 occurred”\n",
            "Warning message:\n",
            "“glm.fit: fitted probabilities numerically 0 or 1 occurred”\n",
            "Warning message:\n",
            "“glm.fit: fitted probabilities numerically 0 or 1 occurred”\n",
            "Warning message:\n",
            "“glm.fit: fitted probabilities numerically 0 or 1 occurred”\n",
            "Warning message:\n",
            "“glm.fit: fitted probabilities numerically 0 or 1 occurred”\n",
            "Warning message:\n",
            "“glm.fit: fitted probabilities numerically 0 or 1 occurred”\n",
            "Warning message:\n",
            "“glm.fit: fitted probabilities numerically 0 or 1 occurred”\n"
          ]
        }
      ]
    }
  ]
}