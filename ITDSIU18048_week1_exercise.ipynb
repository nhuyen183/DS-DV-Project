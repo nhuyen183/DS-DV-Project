{
  "nbformat": 4,
  "nbformat_minor": 0,
  "metadata": {
    "colab": {
      "provenance": [],
      "collapsed_sections": [],
      "include_colab_link": true
    },
    "kernelspec": {
      "name": "python3",
      "display_name": "Python 3"
    },
    "language_info": {
      "name": "python"
    }
  },
  "cells": [
    {
      "cell_type": "markdown",
      "metadata": {
        "id": "view-in-github",
        "colab_type": "text"
      },
      "source": [
        "<a href=\"https://colab.research.google.com/github/nhuyen183/DS-DV-Project/blob/master/ITDSIU18048_week1_exercise.ipynb\" target=\"_parent\"><img src=\"https://colab.research.google.com/assets/colab-badge.svg\" alt=\"Open In Colab\"/></a>"
      ]
    },
    {
      "cell_type": "markdown",
      "metadata": {
        "id": "Hv7qWVkz6THJ"
      },
      "source": [
        "1) Using `bash` to clone the file `cat_to_name.json` from [here](https://github.com/udacity/pytorch_challenge/raw/master/cat_to_name.json) , check if it exists and print out content of this file in the notebook"
      ]
    },
    {
      "cell_type": "code",
      "metadata": {
        "id": "vk2hiRg264VU",
        "outputId": "9a299aab-f630-4d0d-b498-f692c6ae9208",
        "colab": {
          "base_uri": "https://localhost:8080/"
        }
      },
      "source": [
        "!pwd"
      ],
      "execution_count": 1,
      "outputs": [
        {
          "output_type": "stream",
          "name": "stdout",
          "text": [
            "/content\n"
          ]
        }
      ]
    },
    {
      "cell_type": "code",
      "source": [
        "cd sample_data/"
      ],
      "metadata": {
        "id": "MW5AvfuP7UZ0",
        "outputId": "08d043b7-aace-4623-c34e-3553872ec7db",
        "colab": {
          "base_uri": "https://localhost:8080/"
        }
      },
      "execution_count": 2,
      "outputs": [
        {
          "output_type": "stream",
          "name": "stdout",
          "text": [
            "/content/sample_data\n"
          ]
        }
      ]
    },
    {
      "cell_type": "code",
      "source": [
        "!ls"
      ],
      "metadata": {
        "id": "_RUdtb2Y7Yr4",
        "outputId": "53d7ae38-ac0d-41e8-b7b9-b657572f99e4",
        "colab": {
          "base_uri": "https://localhost:8080/"
        }
      },
      "execution_count": 3,
      "outputs": [
        {
          "output_type": "stream",
          "name": "stdout",
          "text": [
            "anscombe.json\t\t      mnist_test.csv\n",
            "california_housing_test.csv   mnist_train_small.csv\n",
            "california_housing_train.csv  README.md\n"
          ]
        }
      ]
    },
    {
      "cell_type": "code",
      "source": [
        "!cat README.md"
      ],
      "metadata": {
        "id": "LisWfcDM7Z1a",
        "outputId": "804d357b-085b-4c20-f096-e814ab78e132",
        "colab": {
          "base_uri": "https://localhost:8080/"
        }
      },
      "execution_count": 4,
      "outputs": [
        {
          "output_type": "stream",
          "name": "stdout",
          "text": [
            "This directory includes a few sample datasets to get you started.\n",
            "\n",
            "*   `california_housing_data*.csv` is California housing data from the 1990 US\n",
            "    Census; more information is available at:\n",
            "    https://developers.google.com/machine-learning/crash-course/california-housing-data-description\n",
            "\n",
            "*   `mnist_*.csv` is a small sample of the\n",
            "    [MNIST database](https://en.wikipedia.org/wiki/MNIST_database), which is\n",
            "    described at: http://yann.lecun.com/exdb/mnist/\n",
            "\n",
            "*   `anscombe.json` contains a copy of\n",
            "    [Anscombe's quartet](https://en.wikipedia.org/wiki/Anscombe%27s_quartet); it\n",
            "    was originally described in\n",
            "\n",
            "    Anscombe, F. J. (1973). 'Graphs in Statistical Analysis'. American\n",
            "    Statistician. 27 (1): 17-21. JSTOR 2682899.\n",
            "\n",
            "    and our copy was prepared by the\n",
            "    [vega_datasets library](https://github.com/altair-viz/vega_datasets/blob/4f67bdaad10f45e3549984e17e1b3088c731503d/vega_datasets/_data/anscombe.json).\n"
          ]
        }
      ]
    },
    {
      "cell_type": "code",
      "source": [
        "#Using bash to clone the file cat_to_name.json\n",
        "!git clone \"https://github.com/udacity/pytorch_challenge.git\""
      ],
      "metadata": {
        "id": "tvsXIiQt7dkj",
        "outputId": "47fdc124-0642-4ead-e20d-8d9e37750fb4",
        "colab": {
          "base_uri": "https://localhost:8080/"
        }
      },
      "execution_count": 5,
      "outputs": [
        {
          "output_type": "stream",
          "name": "stdout",
          "text": [
            "Cloning into 'pytorch_challenge'...\n",
            "remote: Enumerating objects: 13, done.\u001b[K\n",
            "remote: Counting objects: 100% (3/3), done.\u001b[K\n",
            "remote: Compressing objects: 100% (3/3), done.\u001b[K\n",
            "remote: Total 13 (delta 0), reused 0 (delta 0), pack-reused 10\u001b[K\n",
            "Unpacking objects: 100% (13/13), done.\n"
          ]
        }
      ]
    },
    {
      "cell_type": "code",
      "source": [
        "#check if it exists\n",
        "!ls"
      ],
      "metadata": {
        "id": "s3Vke8wN7n4p",
        "outputId": "6ca38839-2b9e-40e0-b806-a2be6e54a1a4",
        "colab": {
          "base_uri": "https://localhost:8080/"
        }
      },
      "execution_count": 6,
      "outputs": [
        {
          "output_type": "stream",
          "name": "stdout",
          "text": [
            "anscombe.json\t\t      mnist_test.csv\t     README.md\n",
            "california_housing_test.csv   mnist_train_small.csv\n",
            "california_housing_train.csv  pytorch_challenge\n"
          ]
        }
      ]
    },
    {
      "cell_type": "code",
      "source": [
        "cd pytorch_challenge/"
      ],
      "metadata": {
        "id": "aUiXhGVJ7pYB",
        "outputId": "ecfea1db-32dd-4145-be9c-91d2b1dbc09a",
        "colab": {
          "base_uri": "https://localhost:8080/"
        }
      },
      "execution_count": 9,
      "outputs": [
        {
          "output_type": "stream",
          "name": "stdout",
          "text": [
            "/content/sample_data/pytorch_challenge\n"
          ]
        }
      ]
    },
    {
      "cell_type": "code",
      "source": [
        "!cat cat_to_name.json"
      ],
      "metadata": {
        "id": "8s6MEKH57syv",
        "outputId": "dd6c5c30-a380-4cb6-da43-f8c9f73b60b8",
        "colab": {
          "base_uri": "https://localhost:8080/"
        }
      },
      "execution_count": 11,
      "outputs": [
        {
          "output_type": "stream",
          "name": "stdout",
          "text": [
            "{\"21\": \"fire lily\", \"3\": \"canterbury bells\", \"45\": \"bolero deep blue\", \"1\": \"pink primrose\", \"34\": \"mexican aster\", \"27\": \"prince of wales feathers\", \"7\": \"moon orchid\", \"16\": \"globe-flower\", \"25\": \"grape hyacinth\", \"26\": \"corn poppy\", \"79\": \"toad lily\", \"39\": \"siam tulip\", \"24\": \"red ginger\", \"67\": \"spring crocus\", \"35\": \"alpine sea holly\", \"32\": \"garden phlox\", \"10\": \"globe thistle\", \"6\": \"tiger lily\", \"93\": \"ball moss\", \"33\": \"love in the mist\", \"9\": \"monkshood\", \"102\": \"blackberry lily\", \"14\": \"spear thistle\", \"19\": \"balloon flower\", \"100\": \"blanket flower\", \"13\": \"king protea\", \"49\": \"oxeye daisy\", \"15\": \"yellow iris\", \"61\": \"cautleya spicata\", \"31\": \"carnation\", \"64\": \"silverbush\", \"68\": \"bearded iris\", \"63\": \"black-eyed susan\", \"69\": \"windflower\", \"62\": \"japanese anemone\", \"20\": \"giant white arum lily\", \"38\": \"great masterwort\", \"4\": \"sweet pea\", \"86\": \"tree mallow\", \"101\": \"trumpet creeper\", \"42\": \"daffodil\", \"22\": \"pincushion flower\", \"2\": \"hard-leaved pocket orchid\", \"54\": \"sunflower\", \"66\": \"osteospermum\", \"70\": \"tree poppy\", \"85\": \"desert-rose\", \"99\": \"bromelia\", \"87\": \"magnolia\", \"5\": \"english marigold\", \"92\": \"bee balm\", \"28\": \"stemless gentian\", \"97\": \"mallow\", \"57\": \"gaura\", \"40\": \"lenten rose\", \"47\": \"marigold\", \"59\": \"orange dahlia\", \"48\": \"buttercup\", \"55\": \"pelargonium\", \"36\": \"ruby-lipped cattleya\", \"91\": \"hippeastrum\", \"29\": \"artichoke\", \"71\": \"gazania\", \"90\": \"canna lily\", \"18\": \"peruvian lily\", \"98\": \"mexican petunia\", \"8\": \"bird of paradise\", \"30\": \"sweet william\", \"17\": \"purple coneflower\", \"52\": \"wild pansy\", \"84\": \"columbine\", \"12\": \"colt's foot\", \"11\": \"snapdragon\", \"96\": \"camellia\", \"23\": \"fritillary\", \"50\": \"common dandelion\", \"44\": \"poinsettia\", \"53\": \"primula\", \"72\": \"azalea\", \"65\": \"californian poppy\", \"80\": \"anthurium\", \"76\": \"morning glory\", \"37\": \"cape flower\", \"56\": \"bishop of llandaff\", \"60\": \"pink-yellow dahlia\", \"82\": \"clematis\", \"58\": \"geranium\", \"75\": \"thorn apple\", \"41\": \"barbeton daisy\", \"95\": \"bougainvillea\", \"43\": \"sword lily\", \"83\": \"hibiscus\", \"78\": \"lotus lotus\", \"88\": \"cyclamen\", \"94\": \"foxglove\", \"81\": \"frangipani\", \"74\": \"rose\", \"89\": \"watercress\", \"73\": \"water lily\", \"46\": \"wallflower\", \"77\": \"passion flower\", \"51\": \"petunia\"}"
          ]
        }
      ]
    },
    {
      "cell_type": "markdown",
      "metadata": {
        "id": "vlb8huNy7Mke"
      },
      "source": [
        "2) Clone the data from [here](https://s3.amazonaws.com/content.udacity-data.com/nd089/flower_data.tar.gz) , then upzip it and remove the original file"
      ]
    },
    {
      "cell_type": "code",
      "metadata": {
        "id": "ptvJK-jo8CMO",
        "outputId": "b512f904-392d-4b97-f950-8e708d89c893",
        "colab": {
          "base_uri": "https://localhost:8080/"
        }
      },
      "source": [
        "!wget \"https://s3.amazonaws.com/content.udacity-data.com/nd089/flower_data.tar.gz\""
      ],
      "execution_count": 12,
      "outputs": [
        {
          "output_type": "stream",
          "name": "stdout",
          "text": [
            "--2022-10-25 16:17:54--  https://s3.amazonaws.com/content.udacity-data.com/nd089/flower_data.tar.gz\n",
            "Resolving s3.amazonaws.com (s3.amazonaws.com)... 52.217.44.222\n",
            "Connecting to s3.amazonaws.com (s3.amazonaws.com)|52.217.44.222|:443... connected.\n",
            "HTTP request sent, awaiting response... 200 OK\n",
            "Length: 344873452 (329M) [application/x-gzip]\n",
            "Saving to: ‘flower_data.tar.gz’\n",
            "\n",
            "flower_data.tar.gz  100%[===================>] 328.90M  70.8MB/s    in 5.1s    \n",
            "\n",
            "2022-10-25 16:18:00 (64.5 MB/s) - ‘flower_data.tar.gz’ saved [344873452/344873452]\n",
            "\n"
          ]
        }
      ]
    },
    {
      "cell_type": "code",
      "source": [
        "!ls"
      ],
      "metadata": {
        "id": "LQuqiq3Q77D0",
        "outputId": "c963fe99-d8c1-4eac-cf32-c386664ca533",
        "colab": {
          "base_uri": "https://localhost:8080/"
        }
      },
      "execution_count": 13,
      "outputs": [
        {
          "output_type": "stream",
          "name": "stdout",
          "text": [
            " assets\t\t    flower_data.tar.gz\t\t      README.md\n",
            " cat_to_name.json  'Image Classifier Project.ipynb'\n"
          ]
        }
      ]
    },
    {
      "cell_type": "code",
      "source": [
        "!gzip -d flower_data.tar.gz"
      ],
      "metadata": {
        "id": "z-VEnV0o8DTM"
      },
      "execution_count": 19,
      "outputs": []
    },
    {
      "cell_type": "code",
      "source": [
        "!ls"
      ],
      "metadata": {
        "id": "lLRzvEAH8dB_",
        "outputId": "ffd0c10e-8edc-4423-a586-1d62a471ccd4",
        "colab": {
          "base_uri": "https://localhost:8080/"
        }
      },
      "execution_count": 23,
      "outputs": [
        {
          "output_type": "stream",
          "name": "stdout",
          "text": [
            " assets\t\t    flower_data.tar\t\t      README.md   train\n",
            " cat_to_name.json  'Image Classifier Project.ipynb'   test\t  valid\n"
          ]
        }
      ]
    },
    {
      "cell_type": "code",
      "source": [
        "!rm flower_data.tar"
      ],
      "metadata": {
        "id": "gdfThj8R9abP"
      },
      "execution_count": 24,
      "outputs": []
    },
    {
      "cell_type": "code",
      "source": [
        "!ls"
      ],
      "metadata": {
        "id": "IdnH_ohk9eRT",
        "outputId": "2b312848-ac7c-47a5-d8ab-045dae2f7180",
        "colab": {
          "base_uri": "https://localhost:8080/"
        }
      },
      "execution_count": 25,
      "outputs": [
        {
          "output_type": "stream",
          "name": "stdout",
          "text": [
            " assets\t\t   'Image Classifier Project.ipynb'   test    valid\n",
            " cat_to_name.json   README.md\t\t\t      train\n"
          ]
        }
      ]
    },
    {
      "cell_type": "markdown",
      "metadata": {
        "id": "rtkz6LWh8Nc0"
      },
      "source": [
        "3) Create a new folder named `newbie`, copy a file in `sample_data` to `newbie`. Then go to `newbie`, create a folder `next_newbie`, and copy the file in `newbie` to `next_newbie`. Jump into `next_newbie`, remove the file in `newbie`. Stand in `next_newbie`, list out the list of file in detail in `sample_data`"
      ]
    },
    {
      "cell_type": "code",
      "metadata": {
        "id": "iy_93Hdu9NcH",
        "outputId": "76d088e9-b2a2-48b6-c0ed-a9901de6cdb3",
        "colab": {
          "base_uri": "https://localhost:8080/"
        }
      },
      "source": [
        "%cd /content/sample_data"
      ],
      "execution_count": 44,
      "outputs": [
        {
          "output_type": "stream",
          "name": "stdout",
          "text": [
            "/content/sample_data\n"
          ]
        }
      ]
    },
    {
      "cell_type": "code",
      "source": [
        "!ls"
      ],
      "metadata": {
        "id": "wkx4UHDX919k",
        "outputId": "12790e4e-0d04-4b0c-e9b5-38684364097d",
        "colab": {
          "base_uri": "https://localhost:8080/"
        }
      },
      "execution_count": 45,
      "outputs": [
        {
          "output_type": "stream",
          "name": "stdout",
          "text": [
            "anscombe.json\t\t      mnist_test.csv\t     README.md\n",
            "california_housing_test.csv   mnist_train_small.csv\n",
            "california_housing_train.csv  pytorch_challenge\n"
          ]
        }
      ]
    },
    {
      "cell_type": "code",
      "source": [
        "!mkdir newbie"
      ],
      "metadata": {
        "id": "xHKGEtlx-N-p"
      },
      "execution_count": 46,
      "outputs": []
    },
    {
      "cell_type": "code",
      "source": [
        "%cd /content/sample_data/newbie"
      ],
      "metadata": {
        "id": "IfMTpgy2-RLI",
        "outputId": "2db3970e-0acc-4a3e-8e10-2a75bb254192",
        "colab": {
          "base_uri": "https://localhost:8080/"
        }
      },
      "execution_count": 47,
      "outputs": [
        {
          "output_type": "stream",
          "name": "stdout",
          "text": [
            "/content/sample_data/newbie\n"
          ]
        }
      ]
    },
    {
      "cell_type": "code",
      "source": [
        "!cp /content/sample_data/mnist_test.csv /content/sample_data/newbie"
      ],
      "metadata": {
        "id": "hXjctJyq-aDR"
      },
      "execution_count": 49,
      "outputs": []
    },
    {
      "cell_type": "code",
      "source": [
        "!ls"
      ],
      "metadata": {
        "id": "e0ZaCgIA-hRS",
        "outputId": "693dd507-12da-46b3-dee8-d18c4e188a16",
        "colab": {
          "base_uri": "https://localhost:8080/"
        }
      },
      "execution_count": 50,
      "outputs": [
        {
          "output_type": "stream",
          "name": "stdout",
          "text": [
            "mnist_test.csv\n"
          ]
        }
      ]
    },
    {
      "cell_type": "code",
      "source": [
        "!mkdir next_newbie"
      ],
      "metadata": {
        "id": "E4SD0BSl-kp0"
      },
      "execution_count": 51,
      "outputs": []
    },
    {
      "cell_type": "code",
      "source": [
        "%cd /content/sample_data/newbie/next_newbie"
      ],
      "metadata": {
        "id": "Hrj6uhE_-n4V",
        "outputId": "1a143b51-4f66-4332-aa0d-7d0991beff6e",
        "colab": {
          "base_uri": "https://localhost:8080/"
        }
      },
      "execution_count": 52,
      "outputs": [
        {
          "output_type": "stream",
          "name": "stdout",
          "text": [
            "/content/sample_data/newbie/next_newbie\n"
          ]
        }
      ]
    },
    {
      "cell_type": "code",
      "source": [
        "!cp /content/sample_data/newbie/mnist_test.csv /content/sample_data/newbie/next_newbie"
      ],
      "metadata": {
        "id": "R89S-xXx-qSv"
      },
      "execution_count": 53,
      "outputs": []
    },
    {
      "cell_type": "code",
      "source": [
        "!ls"
      ],
      "metadata": {
        "id": "lsbTCf3X-vAN",
        "outputId": "831d7c91-b185-4379-fa3e-54280ef31881",
        "colab": {
          "base_uri": "https://localhost:8080/"
        }
      },
      "execution_count": 54,
      "outputs": [
        {
          "output_type": "stream",
          "name": "stdout",
          "text": [
            "mnist_test.csv\n"
          ]
        }
      ]
    },
    {
      "cell_type": "code",
      "source": [
        "!pwd"
      ],
      "metadata": {
        "id": "BJ_QmMNM-w9n",
        "outputId": "40dbeef6-396e-49d4-aa42-d97eece7d9c7",
        "colab": {
          "base_uri": "https://localhost:8080/"
        }
      },
      "execution_count": 55,
      "outputs": [
        {
          "output_type": "stream",
          "name": "stdout",
          "text": [
            "/content/sample_data/newbie/next_newbie\n"
          ]
        }
      ]
    },
    {
      "cell_type": "code",
      "source": [
        "!rm -r /content/sample_data/newbie/mnist_test.csv"
      ],
      "metadata": {
        "id": "nRVWvnwi-8Kf"
      },
      "execution_count": 56,
      "outputs": []
    },
    {
      "cell_type": "code",
      "source": [
        "!ls /content/sample_data/"
      ],
      "metadata": {
        "id": "6ti7Tmw6_DvM",
        "outputId": "03e5462f-2ba8-471a-8694-b902255e6306",
        "colab": {
          "base_uri": "https://localhost:8080/"
        }
      },
      "execution_count": 57,
      "outputs": [
        {
          "output_type": "stream",
          "name": "stdout",
          "text": [
            "anscombe.json\t\t      mnist_test.csv\t     pytorch_challenge\n",
            "california_housing_test.csv   mnist_train_small.csv  README.md\n",
            "california_housing_train.csv  newbie\n"
          ]
        }
      ]
    },
    {
      "cell_type": "markdown",
      "metadata": {
        "id": "-bKChdhzbgUF"
      },
      "source": [
        "4) Please write a Python function to sort (ascending and descending) a dictionary by key. For example, this below dictionary:\n",
        "```python\n",
        "alphabets = {\n",
        "    5: 'e',\n",
        "    4: 'd',\n",
        "    3: 'c',\n",
        "    2: 'b',\n",
        "    1: 'a',\n",
        "}\n",
        "```"
      ]
    },
    {
      "cell_type": "code",
      "metadata": {
        "id": "MST8InAfbhPe"
      },
      "source": [
        "def dictionary(dict):\n",
        "\n",
        "  print(\"Dictionary:\", dict)\n",
        "\n",
        "  print(\"\\nKeys and Values sorted ascendingly\",\n",
        "          \"by the key  \")\n",
        "  for i in sorted(dict):\n",
        "      print((i, dict[i]), end=\" \")\n",
        "  \n",
        "  print(\"\\nKeys and Values sorted descendingly\",\n",
        "          \"by the key  \")\n",
        "  for i in sorted(dict, reverse=True):\n",
        "      print((i, dict[i]), end=\" \")\n",
        "      "
      ],
      "execution_count": 67,
      "outputs": []
    },
    {
      "cell_type": "code",
      "source": [
        "alphabets = {\n",
        "    5: 'e',\n",
        "    4: 'd',\n",
        "    3: 'c',\n",
        "    2: 'b',\n",
        "    1: 'a',\n",
        "}"
      ],
      "metadata": {
        "id": "BjRFztypAV7K"
      },
      "execution_count": 59,
      "outputs": []
    },
    {
      "cell_type": "code",
      "source": [
        "dictionary(alphabets)"
      ],
      "metadata": {
        "id": "fXmp0p3mAdmm",
        "outputId": "40700fb7-7e64-4332-8024-c4362d74b2f9",
        "colab": {
          "base_uri": "https://localhost:8080/"
        }
      },
      "execution_count": 69,
      "outputs": [
        {
          "output_type": "stream",
          "name": "stdout",
          "text": [
            "Dictionary: {5: 'e', 4: 'd', 3: 'c', 2: 'b', 1: 'a'}\n",
            "\n",
            "Keys and Values sorted ascendingly by the key  \n",
            "(1, 'a') (2, 'b') (3, 'c') (4, 'd') (5, 'e') \n",
            "Keys and Values sorted descendingly by the key  \n",
            "(5, 'e') (4, 'd') (3, 'c') (2, 'b') (1, 'a') "
          ]
        }
      ]
    },
    {
      "cell_type": "markdown",
      "metadata": {
        "id": "7p6a0bCJeRGW"
      },
      "source": [
        "5) Given $n$ dictionaries, write a Python script to merge them all to a unique dictionary."
      ]
    },
    {
      "cell_type": "code",
      "metadata": {
        "id": "4fQo9fPMbijz"
      },
      "source": [
        "def merge_dictionaries(*dicts):\n",
        "  result = dict()\n",
        "  for n in dicts:\n",
        "    result.update(n)\n",
        "  return result"
      ],
      "execution_count": 72,
      "outputs": []
    },
    {
      "cell_type": "code",
      "source": [
        "dict1 = {\n",
        "  'A': 10,\n",
        "  'B': 11,\n",
        "}\n",
        "dict2 = {\n",
        "  'C': 12,\n",
        "  #Same key 'A' to test unique dictionary\n",
        "  'A': 21\n",
        "}\n",
        "print(\"Original dictionaries:\")\n",
        "print(dict1)\n",
        "print(dict2)\n",
        "print(\"\\nMerge dictionaries:\")\n",
        "print(merge_dictionaries(dict1, dict2))"
      ],
      "metadata": {
        "id": "1sY9jhIiDZz5",
        "outputId": "e94b154e-f81e-4548-e499-f673820c93ce",
        "colab": {
          "base_uri": "https://localhost:8080/"
        }
      },
      "execution_count": 75,
      "outputs": [
        {
          "output_type": "stream",
          "name": "stdout",
          "text": [
            "Original dictionaries:\n",
            "{'A': 10, 'B': 11}\n",
            "{'C': 12, 'A': 21}\n",
            "\n",
            "Merge dictionaries:\n",
            "{'A': 21, 'B': 11, 'C': 12}\n"
          ]
        }
      ]
    },
    {
      "cell_type": "markdown",
      "metadata": {
        "id": "OqTInTOde4cb"
      },
      "source": [
        "6) Write a Python fuction to take a dictionary as input to remove duplicates from Dictionary."
      ]
    },
    {
      "cell_type": "code",
      "metadata": {
        "id": "K6qHtzm9e4mv"
      },
      "source": [
        "def remove_dups(dict):\n",
        "  temp=[]\n",
        "  res={}\n",
        "  \n",
        "  temp = {val: key for key, val in dict.items()}\n",
        "  res = {val: key for key, val in temp.items()}\n",
        "\n",
        "  print(\"The dictionary after removing the duplicates is:\", res)"
      ],
      "execution_count": 95,
      "outputs": []
    },
    {
      "cell_type": "code",
      "source": [
        "dict3={\n",
        "  'A': 10,\n",
        "  'B': 11,\n",
        "  'C': 12,\n",
        "  'A': 21,\n",
        "  'C': 13\n",
        "}\n",
        "\n",
        "remove_dups(dict3)"
      ],
      "metadata": {
        "id": "BWrGiUyiF83d",
        "outputId": "f99549f8-9946-4162-af43-dd02286568dd",
        "colab": {
          "base_uri": "https://localhost:8080/"
        }
      },
      "execution_count": 98,
      "outputs": [
        {
          "output_type": "stream",
          "name": "stdout",
          "text": [
            "The dictionary after removing the duplicates is: {'A': 21, 'B': 11, 'C': 13}\n"
          ]
        }
      ]
    },
    {
      "cell_type": "markdown",
      "metadata": {
        "id": "8j8C_GrViIht"
      },
      "source": [
        "7) Write a function to perform the Fibonacci series."
      ]
    },
    {
      "cell_type": "code",
      "metadata": {
        "id": "oSFrnugAiIsT",
        "outputId": "749ee6b1-c0a7-4587-b7d1-ba79350a6c72",
        "colab": {
          "base_uri": "https://localhost:8080/"
        }
      },
      "source": [
        "def Iteration(xn):\n",
        "    if xn == 0:\n",
        "        return 0\n",
        "    elif xn == 1:\n",
        "        return 1\n",
        "    else:\n",
        "        return Iteration(xn - 1) + Iteration(xn - 2)\n",
        "\n",
        "def fib(n):\n",
        "    for i in range(n + 1):\n",
        "        print(\"Iteration({i}): {r}\".format(i=i,r=Iteration(i+1)))\n",
        "\n",
        "fib(7)"
      ],
      "execution_count": 102,
      "outputs": [
        {
          "output_type": "stream",
          "name": "stdout",
          "text": [
            "Iteration(0): 1\n",
            "Iteration(1): 1\n",
            "Iteration(2): 2\n",
            "Iteration(3): 3\n",
            "Iteration(4): 5\n",
            "Iteration(5): 8\n",
            "Iteration(6): 13\n",
            "Iteration(7): 21\n"
          ]
        }
      ]
    },
    {
      "cell_type": "markdown",
      "metadata": {
        "id": "7kt_eamej9BK"
      },
      "source": [
        "8) Password Generator: Write a function for password generator in Python that can be workable to strong passwords (having a mix of lowercase letters, uppercase letters, numbers, and symbols). The passwords should be as random as possible, generating a new password every time the user asks for a new password."
      ]
    },
    {
      "cell_type": "code",
      "metadata": {
        "id": "4KbvHqwhj9MH"
      },
      "source": [
        "import string\n",
        "import random\n",
        "\n",
        "def pw_gen(size = 12, chars=string.ascii_letters + string.digits + string.punctuation):\n",
        "\treturn ''.join(random.choice(chars) for _ in range(size))"
      ],
      "execution_count": 105,
      "outputs": []
    },
    {
      "cell_type": "code",
      "source": [
        "a = pw_gen()\n",
        "a"
      ],
      "metadata": {
        "id": "6Db43mfLH4kx",
        "outputId": "dfbb507c-84e1-46dc-f0a0-1f5acdec5766",
        "colab": {
          "base_uri": "https://localhost:8080/",
          "height": 36
        }
      },
      "execution_count": 107,
      "outputs": [
        {
          "output_type": "execute_result",
          "data": {
            "text/plain": [
              "\"]{x^O#tp0hm'\""
            ],
            "application/vnd.google.colaboratory.intrinsic+json": {
              "type": "string"
            }
          },
          "metadata": {},
          "execution_count": 107
        }
      ]
    },
    {
      "cell_type": "code",
      "source": [
        "b = pw_gen()\n",
        "b"
      ],
      "metadata": {
        "id": "Wh_QpvEXIDBb",
        "outputId": "4adb613d-67e4-467d-f6c6-74aa4d3997e1",
        "colab": {
          "base_uri": "https://localhost:8080/",
          "height": 36
        }
      },
      "execution_count": 108,
      "outputs": [
        {
          "output_type": "execute_result",
          "data": {
            "text/plain": [
              "'[33=]s%UTc*i'"
            ],
            "application/vnd.google.colaboratory.intrinsic+json": {
              "type": "string"
            }
          },
          "metadata": {},
          "execution_count": 108
        }
      ]
    }
  ]
}