{
  "nbformat": 4,
  "nbformat_minor": 0,
  "metadata": {
    "colab": {
      "provenance": [],
      "mount_file_id": "1QgiznxMrt7FNMiBrsW6duF1SsDt_Y02k",
      "authorship_tag": "ABX9TyPqoB7uVt5HP3Ql0JiLxYJR",
      "include_colab_link": true
    },
    "kernelspec": {
      "name": "python3",
      "display_name": "Python 3"
    },
    "language_info": {
      "name": "python"
    },
    "accelerator": "GPU",
    "gpuClass": "standard"
  },
  "cells": [
    {
      "cell_type": "markdown",
      "metadata": {
        "id": "view-in-github",
        "colab_type": "text"
      },
      "source": [
        "<a href=\"https://colab.research.google.com/github/nhuyen183/DS-DV-Project/blob/master/LungCancerDSS_preprocessing25.ipynb\" target=\"_parent\"><img src=\"https://colab.research.google.com/assets/colab-badge.svg\" alt=\"Open In Colab\"/></a>"
      ]
    },
    {
      "cell_type": "code",
      "execution_count": 1,
      "metadata": {
        "id": "UxvbCvWzF2iN",
        "colab": {
          "base_uri": "https://localhost:8080/"
        },
        "outputId": "a3fc93c1-b4c0-4476-ad01-d66df135c4bf"
      },
      "outputs": [
        {
          "output_type": "stream",
          "name": "stdout",
          "text": [
            "\r0% [Working]\r            \rGet:1 http://security.ubuntu.com/ubuntu bionic-security InRelease [88.7 kB]\n",
            "\r0% [Connecting to archive.ubuntu.com (91.189.91.38)] [1 InRelease 14.2 kB/88.7 \r                                                                               \rHit:2 http://ppa.launchpad.net/c2d4u.team/c2d4u4.0+/ubuntu bionic InRelease\n",
            "\r0% [Connecting to archive.ubuntu.com (91.189.91.38)] [1 InRelease 88.7 kB/88.7 \r                                                                               \rGet:3 https://cloud.r-project.org/bin/linux/ubuntu bionic-cran40/ InRelease [3,626 B]\n",
            "\r0% [Connecting to archive.ubuntu.com (91.189.91.38)] [Waiting for headers] [Wai\r0% [2 InRelease gpgv 15.9 kB] [Connecting to archive.ubuntu.com (91.189.91.38)]\r                                                                               \rHit:4 http://ppa.launchpad.net/cran/libgit2/ubuntu bionic InRelease\n",
            "\r0% [2 InRelease gpgv 15.9 kB] [Connecting to archive.ubuntu.com (91.189.91.38)]\r                                                                               \rHit:5 http://ppa.launchpad.net/deadsnakes/ppa/ubuntu bionic InRelease\n",
            "Hit:6 http://ppa.launchpad.net/graphics-drivers/ppa/ubuntu bionic InRelease\n",
            "Hit:7 http://archive.ubuntu.com/ubuntu bionic InRelease\n",
            "Ign:8 https://developer.download.nvidia.com/compute/machine-learning/repos/ubuntu1804/x86_64  InRelease\n",
            "Get:9 https://developer.download.nvidia.com/compute/cuda/repos/ubuntu1804/x86_64  InRelease [1,581 B]\n",
            "Hit:10 https://developer.download.nvidia.com/compute/machine-learning/repos/ubuntu1804/x86_64  Release\n",
            "Get:11 http://archive.ubuntu.com/ubuntu bionic-updates InRelease [88.7 kB]\n",
            "Get:12 http://security.ubuntu.com/ubuntu bionic-security/universe amd64 Packages [1,563 kB]\n",
            "Get:13 http://security.ubuntu.com/ubuntu bionic-security/main amd64 Packages [3,067 kB]\n",
            "Get:14 http://archive.ubuntu.com/ubuntu bionic-backports InRelease [83.3 kB]\n",
            "Get:15 https://developer.download.nvidia.com/compute/cuda/repos/ubuntu1804/x86_64  Packages [1,038 kB]\n",
            "Get:17 http://archive.ubuntu.com/ubuntu bionic-updates/universe amd64 Packages [2,338 kB]\n",
            "Get:18 http://archive.ubuntu.com/ubuntu bionic-updates/main amd64 Packages [3,493 kB]\n",
            "Fetched 11.8 MB in 3s (3,768 kB/s)\n",
            "Reading package lists... Done\n"
          ]
        }
      ],
      "source": [
        "!apt-get update\n",
        "!apt-get install openjdk-8-jdk-headless -qq > /dev/null\n",
        "!wget -q http://archive.apache.org/dist/spark/spark-3.1.1/spark-3.1.1-bin-hadoop3.2.tgz\n",
        "!tar xf spark-3.1.1-bin-hadoop3.2.tgz\n",
        "!pip install -q findspark\n",
        "import os\n",
        "os.environ[\"JAVA_HOME\"] = \"/usr/lib/jvm/java-8-openjdk-amd64\"\n",
        "os.environ[\"SPARK_HOME\"] = \"/content/spark-3.1.1-bin-hadoop3.2\"\n",
        "import findspark\n",
        "findspark.init()"
      ]
    },
    {
      "cell_type": "markdown",
      "source": [
        "# Create Spark entry points\n"
      ],
      "metadata": {
        "id": "HwB3gc2dewzz"
      }
    },
    {
      "cell_type": "code",
      "source": [
        "from pyspark import SparkConf, SparkContext\n",
        "from pyspark.sql import SparkSession"
      ],
      "metadata": {
        "id": "c6udoYI94hjI"
      },
      "execution_count": 2,
      "outputs": []
    },
    {
      "cell_type": "code",
      "source": [
        "sc = SparkContext(conf=SparkConf())\n",
        "spark = SparkSession(sparkContext=sc)"
      ],
      "metadata": {
        "id": "UJAvHSw3_PY2"
      },
      "execution_count": 3,
      "outputs": []
    },
    {
      "cell_type": "code",
      "source": [
        "from pyspark.ml.classification import LinearSVC\n",
        "from pyspark.ml.classification import LogisticRegression\n",
        "from pyspark.ml.classification import DecisionTreeClassifier\n",
        "from pyspark.ml.classification import GBTClassifier\n",
        "from pyspark.ml.classification import RandomForestClassifier\n",
        "from pyspark.ml.classification import NaiveBayes\n",
        "from pyspark.ml.classification import MultilayerPerceptronClassifier\n",
        "from pyspark.ml.classification import OneVsRest"
      ],
      "metadata": {
        "id": "7U1wvI6hSJ1m"
      },
      "execution_count": 4,
      "outputs": []
    },
    {
      "cell_type": "code",
      "source": [
        "# load packages\n",
        "import sys\n",
        "print('Python version: {}'. format(sys.version))\n",
        "\n",
        "import pandas as pd\n",
        "print('Python version: {}'. format(pd.__version__))\n",
        "\n",
        "import matplotlib\n",
        "print('matplotlib version: {}'. format(matplotlib.__version__))\n",
        "\n",
        "import numpy as np\n",
        "print('numpy version: {}'. format(np.__version__))\n",
        "\n",
        "import scipy as sp\n",
        "print('scipy version: {}'. format(sp.__version__))\n",
        "\n",
        "import IPython\n",
        "from IPython import display # pretty printing of dataframe in Jupyter notebook\n",
        "print('IPython version: {}'. format(IPython.__version__))\n",
        "\n",
        "import pyspark\n",
        "print('Apache Spark Pyspark version: {}'. format(pyspark.__version__)) # pyspark version\n",
        "\n",
        "# misc libraries\n",
        "import random\n",
        "import time\n",
        "\n",
        "# ignore warnings\n",
        "import warnings\n",
        "warnings.filterwarnings('ignore')\n",
        "print('-'*25)"
      ],
      "metadata": {
        "id": "4SvIs_HXORO4",
        "colab": {
          "base_uri": "https://localhost:8080/"
        },
        "outputId": "f1f7c7a4-59b2-4709-bec4-636e241ce638"
      },
      "execution_count": null,
      "outputs": [
        {
          "output_type": "stream",
          "name": "stdout",
          "text": [
            "Python version: 3.7.15 (default, Oct 12 2022, 19:14:55) \n",
            "[GCC 7.5.0]\n",
            "Python version: 1.3.5\n",
            "matplotlib version: 3.2.2\n",
            "numpy version: 1.21.6\n",
            "scipy version: 1.7.3\n",
            "IPython version: 7.9.0\n",
            "Apache Spark Pyspark version: 3.1.1\n",
            "-------------------------\n"
          ]
        }
      ]
    },
    {
      "cell_type": "code",
      "source": [
        "data_2020 = spark.read.csv('./brfss2020.csv', inferSchema=True, header=True)\n",
        "\n",
        "# preview the data\n",
        "# data type\n",
        "print('-'*10, 'data types', '-'*10)\n",
        "pd.DataFrame(data_2020.dtypes)"
      ],
      "metadata": {
        "colab": {
          "base_uri": "https://localhost:8080/",
          "height": 441
        },
        "id": "es2VmY2VSUD9",
        "outputId": "0f3f0049-7637-4b72-ae42-7e3e44cbaa4e"
      },
      "execution_count": 16,
      "outputs": [
        {
          "output_type": "stream",
          "name": "stdout",
          "text": [
            "---------- data types ----------\n"
          ]
        },
        {
          "output_type": "execute_result",
          "data": {
            "text/plain": [
              "            0       1\n",
              "0      _STATE  double\n",
              "1      FMONTH  double\n",
              "2       IDATE     int\n",
              "3      IMONTH     int\n",
              "4        IDAY     int\n",
              "..        ...     ...\n",
              "274  _STOLDNA  double\n",
              "275  _VIRCOLN  double\n",
              "276  _SBONTIM  double\n",
              "277  _CRCREC1  double\n",
              "278  _AIDTST4  double\n",
              "\n",
              "[279 rows x 2 columns]"
            ],
            "text/html": [
              "\n",
              "  <div id=\"df-60be0a5e-3de6-4e9e-a548-9da8f90f22a3\">\n",
              "    <div class=\"colab-df-container\">\n",
              "      <div>\n",
              "<style scoped>\n",
              "    .dataframe tbody tr th:only-of-type {\n",
              "        vertical-align: middle;\n",
              "    }\n",
              "\n",
              "    .dataframe tbody tr th {\n",
              "        vertical-align: top;\n",
              "    }\n",
              "\n",
              "    .dataframe thead th {\n",
              "        text-align: right;\n",
              "    }\n",
              "</style>\n",
              "<table border=\"1\" class=\"dataframe\">\n",
              "  <thead>\n",
              "    <tr style=\"text-align: right;\">\n",
              "      <th></th>\n",
              "      <th>0</th>\n",
              "      <th>1</th>\n",
              "    </tr>\n",
              "  </thead>\n",
              "  <tbody>\n",
              "    <tr>\n",
              "      <th>0</th>\n",
              "      <td>_STATE</td>\n",
              "      <td>double</td>\n",
              "    </tr>\n",
              "    <tr>\n",
              "      <th>1</th>\n",
              "      <td>FMONTH</td>\n",
              "      <td>double</td>\n",
              "    </tr>\n",
              "    <tr>\n",
              "      <th>2</th>\n",
              "      <td>IDATE</td>\n",
              "      <td>int</td>\n",
              "    </tr>\n",
              "    <tr>\n",
              "      <th>3</th>\n",
              "      <td>IMONTH</td>\n",
              "      <td>int</td>\n",
              "    </tr>\n",
              "    <tr>\n",
              "      <th>4</th>\n",
              "      <td>IDAY</td>\n",
              "      <td>int</td>\n",
              "    </tr>\n",
              "    <tr>\n",
              "      <th>...</th>\n",
              "      <td>...</td>\n",
              "      <td>...</td>\n",
              "    </tr>\n",
              "    <tr>\n",
              "      <th>274</th>\n",
              "      <td>_STOLDNA</td>\n",
              "      <td>double</td>\n",
              "    </tr>\n",
              "    <tr>\n",
              "      <th>275</th>\n",
              "      <td>_VIRCOLN</td>\n",
              "      <td>double</td>\n",
              "    </tr>\n",
              "    <tr>\n",
              "      <th>276</th>\n",
              "      <td>_SBONTIM</td>\n",
              "      <td>double</td>\n",
              "    </tr>\n",
              "    <tr>\n",
              "      <th>277</th>\n",
              "      <td>_CRCREC1</td>\n",
              "      <td>double</td>\n",
              "    </tr>\n",
              "    <tr>\n",
              "      <th>278</th>\n",
              "      <td>_AIDTST4</td>\n",
              "      <td>double</td>\n",
              "    </tr>\n",
              "  </tbody>\n",
              "</table>\n",
              "<p>279 rows × 2 columns</p>\n",
              "</div>\n",
              "      <button class=\"colab-df-convert\" onclick=\"convertToInteractive('df-60be0a5e-3de6-4e9e-a548-9da8f90f22a3')\"\n",
              "              title=\"Convert this dataframe to an interactive table.\"\n",
              "              style=\"display:none;\">\n",
              "        \n",
              "  <svg xmlns=\"http://www.w3.org/2000/svg\" height=\"24px\"viewBox=\"0 0 24 24\"\n",
              "       width=\"24px\">\n",
              "    <path d=\"M0 0h24v24H0V0z\" fill=\"none\"/>\n",
              "    <path d=\"M18.56 5.44l.94 2.06.94-2.06 2.06-.94-2.06-.94-.94-2.06-.94 2.06-2.06.94zm-11 1L8.5 8.5l.94-2.06 2.06-.94-2.06-.94L8.5 2.5l-.94 2.06-2.06.94zm10 10l.94 2.06.94-2.06 2.06-.94-2.06-.94-.94-2.06-.94 2.06-2.06.94z\"/><path d=\"M17.41 7.96l-1.37-1.37c-.4-.4-.92-.59-1.43-.59-.52 0-1.04.2-1.43.59L10.3 9.45l-7.72 7.72c-.78.78-.78 2.05 0 2.83L4 21.41c.39.39.9.59 1.41.59.51 0 1.02-.2 1.41-.59l7.78-7.78 2.81-2.81c.8-.78.8-2.07 0-2.86zM5.41 20L4 18.59l7.72-7.72 1.47 1.35L5.41 20z\"/>\n",
              "  </svg>\n",
              "      </button>\n",
              "      \n",
              "  <style>\n",
              "    .colab-df-container {\n",
              "      display:flex;\n",
              "      flex-wrap:wrap;\n",
              "      gap: 12px;\n",
              "    }\n",
              "\n",
              "    .colab-df-convert {\n",
              "      background-color: #E8F0FE;\n",
              "      border: none;\n",
              "      border-radius: 50%;\n",
              "      cursor: pointer;\n",
              "      display: none;\n",
              "      fill: #1967D2;\n",
              "      height: 32px;\n",
              "      padding: 0 0 0 0;\n",
              "      width: 32px;\n",
              "    }\n",
              "\n",
              "    .colab-df-convert:hover {\n",
              "      background-color: #E2EBFA;\n",
              "      box-shadow: 0px 1px 2px rgba(60, 64, 67, 0.3), 0px 1px 3px 1px rgba(60, 64, 67, 0.15);\n",
              "      fill: #174EA6;\n",
              "    }\n",
              "\n",
              "    [theme=dark] .colab-df-convert {\n",
              "      background-color: #3B4455;\n",
              "      fill: #D2E3FC;\n",
              "    }\n",
              "\n",
              "    [theme=dark] .colab-df-convert:hover {\n",
              "      background-color: #434B5C;\n",
              "      box-shadow: 0px 1px 3px 1px rgba(0, 0, 0, 0.15);\n",
              "      filter: drop-shadow(0px 1px 2px rgba(0, 0, 0, 0.3));\n",
              "      fill: #FFFFFF;\n",
              "    }\n",
              "  </style>\n",
              "\n",
              "      <script>\n",
              "        const buttonEl =\n",
              "          document.querySelector('#df-60be0a5e-3de6-4e9e-a548-9da8f90f22a3 button.colab-df-convert');\n",
              "        buttonEl.style.display =\n",
              "          google.colab.kernel.accessAllowed ? 'block' : 'none';\n",
              "\n",
              "        async function convertToInteractive(key) {\n",
              "          const element = document.querySelector('#df-60be0a5e-3de6-4e9e-a548-9da8f90f22a3');\n",
              "          const dataTable =\n",
              "            await google.colab.kernel.invokeFunction('convertToInteractive',\n",
              "                                                     [key], {});\n",
              "          if (!dataTable) return;\n",
              "\n",
              "          const docLinkHtml = 'Like what you see? Visit the ' +\n",
              "            '<a target=\"_blank\" href=https://colab.research.google.com/notebooks/data_table.ipynb>data table notebook</a>'\n",
              "            + ' to learn more about interactive tables.';\n",
              "          element.innerHTML = '';\n",
              "          dataTable['output_type'] = 'display_data';\n",
              "          await google.colab.output.renderOutput(dataTable, element);\n",
              "          const docLink = document.createElement('div');\n",
              "          docLink.innerHTML = docLinkHtml;\n",
              "          element.appendChild(docLink);\n",
              "        }\n",
              "      </script>\n",
              "    </div>\n",
              "  </div>\n",
              "  "
            ]
          },
          "metadata": {},
          "execution_count": 16
        }
      ]
    },
    {
      "cell_type": "code",
      "source": [
        "data_2020.show(6)"
      ],
      "metadata": {
        "id": "3nXkgjpvrTWa",
        "outputId": "26c969f4-0750-4ce2-b541-37d3d111b084",
        "colab": {
          "base_uri": "https://localhost:8080/"
        }
      },
      "execution_count": 17,
      "outputs": [
        {
          "output_type": "stream",
          "name": "stdout",
          "text": [
            "+------+------+-------+------+----+-----+--------+----------+-------------+--------+--------+--------+--------+--------+-------+-------+--------+-------+------+--------+--------+--------+--------+--------+-------+-------+--------+--------+-------+--------+-------+------+-------+--------+--------+--------+--------+--------+-------+--------+--------+--------+--------+--------+--------+-------+-------+--------+--------+--------+--------+--------+--------+--------+--------+--------+--------+-------+-----+--------+--------+--------+--------+--------+-------+--------+-------+--------+-------+-------+----+-----+------+--------+--------+--------+--------+--------+--------+--------+-------+-------+--------+--------+--------+--------+--------+--------+--------+--------+--------+--------+--------+------+-------+-------+--------+-------+--------+--------+--------+--------+--------+--------+-------+--------+--------+--------+--------+--------+--------+--------+--------+--------+--------+--------+-------+--------+--------+--------+--------+--------+--------+--------+--------+--------+-------+--------+-------+-------+-------+-------+-------+--------+--------+--------+--------+--------+--------+--------+--------+-------+--------+------+--------+--------+--------+--------+--------+--------+--------+--------+--------+--------+--------+--------+-------+--------+--------+--------+--------+-------+--------+--------+--------+-------+--------+--------+--------+-------+--------+--------+--------+--------+--------+--------+--------+--------+--------+--------+--------+--------+--------+--------+------+--------+--------+--------+--------+--------+--------+--------+--------+--------+--------+--------+--------+--------+--------+--------+--------+--------+------+-------+--------+--------+------+-------+----------+--------+------------------+--------+--------+-------+-------+--------+--------+----------+----------+-----------------+-------+--------+--------+--------+--------+------+--------+--------+--------+--------+--------+--------+--------+-------+-------+--------+-----+--------+--------+--------+----+--------+--------+------+------+-----+-----+------+------+--------+-------+--------+-------+-------+--------+--------+--------+--------+--------+--------+--------+--------+--------+--------+--------+--------+--------+--------+--------+--------+--------+--------+--------+--------+--------+--------+--------+--------+--------+\n",
            "|_STATE|FMONTH|  IDATE|IMONTH|IDAY|IYEAR|DISPCODE|     SEQNO|         _PSU|CTELENM1|PVTRESD1|COLGHOUS|STATERE1|CELPHONE|LADULT1|COLGSEX|NUMADULT|LANDSEX|NUMMEN|NUMWOMEN|RESPSLCT|SAFETIME|CTELNUM1|CELLFON5|CADULT1|CELLSEX|PVTRESD3|CCLGHOUS|CSTATE1|LANDLINE|HHADULT|SEXVAR|GENHLTH|PHYSHLTH|MENTHLTH|POORHLTH|HLTHPLN1|PERSDOC2|MEDCOST|CHECKUP1|EXERANY2|SLEPTIM1|CVDINFR4|CVDCRHD4|CVDSTRK3|ASTHMA3|ASTHNOW|CHCSCNCR|CHCOCNCR|CHCCOPD2|HAVARTH4|ADDEPEV3|CHCKDNY2|DIABETE4|DIABAGE3|LASTDEN4|RMVTETH4|MARITAL|EDUCA|RENTHOM1|NUMHHOL3|NUMPHON3|CPDEMO1B|VETERAN3|EMPLOY1|CHILDREN|INCOME2|PREGNANT|WEIGHT2|HEIGHT3|DEAF|BLIND|DECIDE|DIFFWALK|DIFFDRES|DIFFALON|SMOKE100|SMOKDAY2|STOPSMK2|LASTSMK2|USENOW3|ALCDAY5|AVEDRNK3|DRNK3GE5|MAXDRNKS|FLUSHOT7|FLSHTMY3|SHINGLE2|PNEUVAC4|FALL12MN|FALLINJ4|SEATBELT|DRNKDRI2|HADMAM|HOWLONG|HADPAP2|LASTPAP2|HPVTEST|HPLSTTST|HADHYST2|PCPSAAD3|PCPSADI1|PCPSARE1|PSATEST1|PSATIME|PCPSARS1|COLNSCPY|COLNTEST|SIGMSCPY|SIGMTEST|BLDSTOL1|LSTBLDS4|STOOLDNA|SDNATEST|VIRCOLON|VCLNTEST|HIVTST7|HIVTSTD3|HIVRISK5|PDIABTST|PREDIAB1|INSULIN1|BLDSUGAR|FEETCHK3|DOCTDIAB|CHKHEMO3|FEETCHK|EYEEXAM1|DIABEYE|DIABEDU|TOLDCFS|HAVECFS|WORKCFS|TOLDHEPC|TRETHEPC|PRIRHEPC|HAVEHEPC|HAVEHEPB|MEDSHEPB|HLTHCVR1|CIMEMLOS|CDHOUSE|CDASSIST|CDHELP|CDSOCIAL|CDDISCUS|CAREGIV1|CRGVREL4|CRGVLNG1|CRGVHRS1|CRGVPRB3|CRGVALZD|CRGVPER1|CRGVHOU1|CRGVEXPT|ECIGARET|ECIGNOW|MARIJAN1|USEMRJN2|RSNMRJN1|LCSFIRST|LCSLAST|LCSNUMCG|LCSCTSCN|CNCRDIFF|CNCRAGE|CNCRTYP1|CSRVTRT3|CSRVDOC1|CSRVSUM|CSRVRTRN|CSRVINST|CSRVINSR|CSRVDEIN|CSRVCLIN|CSRVPAIN|CSRVCTL2|PCPSADE1|PCDMDEC1|HPVADVC4|HPVADSHT|TETANUS1|IMFVPLA1|BIRTHSEX|SOMALE|SOFEMALE|TRNSGNDR|ACEDEPRS|ACEDRINK|ACEDRUGS|ACEPRISN|ACEDIVRC|ACEPUNCH|ACEHURT1|ACESWEAR|ACETOUCH|ACETTHEM|ACEHVSEX|RCSGENDR|RCSRLTN2|CASTHDX2|CASTHNO2|QSTVER|QSTLANG|_METSTAT|_URBSTAT|MSCODE| _STSTR|    _STRWT|_RAWRAKE|          _WT2RAKE|_IMPRACE|_CHISPNC|_CRACE1|_CPRACE|_CLLCPWT|_DUALUSE|  _DUALCOR|  _LLCPWT2|          _LLCPWT|_RFHLTH|_PHYS14D|_MENT14D|_HCVU651|_TOTINDA|_MICHD|_LTASTH1|_CASTHM1|_ASTHMS1|_DRDXAR2|_EXTETH3|_ALTETH3|_DENVST3|_PRACE1|_MRACE1|_HISPANC|_RACE|_RACEG21|_RACEGR3|_RACEPRV|_SEX|_AGEG5YR|_AGE65YR|_AGE80|_AGE_G|HTIN4| HTM4| WTKG3| _BMI5|_BMI5CAT|_RFBMI5|_CHLDCNT|_EDUCAG|_INCOMG|_SMOKER3|_RFSMOK3|DRNKANY5|DROCDY3_|_RFBING5|_DRNKWK1|_RFDRHV7|_FLSHOT7|_PNEUMO3|_RFSEAT2|_RFSEAT3|_DRNKDRV|_RFMAM22|_MAM5023|_RFPAP35|_RFPSA23|_CLNSCPY|_SGMSCPY|_SGMS10Y|_RFBLDS4|_STOLDNA|_VIRCOLN|_SBONTIM|_CRCREC1|_AIDTST4|\n",
            "+------+------+-------+------+----+-----+--------+----------+-------------+--------+--------+--------+--------+--------+-------+-------+--------+-------+------+--------+--------+--------+--------+--------+-------+-------+--------+--------+-------+--------+-------+------+-------+--------+--------+--------+--------+--------+-------+--------+--------+--------+--------+--------+--------+-------+-------+--------+--------+--------+--------+--------+--------+--------+--------+--------+--------+-------+-----+--------+--------+--------+--------+--------+-------+--------+-------+--------+-------+-------+----+-----+------+--------+--------+--------+--------+--------+--------+--------+-------+-------+--------+--------+--------+--------+--------+--------+--------+--------+--------+--------+--------+------+-------+-------+--------+-------+--------+--------+--------+--------+--------+--------+-------+--------+--------+--------+--------+--------+--------+--------+--------+--------+--------+--------+-------+--------+--------+--------+--------+--------+--------+--------+--------+--------+-------+--------+-------+-------+-------+-------+-------+--------+--------+--------+--------+--------+--------+--------+--------+-------+--------+------+--------+--------+--------+--------+--------+--------+--------+--------+--------+--------+--------+--------+-------+--------+--------+--------+--------+-------+--------+--------+--------+-------+--------+--------+--------+-------+--------+--------+--------+--------+--------+--------+--------+--------+--------+--------+--------+--------+--------+--------+------+--------+--------+--------+--------+--------+--------+--------+--------+--------+--------+--------+--------+--------+--------+--------+--------+--------+------+-------+--------+--------+------+-------+----------+--------+------------------+--------+--------+-------+-------+--------+--------+----------+----------+-----------------+-------+--------+--------+--------+--------+------+--------+--------+--------+--------+--------+--------+--------+-------+-------+--------+-----+--------+--------+--------+----+--------+--------+------+------+-----+-----+------+------+--------+-------+--------+-------+-------+--------+--------+--------+--------+--------+--------+--------+--------+--------+--------+--------+--------+--------+--------+--------+--------+--------+--------+--------+--------+--------+--------+--------+--------+--------+\n",
            "|   1.0|   1.0|1042020|     1|   4| 2020|  1100.0|2020000001|2.020000001E9|     1.0|     1.0|    null|     1.0|     2.0|    1.0|   null|     1.0|    2.0|   0.0|     1.0|    null|    null|    null|    null|   null|   null|    null|    null|   null|    null|   null|   2.0|    2.0|     3.0|    30.0|     3.0|     2.0|     3.0|    1.0|     4.0|     1.0|     5.0|     2.0|     2.0|     2.0|    1.0|    1.0|     1.0|     1.0|     1.0|     1.0|     1.0|     2.0|     1.0|    35.0|     1.0|     2.0|    2.0|  6.0|     1.0|     2.0|    null|     1.0|     2.0|    4.0|    88.0|    1.0|    null|  106.0|  507.0| 2.0|  2.0|   1.0|     2.0|     2.0|     2.0|     1.0|     1.0|     2.0|    null|    3.0|  888.0|    null|    null|    null|     2.0|    null|     2.0|     2.0|    88.0|    null|     1.0|    null|   1.0|    3.0|    1.0|     4.0|    2.0|    null|     1.0|    null|    null|    null|    null|   null|    null|     1.0|     4.0|     2.0|    null|     2.0|    null|     2.0|    null|     2.0|    null|    1.0| 21994.0|     2.0|    null|    null|    null|    null|    null|    null|    null|   null|    null|   null|   null|   null|   null|   null|    null|    null|    null|    null|    null|    null|    null|    null|   null|    null|  null|    null|    null|    null|    null|    null|    null|    null|    null|    null|    null|    null|     1.0|    3.0|    null|    null|    null|    null|   null|    null|    null|    null|   null|    null|     2.0|     7.0|    2.0|     1.0|     1.0|     2.0|     2.0|     1.0|    null|    null|    null|    null|    null|    null|    null|    null|    null|  null|    null|    null|     1.0|     1.0|     1.0|     2.0|     1.0|     1.0|     1.0|     3.0|     3.0|     3.0|     2.0|    null|    null|    null|    null|  10.0|    1.0|     1.0|     1.0|   1.0|11011.0|69.6402073|     1.0|        69.6402073|     1.0|    null|   null|   null|    null|     1.0|0.46541096|460.002849|284.3356720000001|    1.0|     2.0|     3.0|     2.0|     1.0|   2.0|     2.0|     2.0|     1.0|     1.0|     2.0|    null|     1.0|    1.0|    1.0|     2.0|  1.0|     1.0|     1.0|     1.0| 2.0|     8.0|     1.0|  56.0|   5.0| 67.0|170.0|4808.0|1660.0|     1.0|    1.0|     1.0|    4.0|    1.0|     1.0|     2.0|     2.0|     0.0|     1.0|     0.0|     1.0|    null|    null|     1.0|     1.0|     9.0|     2.0|     2.0|    null|    null|     1.0|     3.0|     3.0|     3.0|     3.0|     3.0|     3.0|     1.0|     1.0|\n",
            "|   1.0|   1.0|2072020|     2|   7| 2020|  1200.0|2020000002|2.020000002E9|     1.0|     1.0|    null|     1.0|     2.0|    1.0|   null|     1.0|    2.0|   0.0|     1.0|    null|    null|    null|    null|   null|   null|    null|    null|   null|    null|   null|   2.0|    3.0|    88.0|    88.0|    null|     1.0|     1.0|    1.0|     1.0|     1.0|     7.0|     2.0|     2.0|     2.0|    1.0|    2.0|     2.0|     2.0|     2.0|     1.0|     1.0|     2.0|     3.0|    null|     1.0|     1.0|    3.0|  6.0|     1.0|     1.0|     1.0|     1.0|     2.0|    7.0|    88.0|   99.0|    null|  170.0|  504.0| 2.0|  2.0|   2.0|     2.0|     2.0|     2.0|    null|    null|    null|    null|   null|   null|    null|    null|    null|    null|    null|    null|    null|    null|    null|    null|    null|  null|   null|   null|    null|   null|    null|    null|    null|    null|    null|    null|   null|    null|    null|    null|    null|    null|    null|    null|    null|    null|    null|    null|   null|    null|    null|     1.0|     1.0|    null|    null|    null|    null|    null|   null|    null|   null|   null|   null|   null|   null|    null|    null|    null|    null|    null|    null|    null|    null|   null|    null|  null|    null|    null|    null|    null|    null|    null|    null|    null|    null|    null|    null|    null|   null|    null|    null|    null|    null|   null|    null|    null|    null|   null|    null|    null|    null|   null|    null|    null|    null|    null|    null|    null|    null|    null|    null|    null|    null|    null|    null|    null|  null|    null|    null|    null|    null|    null|    null|    null|    null|    null|    null|    null|    null|    null|    null|    null|    null|    null|  10.0|    1.0|     1.0|     1.0|   1.0|11011.0|69.6402073|     1.0|        69.6402073|     2.0|    null|   null|   null|    null|     1.0|0.46541096|460.002849|       171.283329|    1.0|     1.0|     1.0|     9.0|     1.0|   2.0|     2.0|     1.0|     2.0|     1.0|     2.0|     1.0|     1.0|    2.0|    2.0|     2.0|  2.0|     2.0|     2.0|     2.0| 2.0|    10.0|     2.0|  65.0|   6.0| 64.0|163.0|7711.0|2918.0|     3.0|    2.0|     1.0|    4.0|    9.0|     9.0|     9.0|     9.0|   900.0|     9.0| 99900.0|     9.0|     9.0|     9.0|     9.0|     9.0|     9.0|     9.0|    null|    null|    null|    null|    null|    null|    null|    null|    null|     2.0|    null|    null|\n",
            "|   1.0|   1.0|1232020|     1|  23| 2020|  1100.0|2020000003|2.020000003E9|     1.0|     1.0|    null|     1.0|     2.0|    1.0|   null|     1.0|    2.0|   0.0|     1.0|    null|    null|    null|    null|   null|   null|    null|    null|   null|    null|   null|   2.0|    3.0|    88.0|    88.0|    null|     1.0|     1.0|    2.0|     1.0|     1.0|     7.0|     2.0|     2.0|     2.0|    2.0|   null|     2.0|     1.0|     2.0|     1.0|     2.0|     2.0|     3.0|    null|     1.0|     7.0|    1.0|  5.0|     1.0|     2.0|    null|     1.0|     2.0|    7.0|    88.0|    7.0|    null| 7777.0|  508.0| 2.0|  2.0|   2.0|     2.0|     2.0|     2.0|     2.0|    null|    null|    null|    3.0|  888.0|    null|    null|    null|     1.0|102019.0|     2.0|     2.0|    88.0|    null|     1.0|    null|   1.0|    1.0|    1.0|     1.0|    2.0|    null|     2.0|    null|    null|    null|    null|   null|    null|     1.0|     4.0|     2.0|    null|     2.0|    null|     2.0|    null|     2.0|    null|    2.0|    null|     2.0|     2.0|     3.0|    null|    null|    null|    null|    null|   null|    null|   null|   null|   null|   null|   null|    null|    null|    null|    null|    null|    null|    null|    null|   null|    null|  null|    null|    null|    null|    null|    null|    null|    null|    null|    null|    null|    null|     2.0|   null|    null|    null|    null|    null|   null|    null|    null|    null|   null|    null|     2.0|     2.0|    2.0|     1.0|     1.0|     1.0|     2.0|     2.0|    null|    null|    null|    null|    null|    null|    null|    null|    null|  null|    null|    null|     2.0|     2.0|     2.0|     2.0|     1.0|     1.0|     1.0|     1.0|     1.0|     1.0|     1.0|    null|    null|    null|    null|  10.0|    1.0|     1.0|     1.0|   1.0|11012.0|279.748901|     1.0|        279.748901|     2.0|    null|   null|   null|    null|     1.0|0.46541096|1847.85911|       1334.36886|    1.0|     1.0|     1.0|     9.0|     1.0|   2.0|     1.0|     1.0|     3.0|     1.0|     9.0|     9.0|     1.0|    2.0|    2.0|     2.0|  2.0|     2.0|     2.0|     2.0| 2.0|    10.0|     2.0|  65.0|   6.0| 68.0|173.0|  null|  null|    null|    9.0|     1.0|    3.0|    5.0|     4.0|     1.0|     2.0|     0.0|     1.0|     0.0|     1.0|     1.0|     2.0|     1.0|     1.0|     9.0|     1.0|     1.0|     1.0|    null|     1.0|     3.0|     3.0|     3.0|     3.0|     3.0|     3.0|     1.0|     2.0|\n",
            "|   1.0|   1.0|1092020|     1|   9| 2020|  1100.0|2020000004|2.020000004E9|     1.0|     1.0|    null|     1.0|     2.0|    1.0|   null|     1.0|    2.0|   0.0|     1.0|    null|    null|    null|    null|   null|   null|    null|    null|   null|    null|   null|   2.0|    1.0|    88.0|    88.0|    null|     1.0|     3.0|    2.0|     2.0|     2.0|     6.0|     2.0|     2.0|     2.0|    2.0|   null|     2.0|     2.0|     2.0|     2.0|     2.0|     2.0|     3.0|    null|     7.0|     1.0|    3.0|  4.0|     1.0|     9.0|    null|     9.0|     2.0|    5.0|    88.0|   99.0|    null| 9999.0| 9999.0| 2.0|  2.0|   2.0|     2.0|     2.0|     2.0|     2.0|    null|    null|    null|    3.0|  888.0|    null|    null|    null|     2.0|    null|     2.0|     2.0|    88.0|    null|     1.0|    null|   2.0|   null|    1.0|     7.0|    2.0|    null|     2.0|    null|    null|    null|    null|   null|    null|     2.0|    null|     2.0|    null|     2.0|    null|     2.0|    null|     2.0|    null|    2.0|    null|     2.0|     2.0|     3.0|    null|    null|    null|    null|    null|   null|    null|   null|   null|   null|   null|   null|    null|    null|    null|    null|    null|    null|    null|    null|   null|    null|  null|    null|    null|    null|    null|    null|    null|    null|    null|    null|    null|    null|     2.0|   null|    null|    null|    null|    null|   null|    null|    null|    null|   null|    null|    null|    null|   null|    null|    null|    null|    null|    null|    null|    null|    null|    null|    null|    null|    null|    null|    null|  null|    null|    null|     2.0|     2.0|     2.0|     2.0|     2.0|     1.0|     1.0|     1.0|     1.0|     1.0|     1.0|    null|    null|    null|    null|  10.0|    1.0|     1.0|     1.0|   1.0|11011.0|69.6402073|     1.0|        69.6402073|     1.0|    null|   null|   null|    null|     9.0|      null|1472.41732|       1297.48662|    1.0|     1.0|     1.0|     9.0|     2.0|   2.0|     1.0|     1.0|     3.0|     2.0|     2.0|     1.0|     9.0|    1.0|    1.0|     2.0|  1.0|     1.0|     1.0|     1.0| 2.0|    13.0|     2.0|  80.0|   6.0| null| null|  null|  null|    null|    9.0|     1.0|    2.0|    9.0|     4.0|     1.0|     2.0|     0.0|     1.0|     0.0|     1.0|     2.0|     2.0|     1.0|     1.0|     9.0|     2.0|    null|    null|    null|    null|    null|    null|    null|    null|    null|    null|    null|     2.0|\n",
            "|   1.0|   1.0|1042020|     1|   4| 2020|  1100.0|2020000005|2.020000005E9|     1.0|     1.0|    null|     1.0|     2.0|    1.0|   null|     1.0|    2.0|   0.0|     1.0|    null|    null|    null|    null|   null|   null|    null|    null|   null|    null|   null|   2.0|    2.0|    88.0|    88.0|    null|     1.0|     1.0|    2.0|     1.0|     1.0|     7.0|     2.0|     2.0|     1.0|    2.0|   null|     2.0|     2.0|     2.0|     2.0|     2.0|     2.0|     3.0|    null|     7.0|     8.0|    3.0|  6.0|     2.0|     2.0|    null|     8.0|     2.0|    7.0|    88.0|   77.0|    null|  126.0|  506.0| 2.0|  2.0|   2.0|     2.0|     2.0|     2.0|     2.0|    null|    null|    null|    3.0|  888.0|    null|    null|    null|     1.0|102019.0|     1.0|     1.0|    88.0|    null|     1.0|    null|   1.0|    1.0|    2.0|    null|    7.0|    null|     2.0|    null|    null|    null|    null|   null|    null|     1.0|     7.0|     2.0|    null|     7.0|    null|     7.0|    null|     2.0|    null|    7.0|    null|     2.0|     2.0|     3.0|    null|    null|    null|    null|    null|   null|    null|   null|   null|   null|   null|   null|    null|    null|    null|    null|    null|    null|    null|    null|   null|    null|  null|    null|    null|    null|    null|    null|    null|    null|    null|    null|    null|    null|     2.0|   null|    null|    null|    null|    null|   null|    null|    null|    null|   null|    null|    null|    null|   null|    null|    null|    null|    null|    null|    null|    null|    null|    null|    null|    null|    null|    null|    null|  null|    null|    null|     2.0|     2.0|     2.0|     2.0|     2.0|     1.0|     1.0|     1.0|     1.0|     1.0|     1.0|    null|    null|    null|    null|  10.0|    1.0|     1.0|     1.0|   1.0|11011.0|69.6402073|     1.0|        69.6402073|     1.0|    null|   null|   null|    null|     9.0|      null|1472.41732|       454.815127|    1.0|     1.0|     1.0|     9.0|     1.0|   2.0|     1.0|     1.0|     3.0|     2.0|     1.0|     1.0|     9.0|    1.0|    1.0|     2.0|  1.0|     1.0|     1.0|     1.0| 2.0|    13.0|     2.0|  80.0|   6.0| 66.0|168.0|5715.0|2034.0|     2.0|    1.0|     1.0|    4.0|    9.0|     4.0|     1.0|     2.0|     0.0|     1.0|     0.0|     1.0|     1.0|     1.0|     1.0|     1.0|     9.0|     1.0|    null|    null|    null|    null|    null|    null|    null|    null|    null|    null|    null|     9.0|\n",
            "|   1.0|   1.0|1092020|     1|   9| 2020|  1100.0|2020000006|2.020000006E9|     1.0|     1.0|    null|     1.0|     2.0|    1.0|   null|     2.0|   null|   1.0|     1.0|    null|    null|    null|    null|   null|   null|    null|    null|   null|    null|   null|   1.0|    4.0|    20.0|    30.0|    88.0|     1.0|     1.0|    2.0|     2.0|     1.0|     8.0|     2.0|     2.0|     2.0|    1.0|    1.0|     2.0|     2.0|     1.0|     1.0|     2.0|     2.0|     1.0|    98.0|     3.0|     1.0|    4.0|  4.0|     3.0|     2.0|    null|     1.0|     2.0|    8.0|    88.0|    5.0|    null|  180.0|  509.0| 2.0|  2.0|   2.0|     2.0|     2.0|     1.0|     1.0|     3.0|    null|     6.0|    1.0|  888.0|    null|    null|    null|     1.0| 22019.0|     2.0|     2.0|     2.0|    88.0|     2.0|    null|  null|   null|   null|    null|   null|    null|    null|     1.0|     2.0|     1.0|     1.0|    5.0|     1.0|     1.0|     4.0|     2.0|    null|     2.0|    null|     2.0|    null|     2.0|    null|    1.0|777777.0|     2.0|    null|    null|    null|    null|    null|    null|    null|   null|    null|   null|   null|   null|   null|   null|    null|    null|    null|    null|    null|    null|    null|    null|   null|    null|  null|    null|    null|    null|    null|    null|    null|    null|    null|    null|    null|    null|     1.0|    3.0|    null|    null|    null|    null|   null|    null|    null|    null|   null|    null|    null|    null|   null|    null|    null|    null|    null|    null|    null|    null|    null|    null|    null|    null|    null|    null|    null|  null|    null|    null|     2.0|     2.0|     2.0|     2.0|     2.0|     2.0|     2.0|     3.0|     3.0|     3.0|     3.0|    null|    null|    null|    null|  10.0|    1.0|     2.0|     1.0|   5.0|11011.0|69.6402073|     2.0|139.28041499999998|     1.0|    null|   null|   null|    null|     1.0|0.46541096|920.005697|       616.146154|    2.0|     3.0|     3.0|     9.0|     1.0|   2.0|     2.0|     2.0|     1.0|     1.0|     2.0|     1.0|     2.0|    1.0|    1.0|     2.0|  1.0|     1.0|     1.0|     1.0| 1.0|    10.0|     2.0|  66.0|   6.0| 69.0|175.0|8165.0|2658.0|     3.0|    2.0|     1.0|    2.0|    3.0|     3.0|     1.0|     2.0|     0.0|     1.0|     0.0|     1.0|     1.0|     2.0|     1.0|     2.0|     9.0|    null|    null|    null|     2.0|     1.0|     3.0|     3.0|     3.0|     3.0|     3.0|     3.0|     1.0|     1.0|\n",
            "+------+------+-------+------+----+-----+--------+----------+-------------+--------+--------+--------+--------+--------+-------+-------+--------+-------+------+--------+--------+--------+--------+--------+-------+-------+--------+--------+-------+--------+-------+------+-------+--------+--------+--------+--------+--------+-------+--------+--------+--------+--------+--------+--------+-------+-------+--------+--------+--------+--------+--------+--------+--------+--------+--------+--------+-------+-----+--------+--------+--------+--------+--------+-------+--------+-------+--------+-------+-------+----+-----+------+--------+--------+--------+--------+--------+--------+--------+-------+-------+--------+--------+--------+--------+--------+--------+--------+--------+--------+--------+--------+------+-------+-------+--------+-------+--------+--------+--------+--------+--------+--------+-------+--------+--------+--------+--------+--------+--------+--------+--------+--------+--------+--------+-------+--------+--------+--------+--------+--------+--------+--------+--------+--------+-------+--------+-------+-------+-------+-------+-------+--------+--------+--------+--------+--------+--------+--------+--------+-------+--------+------+--------+--------+--------+--------+--------+--------+--------+--------+--------+--------+--------+--------+-------+--------+--------+--------+--------+-------+--------+--------+--------+-------+--------+--------+--------+-------+--------+--------+--------+--------+--------+--------+--------+--------+--------+--------+--------+--------+--------+--------+------+--------+--------+--------+--------+--------+--------+--------+--------+--------+--------+--------+--------+--------+--------+--------+--------+--------+------+-------+--------+--------+------+-------+----------+--------+------------------+--------+--------+-------+-------+--------+--------+----------+----------+-----------------+-------+--------+--------+--------+--------+------+--------+--------+--------+--------+--------+--------+--------+-------+-------+--------+-----+--------+--------+--------+----+--------+--------+------+------+-----+-----+------+------+--------+-------+--------+-------+-------+--------+--------+--------+--------+--------+--------+--------+--------+--------+--------+--------+--------+--------+--------+--------+--------+--------+--------+--------+--------+--------+--------+--------+--------+--------+\n",
            "only showing top 6 rows\n",
            "\n"
          ]
        }
      ]
    },
    {
      "cell_type": "code",
      "source": [
        "data_2020F = data_2020.select('SEXVAR', '_AGE65YR', '_BMI5CAT', 'GENHLTH', 'SMOKE100', '_SMOKER3',\n",
        "                  'LCSFIRST', 'LCSLAST', 'LCSNUMCG', 'LCSCTSCN', 'CNCRTYP1',\n",
        "                  'STOPSMK2', 'ASTHMA3') #'ECIGARET',  'ECIGNOW'\n",
        "data_2020F.show(6)"
      ],
      "metadata": {
        "id": "a59eVrl_rXpD",
        "outputId": "96c8c642-c1e2-49a8-9b37-e3ff7124ecff",
        "colab": {
          "base_uri": "https://localhost:8080/"
        }
      },
      "execution_count": 26,
      "outputs": [
        {
          "output_type": "stream",
          "name": "stdout",
          "text": [
            "+------+--------+--------+-------+--------+--------+--------+-------+--------+--------+--------+--------+-------+\n",
            "|SEXVAR|_AGE65YR|_BMI5CAT|GENHLTH|SMOKE100|_SMOKER3|LCSFIRST|LCSLAST|LCSNUMCG|LCSCTSCN|CNCRTYP1|STOPSMK2|ASTHMA3|\n",
            "+------+--------+--------+-------+--------+--------+--------+-------+--------+--------+--------+--------+-------+\n",
            "|   2.0|     1.0|     1.0|    2.0|     1.0|     1.0|    null|   null|    null|    null|    null|     2.0|    1.0|\n",
            "|   2.0|     2.0|     3.0|    3.0|    null|     9.0|    null|   null|    null|    null|    null|    null|    1.0|\n",
            "|   2.0|     2.0|    null|    3.0|     2.0|     4.0|    null|   null|    null|    null|    null|    null|    2.0|\n",
            "|   2.0|     2.0|    null|    1.0|     2.0|     4.0|    null|   null|    null|    null|    null|    null|    2.0|\n",
            "|   2.0|     2.0|     2.0|    2.0|     2.0|     4.0|    null|   null|    null|    null|    null|    null|    2.0|\n",
            "|   1.0|     2.0|     3.0|    4.0|     1.0|     3.0|    null|   null|    null|    null|    null|    null|    1.0|\n",
            "+------+--------+--------+-------+--------+--------+--------+-------+--------+--------+--------+--------+-------+\n",
            "only showing top 6 rows\n",
            "\n"
          ]
        }
      ]
    },
    {
      "cell_type": "code",
      "source": [
        "data_2019 = spark.read.csv('./2019.csv', inferSchema=True, header=True)\n",
        "\n",
        "# preview the data\n",
        "# data type\n",
        "print('-'*10, 'data types', '-'*10)\n",
        "pd.DataFrame(data_2019.dtypes)"
      ],
      "metadata": {
        "id": "GMyUZ6gVpKj2",
        "outputId": "c04ae562-7050-4e86-8b90-adc63abeb929",
        "colab": {
          "base_uri": "https://localhost:8080/",
          "height": 441
        }
      },
      "execution_count": 20,
      "outputs": [
        {
          "output_type": "stream",
          "name": "stdout",
          "text": [
            "---------- data types ----------\n"
          ]
        },
        {
          "output_type": "execute_result",
          "data": {
            "text/plain": [
              "            0       1\n",
              "0         _c0     int\n",
              "1      _STATE     int\n",
              "2      FMONTH     int\n",
              "3       IDATE     int\n",
              "4      IMONTH     int\n",
              "..        ...     ...\n",
              "338  _FRUITE1     int\n",
              "339  _VEGETE1     int\n",
              "340  _FLSHOT7  string\n",
              "341  _PNEUMO3  string\n",
              "342  _AIDTST4  string\n",
              "\n",
              "[343 rows x 2 columns]"
            ],
            "text/html": [
              "\n",
              "  <div id=\"df-7ab9a8b1-5c13-4c1f-bcb6-b22cb7e7e3e1\">\n",
              "    <div class=\"colab-df-container\">\n",
              "      <div>\n",
              "<style scoped>\n",
              "    .dataframe tbody tr th:only-of-type {\n",
              "        vertical-align: middle;\n",
              "    }\n",
              "\n",
              "    .dataframe tbody tr th {\n",
              "        vertical-align: top;\n",
              "    }\n",
              "\n",
              "    .dataframe thead th {\n",
              "        text-align: right;\n",
              "    }\n",
              "</style>\n",
              "<table border=\"1\" class=\"dataframe\">\n",
              "  <thead>\n",
              "    <tr style=\"text-align: right;\">\n",
              "      <th></th>\n",
              "      <th>0</th>\n",
              "      <th>1</th>\n",
              "    </tr>\n",
              "  </thead>\n",
              "  <tbody>\n",
              "    <tr>\n",
              "      <th>0</th>\n",
              "      <td>_c0</td>\n",
              "      <td>int</td>\n",
              "    </tr>\n",
              "    <tr>\n",
              "      <th>1</th>\n",
              "      <td>_STATE</td>\n",
              "      <td>int</td>\n",
              "    </tr>\n",
              "    <tr>\n",
              "      <th>2</th>\n",
              "      <td>FMONTH</td>\n",
              "      <td>int</td>\n",
              "    </tr>\n",
              "    <tr>\n",
              "      <th>3</th>\n",
              "      <td>IDATE</td>\n",
              "      <td>int</td>\n",
              "    </tr>\n",
              "    <tr>\n",
              "      <th>4</th>\n",
              "      <td>IMONTH</td>\n",
              "      <td>int</td>\n",
              "    </tr>\n",
              "    <tr>\n",
              "      <th>...</th>\n",
              "      <td>...</td>\n",
              "      <td>...</td>\n",
              "    </tr>\n",
              "    <tr>\n",
              "      <th>338</th>\n",
              "      <td>_FRUITE1</td>\n",
              "      <td>int</td>\n",
              "    </tr>\n",
              "    <tr>\n",
              "      <th>339</th>\n",
              "      <td>_VEGETE1</td>\n",
              "      <td>int</td>\n",
              "    </tr>\n",
              "    <tr>\n",
              "      <th>340</th>\n",
              "      <td>_FLSHOT7</td>\n",
              "      <td>string</td>\n",
              "    </tr>\n",
              "    <tr>\n",
              "      <th>341</th>\n",
              "      <td>_PNEUMO3</td>\n",
              "      <td>string</td>\n",
              "    </tr>\n",
              "    <tr>\n",
              "      <th>342</th>\n",
              "      <td>_AIDTST4</td>\n",
              "      <td>string</td>\n",
              "    </tr>\n",
              "  </tbody>\n",
              "</table>\n",
              "<p>343 rows × 2 columns</p>\n",
              "</div>\n",
              "      <button class=\"colab-df-convert\" onclick=\"convertToInteractive('df-7ab9a8b1-5c13-4c1f-bcb6-b22cb7e7e3e1')\"\n",
              "              title=\"Convert this dataframe to an interactive table.\"\n",
              "              style=\"display:none;\">\n",
              "        \n",
              "  <svg xmlns=\"http://www.w3.org/2000/svg\" height=\"24px\"viewBox=\"0 0 24 24\"\n",
              "       width=\"24px\">\n",
              "    <path d=\"M0 0h24v24H0V0z\" fill=\"none\"/>\n",
              "    <path d=\"M18.56 5.44l.94 2.06.94-2.06 2.06-.94-2.06-.94-.94-2.06-.94 2.06-2.06.94zm-11 1L8.5 8.5l.94-2.06 2.06-.94-2.06-.94L8.5 2.5l-.94 2.06-2.06.94zm10 10l.94 2.06.94-2.06 2.06-.94-2.06-.94-.94-2.06-.94 2.06-2.06.94z\"/><path d=\"M17.41 7.96l-1.37-1.37c-.4-.4-.92-.59-1.43-.59-.52 0-1.04.2-1.43.59L10.3 9.45l-7.72 7.72c-.78.78-.78 2.05 0 2.83L4 21.41c.39.39.9.59 1.41.59.51 0 1.02-.2 1.41-.59l7.78-7.78 2.81-2.81c.8-.78.8-2.07 0-2.86zM5.41 20L4 18.59l7.72-7.72 1.47 1.35L5.41 20z\"/>\n",
              "  </svg>\n",
              "      </button>\n",
              "      \n",
              "  <style>\n",
              "    .colab-df-container {\n",
              "      display:flex;\n",
              "      flex-wrap:wrap;\n",
              "      gap: 12px;\n",
              "    }\n",
              "\n",
              "    .colab-df-convert {\n",
              "      background-color: #E8F0FE;\n",
              "      border: none;\n",
              "      border-radius: 50%;\n",
              "      cursor: pointer;\n",
              "      display: none;\n",
              "      fill: #1967D2;\n",
              "      height: 32px;\n",
              "      padding: 0 0 0 0;\n",
              "      width: 32px;\n",
              "    }\n",
              "\n",
              "    .colab-df-convert:hover {\n",
              "      background-color: #E2EBFA;\n",
              "      box-shadow: 0px 1px 2px rgba(60, 64, 67, 0.3), 0px 1px 3px 1px rgba(60, 64, 67, 0.15);\n",
              "      fill: #174EA6;\n",
              "    }\n",
              "\n",
              "    [theme=dark] .colab-df-convert {\n",
              "      background-color: #3B4455;\n",
              "      fill: #D2E3FC;\n",
              "    }\n",
              "\n",
              "    [theme=dark] .colab-df-convert:hover {\n",
              "      background-color: #434B5C;\n",
              "      box-shadow: 0px 1px 3px 1px rgba(0, 0, 0, 0.15);\n",
              "      filter: drop-shadow(0px 1px 2px rgba(0, 0, 0, 0.3));\n",
              "      fill: #FFFFFF;\n",
              "    }\n",
              "  </style>\n",
              "\n",
              "      <script>\n",
              "        const buttonEl =\n",
              "          document.querySelector('#df-7ab9a8b1-5c13-4c1f-bcb6-b22cb7e7e3e1 button.colab-df-convert');\n",
              "        buttonEl.style.display =\n",
              "          google.colab.kernel.accessAllowed ? 'block' : 'none';\n",
              "\n",
              "        async function convertToInteractive(key) {\n",
              "          const element = document.querySelector('#df-7ab9a8b1-5c13-4c1f-bcb6-b22cb7e7e3e1');\n",
              "          const dataTable =\n",
              "            await google.colab.kernel.invokeFunction('convertToInteractive',\n",
              "                                                     [key], {});\n",
              "          if (!dataTable) return;\n",
              "\n",
              "          const docLinkHtml = 'Like what you see? Visit the ' +\n",
              "            '<a target=\"_blank\" href=https://colab.research.google.com/notebooks/data_table.ipynb>data table notebook</a>'\n",
              "            + ' to learn more about interactive tables.';\n",
              "          element.innerHTML = '';\n",
              "          dataTable['output_type'] = 'display_data';\n",
              "          await google.colab.output.renderOutput(dataTable, element);\n",
              "          const docLink = document.createElement('div');\n",
              "          docLink.innerHTML = docLinkHtml;\n",
              "          element.appendChild(docLink);\n",
              "        }\n",
              "      </script>\n",
              "    </div>\n",
              "  </div>\n",
              "  "
            ]
          },
          "metadata": {},
          "execution_count": 20
        }
      ]
    },
    {
      "cell_type": "code",
      "source": [
        "data_2019F = data_2019.select('SEXVAR', '_AGE65YR', '_BMI5CAT', 'GENHLTH', 'SMOKE100', '_SMOKER3',\n",
        "                  'LCSFIRST', 'LCSLAST', 'LCSNUMCG', 'LCSCTSCN', 'CNCRTYP1',\n",
        "                  'STOPSMK2', 'ASTHMA3')\n",
        "data_2019F.show(6)"
      ],
      "metadata": {
        "id": "K6ybXlIori7E",
        "outputId": "c91ae7ae-ba1a-4f1a-d02f-778f32c7e269",
        "colab": {
          "base_uri": "https://localhost:8080/"
        }
      },
      "execution_count": 23,
      "outputs": [
        {
          "output_type": "stream",
          "name": "stdout",
          "text": [
            "+------+--------+--------+-------+--------+--------+--------+-------+--------+--------+--------+--------+-------+\n",
            "|SEXVAR|_AGE65YR|_BMI5CAT|GENHLTH|SMOKE100|_SMOKER3|LCSFIRST|LCSLAST|LCSNUMCG|LCSCTSCN|CNCRTYP1|STOPSMK2|ASTHMA3|\n",
            "+------+--------+--------+-------+--------+--------+--------+-------+--------+--------+--------+--------+-------+\n",
            "|     2|       2|       3|      3|       1|       3|      NA|     NA|      NA|      NA|      NA|      NA|      2|\n",
            "|     2|       2|       2|      4|       2|       4|      NA|     NA|      NA|      NA|      NA|      NA|      2|\n",
            "|     2|       2|       4|      3|       2|       4|      NA|     NA|      NA|      NA|      NA|      NA|      2|\n",
            "|     2|       2|       2|      4|      NA|       9|      NA|     NA|      NA|      NA|      NA|      NA|      2|\n",
            "|     2|       2|       2|      2|       1|       3|      NA|     NA|      NA|      NA|      NA|      NA|      2|\n",
            "|     2|       3|      NA|      2|      NA|       9|      NA|     NA|      NA|      NA|      NA|      NA|      2|\n",
            "+------+--------+--------+-------+--------+--------+--------+-------+--------+--------+--------+--------+-------+\n",
            "only showing top 6 rows\n",
            "\n"
          ]
        }
      ]
    },
    {
      "cell_type": "code",
      "source": [
        "data_2019F.dtypes"
      ],
      "metadata": {
        "id": "N2_esXLmCM6x",
        "outputId": "00b55780-3302-4c73-b5af-ab4f444c8e65",
        "colab": {
          "base_uri": "https://localhost:8080/",
          "height": 165
        }
      },
      "execution_count": 2,
      "outputs": [
        {
          "output_type": "error",
          "ename": "NameError",
          "evalue": "ignored",
          "traceback": [
            "\u001b[0;31m---------------------------------------------------------------------------\u001b[0m",
            "\u001b[0;31mNameError\u001b[0m                                 Traceback (most recent call last)",
            "\u001b[0;32m<ipython-input-2-87d25d686ebe>\u001b[0m in \u001b[0;36m<module>\u001b[0;34m\u001b[0m\n\u001b[0;32m----> 1\u001b[0;31m \u001b[0mdata_2019F\u001b[0m\u001b[0;34m.\u001b[0m\u001b[0mdtypes\u001b[0m\u001b[0;34m\u001b[0m\u001b[0;34m\u001b[0m\u001b[0m\n\u001b[0m",
            "\u001b[0;31mNameError\u001b[0m: name 'data_2019F' is not defined"
          ]
        }
      ]
    },
    {
      "cell_type": "code",
      "source": [
        "data_raw = data_2019F.union(data_2020F)\n",
        "\n",
        "# preview the data\n",
        "# data type\n",
        "print('-'*10, 'data types', '-'*10)\n",
        "pd.DataFrame(data_raw.dtypes)"
      ],
      "metadata": {
        "id": "9Wj7XDTzpcfQ",
        "outputId": "51e3b1f3-e35e-48d5-a0ef-db6f3d633d2e",
        "colab": {
          "base_uri": "https://localhost:8080/",
          "height": 441
        }
      },
      "execution_count": 27,
      "outputs": [
        {
          "output_type": "stream",
          "name": "stdout",
          "text": [
            "---------- data types ----------\n"
          ]
        },
        {
          "output_type": "execute_result",
          "data": {
            "text/plain": [
              "           0       1\n",
              "0     SEXVAR  double\n",
              "1   _AGE65YR  double\n",
              "2   _BMI5CAT  string\n",
              "3    GENHLTH  string\n",
              "4   SMOKE100  string\n",
              "..       ...     ...\n",
              "8   LCSNUMCG  string\n",
              "9   LCSCTSCN  string\n",
              "10  CNCRTYP1  string\n",
              "11  STOPSMK2  string\n",
              "12   ASTHMA3  string\n",
              "\n",
              "[13 rows x 2 columns]"
            ],
            "text/html": [
              "\n",
              "  <div id=\"df-65950eee-57c3-4c81-ba57-e83f9a6e8b33\">\n",
              "    <div class=\"colab-df-container\">\n",
              "      <div>\n",
              "<style scoped>\n",
              "    .dataframe tbody tr th:only-of-type {\n",
              "        vertical-align: middle;\n",
              "    }\n",
              "\n",
              "    .dataframe tbody tr th {\n",
              "        vertical-align: top;\n",
              "    }\n",
              "\n",
              "    .dataframe thead th {\n",
              "        text-align: right;\n",
              "    }\n",
              "</style>\n",
              "<table border=\"1\" class=\"dataframe\">\n",
              "  <thead>\n",
              "    <tr style=\"text-align: right;\">\n",
              "      <th></th>\n",
              "      <th>0</th>\n",
              "      <th>1</th>\n",
              "    </tr>\n",
              "  </thead>\n",
              "  <tbody>\n",
              "    <tr>\n",
              "      <th>0</th>\n",
              "      <td>SEXVAR</td>\n",
              "      <td>double</td>\n",
              "    </tr>\n",
              "    <tr>\n",
              "      <th>1</th>\n",
              "      <td>_AGE65YR</td>\n",
              "      <td>double</td>\n",
              "    </tr>\n",
              "    <tr>\n",
              "      <th>2</th>\n",
              "      <td>_BMI5CAT</td>\n",
              "      <td>string</td>\n",
              "    </tr>\n",
              "    <tr>\n",
              "      <th>3</th>\n",
              "      <td>GENHLTH</td>\n",
              "      <td>string</td>\n",
              "    </tr>\n",
              "    <tr>\n",
              "      <th>4</th>\n",
              "      <td>SMOKE100</td>\n",
              "      <td>string</td>\n",
              "    </tr>\n",
              "    <tr>\n",
              "      <th>...</th>\n",
              "      <td>...</td>\n",
              "      <td>...</td>\n",
              "    </tr>\n",
              "    <tr>\n",
              "      <th>8</th>\n",
              "      <td>LCSNUMCG</td>\n",
              "      <td>string</td>\n",
              "    </tr>\n",
              "    <tr>\n",
              "      <th>9</th>\n",
              "      <td>LCSCTSCN</td>\n",
              "      <td>string</td>\n",
              "    </tr>\n",
              "    <tr>\n",
              "      <th>10</th>\n",
              "      <td>CNCRTYP1</td>\n",
              "      <td>string</td>\n",
              "    </tr>\n",
              "    <tr>\n",
              "      <th>11</th>\n",
              "      <td>STOPSMK2</td>\n",
              "      <td>string</td>\n",
              "    </tr>\n",
              "    <tr>\n",
              "      <th>12</th>\n",
              "      <td>ASTHMA3</td>\n",
              "      <td>string</td>\n",
              "    </tr>\n",
              "  </tbody>\n",
              "</table>\n",
              "<p>13 rows × 2 columns</p>\n",
              "</div>\n",
              "      <button class=\"colab-df-convert\" onclick=\"convertToInteractive('df-65950eee-57c3-4c81-ba57-e83f9a6e8b33')\"\n",
              "              title=\"Convert this dataframe to an interactive table.\"\n",
              "              style=\"display:none;\">\n",
              "        \n",
              "  <svg xmlns=\"http://www.w3.org/2000/svg\" height=\"24px\"viewBox=\"0 0 24 24\"\n",
              "       width=\"24px\">\n",
              "    <path d=\"M0 0h24v24H0V0z\" fill=\"none\"/>\n",
              "    <path d=\"M18.56 5.44l.94 2.06.94-2.06 2.06-.94-2.06-.94-.94-2.06-.94 2.06-2.06.94zm-11 1L8.5 8.5l.94-2.06 2.06-.94-2.06-.94L8.5 2.5l-.94 2.06-2.06.94zm10 10l.94 2.06.94-2.06 2.06-.94-2.06-.94-.94-2.06-.94 2.06-2.06.94z\"/><path d=\"M17.41 7.96l-1.37-1.37c-.4-.4-.92-.59-1.43-.59-.52 0-1.04.2-1.43.59L10.3 9.45l-7.72 7.72c-.78.78-.78 2.05 0 2.83L4 21.41c.39.39.9.59 1.41.59.51 0 1.02-.2 1.41-.59l7.78-7.78 2.81-2.81c.8-.78.8-2.07 0-2.86zM5.41 20L4 18.59l7.72-7.72 1.47 1.35L5.41 20z\"/>\n",
              "  </svg>\n",
              "      </button>\n",
              "      \n",
              "  <style>\n",
              "    .colab-df-container {\n",
              "      display:flex;\n",
              "      flex-wrap:wrap;\n",
              "      gap: 12px;\n",
              "    }\n",
              "\n",
              "    .colab-df-convert {\n",
              "      background-color: #E8F0FE;\n",
              "      border: none;\n",
              "      border-radius: 50%;\n",
              "      cursor: pointer;\n",
              "      display: none;\n",
              "      fill: #1967D2;\n",
              "      height: 32px;\n",
              "      padding: 0 0 0 0;\n",
              "      width: 32px;\n",
              "    }\n",
              "\n",
              "    .colab-df-convert:hover {\n",
              "      background-color: #E2EBFA;\n",
              "      box-shadow: 0px 1px 2px rgba(60, 64, 67, 0.3), 0px 1px 3px 1px rgba(60, 64, 67, 0.15);\n",
              "      fill: #174EA6;\n",
              "    }\n",
              "\n",
              "    [theme=dark] .colab-df-convert {\n",
              "      background-color: #3B4455;\n",
              "      fill: #D2E3FC;\n",
              "    }\n",
              "\n",
              "    [theme=dark] .colab-df-convert:hover {\n",
              "      background-color: #434B5C;\n",
              "      box-shadow: 0px 1px 3px 1px rgba(0, 0, 0, 0.15);\n",
              "      filter: drop-shadow(0px 1px 2px rgba(0, 0, 0, 0.3));\n",
              "      fill: #FFFFFF;\n",
              "    }\n",
              "  </style>\n",
              "\n",
              "      <script>\n",
              "        const buttonEl =\n",
              "          document.querySelector('#df-65950eee-57c3-4c81-ba57-e83f9a6e8b33 button.colab-df-convert');\n",
              "        buttonEl.style.display =\n",
              "          google.colab.kernel.accessAllowed ? 'block' : 'none';\n",
              "\n",
              "        async function convertToInteractive(key) {\n",
              "          const element = document.querySelector('#df-65950eee-57c3-4c81-ba57-e83f9a6e8b33');\n",
              "          const dataTable =\n",
              "            await google.colab.kernel.invokeFunction('convertToInteractive',\n",
              "                                                     [key], {});\n",
              "          if (!dataTable) return;\n",
              "\n",
              "          const docLinkHtml = 'Like what you see? Visit the ' +\n",
              "            '<a target=\"_blank\" href=https://colab.research.google.com/notebooks/data_table.ipynb>data table notebook</a>'\n",
              "            + ' to learn more about interactive tables.';\n",
              "          element.innerHTML = '';\n",
              "          dataTable['output_type'] = 'display_data';\n",
              "          await google.colab.output.renderOutput(dataTable, element);\n",
              "          const docLink = document.createElement('div');\n",
              "          docLink.innerHTML = docLinkHtml;\n",
              "          element.appendChild(docLink);\n",
              "        }\n",
              "      </script>\n",
              "    </div>\n",
              "  </div>\n",
              "  "
            ]
          },
          "metadata": {},
          "execution_count": 27
        }
      ]
    },
    {
      "cell_type": "code",
      "source": [],
      "metadata": {
        "id": "skGJX2Qysi94"
      },
      "execution_count": null,
      "outputs": []
    },
    {
      "cell_type": "code",
      "source": [
        "# data summary\n",
        "print('-'*10, 'data summary', '-'*10)\n",
        "data_raw.describe().toPandas()"
      ],
      "metadata": {
        "colab": {
          "base_uri": "https://localhost:8080/",
          "height": 317
        },
        "id": "DYlL8Hk5Sk-i",
        "outputId": "fb0fbf0e-67f4-4e69-d8db-e52d5fc28400"
      },
      "execution_count": null,
      "outputs": [
        {
          "output_type": "stream",
          "name": "stdout",
          "text": [
            "---------- data summary ----------\n"
          ]
        },
        {
          "output_type": "execute_result",
          "data": {
            "text/plain": [
              "  summary              _STATE              FMONTH               IDATE  \\\n",
              "0   count              401958              401958              401958   \n",
              "1    mean  30.010359291269236   5.959192253917076   6662701.046606859   \n",
              "2  stddev  15.773473494903223  3.5242238117738207  3462450.1811220297   \n",
              "3     min                 1.0                 1.0             1012021   \n",
              "4     max                72.0                12.0            12312020   \n",
              "\n",
              "               IMONTH                IDAY               IYEAR  \\\n",
              "0              401958              401958              401958   \n",
              "1   6.510600610013982  15.008040641062001  2020.0301822578479   \n",
              "2  3.4669000464972615   8.428138498040536  0.1710887546889567   \n",
              "3                   1                   1                2020   \n",
              "4                  12                  31                2021   \n",
              "\n",
              "             DISPCODE                 SEQNO                  _PSU  ...  \\\n",
              "0              401958                401958                401958  ...   \n",
              "1  1117.7478741560064  2.0200045922818801E9  2.0200045922818801E9  ...   \n",
              "2  38.207381620255546    3396.6841138105215    3396.6841138105215  ...   \n",
              "3              1100.0            2020000001         2.020000001E9  ...   \n",
              "4              1200.0            2020015835         2.020015835E9  ...   \n",
              "\n",
              "             _RFPSA23            _CLNSCPY             _SGMSCPY  \\\n",
              "0              126604              177922               171486   \n",
              "1  2.3371615430792074  1.5802655096053326    2.851958760481905   \n",
              "2  2.2033784158573253  0.8728051431053163  0.44380827118133553   \n",
              "3                 1.0                 1.0                  1.0   \n",
              "4                 9.0                 3.0                  3.0   \n",
              "\n",
              "             _SGMS10Y            _RFBLDS4            _STOLDNA  \\\n",
              "0              171486              175853              176357   \n",
              "1  2.8366630512111777    2.57898926944664   2.880906343383024   \n",
              "2  0.4879450778036646  0.6730066711378386  0.4513059766839771   \n",
              "3                 1.0                 1.0                 1.0   \n",
              "4                 3.0                 3.0                 3.0   \n",
              "\n",
              "              _VIRCOLN            _SBONTIM            _CRCREC1  \\\n",
              "0               174274              194217              175698   \n",
              "1   2.9384589783903508  2.5372959112745024  1.4172785119921685   \n",
              "2  0.32518874638973705  0.5119272764015419  0.7627272276885876   \n",
              "3                  1.0                 1.0                 1.0   \n",
              "4                  3.0                 3.0                 3.0   \n",
              "\n",
              "            _AIDTST4  \n",
              "0             367921  \n",
              "1  2.040280386278576  \n",
              "2  1.680522189372081  \n",
              "3                1.0  \n",
              "4                9.0  \n",
              "\n",
              "[5 rows x 280 columns]"
            ],
            "text/html": [
              "\n",
              "  <div id=\"df-3424a98d-9771-4931-9432-2cba1344e8e0\">\n",
              "    <div class=\"colab-df-container\">\n",
              "      <div>\n",
              "<style scoped>\n",
              "    .dataframe tbody tr th:only-of-type {\n",
              "        vertical-align: middle;\n",
              "    }\n",
              "\n",
              "    .dataframe tbody tr th {\n",
              "        vertical-align: top;\n",
              "    }\n",
              "\n",
              "    .dataframe thead th {\n",
              "        text-align: right;\n",
              "    }\n",
              "</style>\n",
              "<table border=\"1\" class=\"dataframe\">\n",
              "  <thead>\n",
              "    <tr style=\"text-align: right;\">\n",
              "      <th></th>\n",
              "      <th>summary</th>\n",
              "      <th>_STATE</th>\n",
              "      <th>FMONTH</th>\n",
              "      <th>IDATE</th>\n",
              "      <th>IMONTH</th>\n",
              "      <th>IDAY</th>\n",
              "      <th>IYEAR</th>\n",
              "      <th>DISPCODE</th>\n",
              "      <th>SEQNO</th>\n",
              "      <th>_PSU</th>\n",
              "      <th>...</th>\n",
              "      <th>_RFPSA23</th>\n",
              "      <th>_CLNSCPY</th>\n",
              "      <th>_SGMSCPY</th>\n",
              "      <th>_SGMS10Y</th>\n",
              "      <th>_RFBLDS4</th>\n",
              "      <th>_STOLDNA</th>\n",
              "      <th>_VIRCOLN</th>\n",
              "      <th>_SBONTIM</th>\n",
              "      <th>_CRCREC1</th>\n",
              "      <th>_AIDTST4</th>\n",
              "    </tr>\n",
              "  </thead>\n",
              "  <tbody>\n",
              "    <tr>\n",
              "      <th>0</th>\n",
              "      <td>count</td>\n",
              "      <td>401958</td>\n",
              "      <td>401958</td>\n",
              "      <td>401958</td>\n",
              "      <td>401958</td>\n",
              "      <td>401958</td>\n",
              "      <td>401958</td>\n",
              "      <td>401958</td>\n",
              "      <td>401958</td>\n",
              "      <td>401958</td>\n",
              "      <td>...</td>\n",
              "      <td>126604</td>\n",
              "      <td>177922</td>\n",
              "      <td>171486</td>\n",
              "      <td>171486</td>\n",
              "      <td>175853</td>\n",
              "      <td>176357</td>\n",
              "      <td>174274</td>\n",
              "      <td>194217</td>\n",
              "      <td>175698</td>\n",
              "      <td>367921</td>\n",
              "    </tr>\n",
              "    <tr>\n",
              "      <th>1</th>\n",
              "      <td>mean</td>\n",
              "      <td>30.010359291269236</td>\n",
              "      <td>5.959192253917076</td>\n",
              "      <td>6662701.046606859</td>\n",
              "      <td>6.510600610013982</td>\n",
              "      <td>15.008040641062001</td>\n",
              "      <td>2020.0301822578479</td>\n",
              "      <td>1117.7478741560064</td>\n",
              "      <td>2.0200045922818801E9</td>\n",
              "      <td>2.0200045922818801E9</td>\n",
              "      <td>...</td>\n",
              "      <td>2.3371615430792074</td>\n",
              "      <td>1.5802655096053326</td>\n",
              "      <td>2.851958760481905</td>\n",
              "      <td>2.8366630512111777</td>\n",
              "      <td>2.57898926944664</td>\n",
              "      <td>2.880906343383024</td>\n",
              "      <td>2.9384589783903508</td>\n",
              "      <td>2.5372959112745024</td>\n",
              "      <td>1.4172785119921685</td>\n",
              "      <td>2.040280386278576</td>\n",
              "    </tr>\n",
              "    <tr>\n",
              "      <th>2</th>\n",
              "      <td>stddev</td>\n",
              "      <td>15.773473494903223</td>\n",
              "      <td>3.5242238117738207</td>\n",
              "      <td>3462450.1811220297</td>\n",
              "      <td>3.4669000464972615</td>\n",
              "      <td>8.428138498040536</td>\n",
              "      <td>0.1710887546889567</td>\n",
              "      <td>38.207381620255546</td>\n",
              "      <td>3396.6841138105215</td>\n",
              "      <td>3396.6841138105215</td>\n",
              "      <td>...</td>\n",
              "      <td>2.2033784158573253</td>\n",
              "      <td>0.8728051431053163</td>\n",
              "      <td>0.44380827118133553</td>\n",
              "      <td>0.4879450778036646</td>\n",
              "      <td>0.6730066711378386</td>\n",
              "      <td>0.4513059766839771</td>\n",
              "      <td>0.32518874638973705</td>\n",
              "      <td>0.5119272764015419</td>\n",
              "      <td>0.7627272276885876</td>\n",
              "      <td>1.680522189372081</td>\n",
              "    </tr>\n",
              "    <tr>\n",
              "      <th>3</th>\n",
              "      <td>min</td>\n",
              "      <td>1.0</td>\n",
              "      <td>1.0</td>\n",
              "      <td>1012021</td>\n",
              "      <td>1</td>\n",
              "      <td>1</td>\n",
              "      <td>2020</td>\n",
              "      <td>1100.0</td>\n",
              "      <td>2020000001</td>\n",
              "      <td>2.020000001E9</td>\n",
              "      <td>...</td>\n",
              "      <td>1.0</td>\n",
              "      <td>1.0</td>\n",
              "      <td>1.0</td>\n",
              "      <td>1.0</td>\n",
              "      <td>1.0</td>\n",
              "      <td>1.0</td>\n",
              "      <td>1.0</td>\n",
              "      <td>1.0</td>\n",
              "      <td>1.0</td>\n",
              "      <td>1.0</td>\n",
              "    </tr>\n",
              "    <tr>\n",
              "      <th>4</th>\n",
              "      <td>max</td>\n",
              "      <td>72.0</td>\n",
              "      <td>12.0</td>\n",
              "      <td>12312020</td>\n",
              "      <td>12</td>\n",
              "      <td>31</td>\n",
              "      <td>2021</td>\n",
              "      <td>1200.0</td>\n",
              "      <td>2020015835</td>\n",
              "      <td>2.020015835E9</td>\n",
              "      <td>...</td>\n",
              "      <td>9.0</td>\n",
              "      <td>3.0</td>\n",
              "      <td>3.0</td>\n",
              "      <td>3.0</td>\n",
              "      <td>3.0</td>\n",
              "      <td>3.0</td>\n",
              "      <td>3.0</td>\n",
              "      <td>3.0</td>\n",
              "      <td>3.0</td>\n",
              "      <td>9.0</td>\n",
              "    </tr>\n",
              "  </tbody>\n",
              "</table>\n",
              "<p>5 rows × 280 columns</p>\n",
              "</div>\n",
              "      <button class=\"colab-df-convert\" onclick=\"convertToInteractive('df-3424a98d-9771-4931-9432-2cba1344e8e0')\"\n",
              "              title=\"Convert this dataframe to an interactive table.\"\n",
              "              style=\"display:none;\">\n",
              "        \n",
              "  <svg xmlns=\"http://www.w3.org/2000/svg\" height=\"24px\"viewBox=\"0 0 24 24\"\n",
              "       width=\"24px\">\n",
              "    <path d=\"M0 0h24v24H0V0z\" fill=\"none\"/>\n",
              "    <path d=\"M18.56 5.44l.94 2.06.94-2.06 2.06-.94-2.06-.94-.94-2.06-.94 2.06-2.06.94zm-11 1L8.5 8.5l.94-2.06 2.06-.94-2.06-.94L8.5 2.5l-.94 2.06-2.06.94zm10 10l.94 2.06.94-2.06 2.06-.94-2.06-.94-.94-2.06-.94 2.06-2.06.94z\"/><path d=\"M17.41 7.96l-1.37-1.37c-.4-.4-.92-.59-1.43-.59-.52 0-1.04.2-1.43.59L10.3 9.45l-7.72 7.72c-.78.78-.78 2.05 0 2.83L4 21.41c.39.39.9.59 1.41.59.51 0 1.02-.2 1.41-.59l7.78-7.78 2.81-2.81c.8-.78.8-2.07 0-2.86zM5.41 20L4 18.59l7.72-7.72 1.47 1.35L5.41 20z\"/>\n",
              "  </svg>\n",
              "      </button>\n",
              "      \n",
              "  <style>\n",
              "    .colab-df-container {\n",
              "      display:flex;\n",
              "      flex-wrap:wrap;\n",
              "      gap: 12px;\n",
              "    }\n",
              "\n",
              "    .colab-df-convert {\n",
              "      background-color: #E8F0FE;\n",
              "      border: none;\n",
              "      border-radius: 50%;\n",
              "      cursor: pointer;\n",
              "      display: none;\n",
              "      fill: #1967D2;\n",
              "      height: 32px;\n",
              "      padding: 0 0 0 0;\n",
              "      width: 32px;\n",
              "    }\n",
              "\n",
              "    .colab-df-convert:hover {\n",
              "      background-color: #E2EBFA;\n",
              "      box-shadow: 0px 1px 2px rgba(60, 64, 67, 0.3), 0px 1px 3px 1px rgba(60, 64, 67, 0.15);\n",
              "      fill: #174EA6;\n",
              "    }\n",
              "\n",
              "    [theme=dark] .colab-df-convert {\n",
              "      background-color: #3B4455;\n",
              "      fill: #D2E3FC;\n",
              "    }\n",
              "\n",
              "    [theme=dark] .colab-df-convert:hover {\n",
              "      background-color: #434B5C;\n",
              "      box-shadow: 0px 1px 3px 1px rgba(0, 0, 0, 0.15);\n",
              "      filter: drop-shadow(0px 1px 2px rgba(0, 0, 0, 0.3));\n",
              "      fill: #FFFFFF;\n",
              "    }\n",
              "  </style>\n",
              "\n",
              "      <script>\n",
              "        const buttonEl =\n",
              "          document.querySelector('#df-3424a98d-9771-4931-9432-2cba1344e8e0 button.colab-df-convert');\n",
              "        buttonEl.style.display =\n",
              "          google.colab.kernel.accessAllowed ? 'block' : 'none';\n",
              "\n",
              "        async function convertToInteractive(key) {\n",
              "          const element = document.querySelector('#df-3424a98d-9771-4931-9432-2cba1344e8e0');\n",
              "          const dataTable =\n",
              "            await google.colab.kernel.invokeFunction('convertToInteractive',\n",
              "                                                     [key], {});\n",
              "          if (!dataTable) return;\n",
              "\n",
              "          const docLinkHtml = 'Like what you see? Visit the ' +\n",
              "            '<a target=\"_blank\" href=https://colab.research.google.com/notebooks/data_table.ipynb>data table notebook</a>'\n",
              "            + ' to learn more about interactive tables.';\n",
              "          element.innerHTML = '';\n",
              "          dataTable['output_type'] = 'display_data';\n",
              "          await google.colab.output.renderOutput(dataTable, element);\n",
              "          const docLink = document.createElement('div');\n",
              "          docLink.innerHTML = docLinkHtml;\n",
              "          element.appendChild(docLink);\n",
              "        }\n",
              "      </script>\n",
              "    </div>\n",
              "  </div>\n",
              "  "
            ]
          },
          "metadata": {},
          "execution_count": 19
        }
      ]
    },
    {
      "cell_type": "code",
      "source": [
        "from google.colab import drive\n",
        "drive.mount('/content/drive')"
      ],
      "metadata": {
        "id": "f0oAl82IKAKf",
        "colab": {
          "base_uri": "https://localhost:8080/"
        },
        "outputId": "4b5bb3d0-a031-4223-b363-55683aa8873c"
      },
      "execution_count": 1,
      "outputs": [
        {
          "output_type": "stream",
          "name": "stdout",
          "text": [
            "Mounted at /content/drive\n"
          ]
        }
      ]
    },
    {
      "cell_type": "markdown",
      "source": [
        "# Step 1: Define the problem\n",
        "What sorts of people were likely to have lung cancer?"
      ],
      "metadata": {
        "id": "yZQ9Ioxnrn8C"
      }
    },
    {
      "cell_type": "markdown",
      "source": [
        "# Step 2: Gather the data\n",
        "The datasets can be found here: https://www.kaggle.com/datasets/aemreusta/brfss-2020-survey-data"
      ],
      "metadata": {
        "id": "bc9uZc0_r0rR"
      }
    },
    {
      "cell_type": "markdown",
      "source": [
        "# Step 3: Prepare data for consumption"
      ],
      "metadata": {
        "id": "Iqd2fYf8sANz"
      }
    },
    {
      "cell_type": "code",
      "source": [
        "!pip install kaggle"
      ],
      "metadata": {
        "id": "TKKEiZnQ_Opq",
        "colab": {
          "base_uri": "https://localhost:8080/"
        },
        "outputId": "52a29402-23e8-415d-e757-4adee794b7ec"
      },
      "execution_count": 2,
      "outputs": [
        {
          "output_type": "stream",
          "name": "stdout",
          "text": [
            "Looking in indexes: https://pypi.org/simple, https://us-python.pkg.dev/colab-wheels/public/simple/\n",
            "Requirement already satisfied: kaggle in /usr/local/lib/python3.7/dist-packages (1.5.12)\n",
            "Requirement already satisfied: six>=1.10 in /usr/local/lib/python3.7/dist-packages (from kaggle) (1.15.0)\n",
            "Requirement already satisfied: requests in /usr/local/lib/python3.7/dist-packages (from kaggle) (2.23.0)\n",
            "Requirement already satisfied: tqdm in /usr/local/lib/python3.7/dist-packages (from kaggle) (4.64.1)\n",
            "Requirement already satisfied: urllib3 in /usr/local/lib/python3.7/dist-packages (from kaggle) (1.24.3)\n",
            "Requirement already satisfied: python-dateutil in /usr/local/lib/python3.7/dist-packages (from kaggle) (2.8.2)\n",
            "Requirement already satisfied: certifi in /usr/local/lib/python3.7/dist-packages (from kaggle) (2022.9.24)\n",
            "Requirement already satisfied: python-slugify in /usr/local/lib/python3.7/dist-packages (from kaggle) (6.1.2)\n",
            "Requirement already satisfied: text-unidecode>=1.3 in /usr/local/lib/python3.7/dist-packages (from python-slugify->kaggle) (1.3)\n",
            "Requirement already satisfied: idna<3,>=2.5 in /usr/local/lib/python3.7/dist-packages (from requests->kaggle) (2.10)\n",
            "Requirement already satisfied: chardet<4,>=3.0.2 in /usr/local/lib/python3.7/dist-packages (from requests->kaggle) (3.0.4)\n"
          ]
        }
      ]
    },
    {
      "cell_type": "code",
      "source": [
        "! mkdir ~/.kaggle"
      ],
      "metadata": {
        "id": "HMOTjRHtKNzH"
      },
      "execution_count": 3,
      "outputs": []
    },
    {
      "cell_type": "code",
      "source": [
        "!cp /content/drive/MyDrive/kaggle.json ~/.kaggle/kaggle.json"
      ],
      "metadata": {
        "id": "iZsjMEFPMwt0"
      },
      "execution_count": 4,
      "outputs": []
    },
    {
      "cell_type": "code",
      "source": [
        "! chmod 600 ~/.kaggle/kaggle.json"
      ],
      "metadata": {
        "id": "1hVTxodyKaZn"
      },
      "execution_count": 5,
      "outputs": []
    },
    {
      "cell_type": "code",
      "source": [
        "! kaggle datasets download aemreusta/brfss-2020-survey-data"
      ],
      "metadata": {
        "id": "iwQZmM_OLlfi",
        "colab": {
          "base_uri": "https://localhost:8080/"
        },
        "outputId": "169fca39-00f6-4457-df3d-93b8f7faaaa8"
      },
      "execution_count": 6,
      "outputs": [
        {
          "output_type": "stream",
          "name": "stdout",
          "text": [
            "Downloading brfss-2020-survey-data.zip to /content\n",
            " 97% 47.0M/48.3M [00:02<00:00, 20.1MB/s]\n",
            "100% 48.3M/48.3M [00:02<00:00, 19.5MB/s]\n"
          ]
        }
      ]
    },
    {
      "cell_type": "code",
      "source": [
        "! kaggle datasets download sakinak/behavioral-risk-factor-surveillance-survey-201619"
      ],
      "metadata": {
        "id": "B3TqFy7SlblE",
        "outputId": "7e704a71-f777-47b0-e269-e5c46b064e20",
        "colab": {
          "base_uri": "https://localhost:8080/"
        }
      },
      "execution_count": 7,
      "outputs": [
        {
          "output_type": "stream",
          "name": "stdout",
          "text": [
            "Downloading behavioral-risk-factor-surveillance-survey-201619.zip to /content\n",
            " 99% 231M/234M [00:07<00:00, 36.9MB/s]\n",
            "100% 234M/234M [00:07<00:00, 31.3MB/s]\n"
          ]
        }
      ]
    },
    {
      "cell_type": "code",
      "source": [
        "!ls"
      ],
      "metadata": {
        "id": "Agbrey1YNwLx",
        "colab": {
          "base_uri": "https://localhost:8080/"
        },
        "outputId": "63078a8f-7f54-4400-c4b2-bf26f8324652"
      },
      "execution_count": 8,
      "outputs": [
        {
          "output_type": "stream",
          "name": "stdout",
          "text": [
            "behavioral-risk-factor-surveillance-survey-201619.zip  drive\n",
            "brfss-2020-survey-data.zip\t\t\t       sample_data\n"
          ]
        }
      ]
    },
    {
      "cell_type": "code",
      "source": [
        "!unzip brfss-2020-survey-data.zip"
      ],
      "metadata": {
        "id": "iOsR2nmcOFtl",
        "colab": {
          "base_uri": "https://localhost:8080/"
        },
        "outputId": "a6346346-ca55-461d-d0ba-c59ccd09396b"
      },
      "execution_count": 9,
      "outputs": [
        {
          "output_type": "stream",
          "name": "stdout",
          "text": [
            "Archive:  brfss-2020-survey-data.zip\n",
            "  inflating: brfss2020.csv           \n"
          ]
        }
      ]
    },
    {
      "cell_type": "code",
      "source": [
        "!unzip behavioral-risk-factor-surveillance-survey-201619.zip"
      ],
      "metadata": {
        "id": "tHtnFSMplmq6",
        "outputId": "f52ae7bf-f33b-4abf-db24-a6affd2cc729",
        "colab": {
          "base_uri": "https://localhost:8080/"
        }
      },
      "execution_count": 10,
      "outputs": [
        {
          "output_type": "stream",
          "name": "stdout",
          "text": [
            "Archive:  behavioral-risk-factor-surveillance-survey-201619.zip\n",
            "  inflating: 2016.csv                \n",
            "  inflating: 2017.csv                \n",
            "  inflating: 2018.csv                \n",
            "  inflating: 2019.csv                \n"
          ]
        }
      ]
    },
    {
      "cell_type": "code",
      "source": [
        "from subprocess import check_output\n",
        "print('-'*10, 'Files', '-'*10)\n",
        "print(check_output(['ls', './']).decode('utf8'))"
      ],
      "metadata": {
        "colab": {
          "base_uri": "https://localhost:8080/"
        },
        "id": "Hay7kOmrSQU6",
        "outputId": "d0386452-dbf0-43cf-8e18-d33159eb5c99"
      },
      "execution_count": 11,
      "outputs": [
        {
          "output_type": "stream",
          "name": "stdout",
          "text": [
            "---------- Files ----------\n",
            "2016.csv\n",
            "2017.csv\n",
            "2018.csv\n",
            "2019.csv\n",
            "behavioral-risk-factor-surveillance-survey-201619.zip\n",
            "brfss2020.csv\n",
            "brfss-2020-survey-data.zip\n",
            "drive\n",
            "sample_data\n",
            "\n"
          ]
        }
      ]
    },
    {
      "cell_type": "markdown",
      "source": [
        "## About the BRFSS Dataset and Prediction Task\n",
        "\n",
        "The Behavioral Risk Factor Surveillance System (BRFSS) is a collaborative project between all of the states in the United States and participating US territories and the Centers for Disease Control and Prevention (CDC).\n",
        "\n",
        "BRFSS’s objective is to collect uniform state-specific data on health risk behaviors, chronic diseases and conditions, access to health care, and use of preventive health services related to the leading causes of death and disability in the United States. BRFSS conducts both landline and mobile phone-based surveys with individuals over the age of 18. General factors assessed by the BRFSS in 2020 included health status and healthy days, exercise, insufficient sleep, chronic health conditions, oral health, tobacco use, cancer screenings, and access to healthcare.\n",
        "\n",
        "The aim of this project is to build a model with relatively high accuracy and AUC that could serve as an decision aid for those at high risk of developing lung cancer.\n",
        "\n",
        "The data contains information about 401958 unique survey participant. As a result of my research to select the ones related to coronary artery disease among a total of 279 different features. Each example in the dataset contains the following demographic data for a set of individuals\n",
        "\n",
        "### Categorical Features\n",
        "*   `_AGE65YR`: The age of the individual in years two-level categories `18 <= AGE <= 64`: `1` and `65 <= AGE <= 99`:`2`\n",
        "*   `SEXVAR`: Sex of Respondent `Male: 1` and `Female: 2`\n",
        "*   `_BMI5CAT`:  Four-categories of Body Mass Index (BMI)`_BMI5 < 1850: Underweight` ; `1850 <= _BMI5 < 2500: Normal`;`2500 <= _BMI5 < 3000: Overweight`;`3000 <= _BMI5 < 9999: Obese`\n",
        "*   `GENHLTH`: Health status: Would you say that in general your health is: `1: Excellent`; `2: Very good` ; `3: Good` ; `4: Fair` ; `5: Poor`\n",
        "*   `SMOKE100`: Have you smoked at least 100 cigarettes in your entire life? [Note: 5 packs = 100 cigarettes] `1: Yes` ; `2: No`\n",
        "*   `_SMOKER3`: Four-level smoker status: Everyday smoker: `1`, Someday smoker: `2`, Former smoker: `3`, Non-smoker: `4`\n",
        "\n",
        "### Lung Cancer (Features) Screening Section\n",
        "*   `LCSFIRST`: How old were you when you first started to smoke cigarettes regularly. `Value 1-100 in years`\n",
        "*   `LCSLAST`: How old were you when you last smoked cigarettes regularly? `Value 1-100 in years`\n",
        "*   `LCSNUMCG`: On average, when you smoke/smoked regularly, about how many cigarettes do/did you usually smoke each \n",
        "day? `Value 1-300 in number of cigarettes`\n",
        "*   `LCSCTSCN`: In the last 12 months, did you have a CT or CAT scan? Example include: `Yes, to check for lung cancer`, `No (did not have a CT scan`, `Had a CT scan, but for other reason`.\n",
        "*   `CNCRTYP1`:  What type of cancer was it? (If Response = 2 (Two) or 3 (Three or more), ask: “With your most recent \n",
        "diagnoses of cancer, what type of cancer was it?”). Examples include: `Lung cancer: 24`, `Others: 1-30`\n",
        "*   `STOPSMK2`:  During the past 12 months, have you stopped smoking for one day or longer because you were trying to quit smoking? `Yes: 1` or `No: 2`.\n",
        "*   `ECIGARET`: Have you ever used an e-cigarette or other electronic vaping product, even just one time, in your entire life? `Yes: 1` or `No: 2`.\n",
        "*   `ECIGNOW`: Do you now use e-cigarettes or other electronic vaping products every day, some days, or not at all? `Every day: 1`; `Some days: 2` or `Not at all: 3`\n",
        "* `ASTHMA3`: (Ever told) (you had) asthma? `Yes: 1` or `No: 2`.\n",
        "### Prediction Task\n",
        "The prediction task is to **early predict whether a person have the high risk of lung cancer.**\n",
        "\n",
        "### Label\n",
        "*   `CNCRTYP1`: What type of cancer (lung cancer = 24)\n",
        "\n",
        "### Notes on Data Collection\n",
        "\n",
        "All the examples extracted for this dataset meet the following conditions: \n",
        "*   `age` is 16 years or older.\n",
        "*   The adjusted gross income (used to calculate `income_bracket`) is greater than $100 USD annually.\n",
        "*   `fnlwgt` is greater than 0.\n",
        "*   `hours_per_week` is greater than 0.\n",
        "\n",
        "\n",
        "\n",
        "\n"
      ],
      "metadata": {
        "id": "FU9ICs1C3_i-"
      }
    },
    {
      "cell_type": "code",
      "source": [
        "import numpy as np\n",
        "import pandas as pd\n",
        "import tensorflow as tf\n",
        "from tensorflow.keras import layers\n",
        "from matplotlib import pyplot as plt\n",
        "from matplotlib import rcParams\n",
        "from sklearn.model_selection import train_test_split\n",
        "import seaborn as sns\n",
        "\n",
        "# The following lines adjust the granularity of reporting. \n",
        "pd.options.display.max_rows = 10\n",
        "pd.options.display.float_format = \"{:.1f}\".format\n",
        "\n",
        "from google.colab import widgets\n",
        "# For facets\n",
        "from IPython.core.display import display, HTML\n",
        "import base64\n",
        "!pip install facets-overview==1.0.0\n",
        "from facets_overview.feature_statistics_generator import FeatureStatisticsGenerator"
      ],
      "metadata": {
        "id": "AIaSSnM5G8kt",
        "outputId": "a6b0937d-9db7-4863-e669-ae6756dffedb",
        "colab": {
          "base_uri": "https://localhost:8080/"
        }
      },
      "execution_count": 12,
      "outputs": [
        {
          "output_type": "stream",
          "name": "stdout",
          "text": [
            "Looking in indexes: https://pypi.org/simple, https://us-python.pkg.dev/colab-wheels/public/simple/\n",
            "Collecting facets-overview==1.0.0\n",
            "  Downloading facets_overview-1.0.0-py2.py3-none-any.whl (24 kB)\n",
            "Requirement already satisfied: pandas>=0.22.0 in /usr/local/lib/python3.7/dist-packages (from facets-overview==1.0.0) (1.3.5)\n",
            "Requirement already satisfied: protobuf>=3.7.0 in /usr/local/lib/python3.7/dist-packages (from facets-overview==1.0.0) (3.19.6)\n",
            "Requirement already satisfied: numpy>=1.16.0 in /usr/local/lib/python3.7/dist-packages (from facets-overview==1.0.0) (1.21.6)\n",
            "Requirement already satisfied: python-dateutil>=2.7.3 in /usr/local/lib/python3.7/dist-packages (from pandas>=0.22.0->facets-overview==1.0.0) (2.8.2)\n",
            "Requirement already satisfied: pytz>=2017.3 in /usr/local/lib/python3.7/dist-packages (from pandas>=0.22.0->facets-overview==1.0.0) (2022.6)\n",
            "Requirement already satisfied: six>=1.5 in /usr/local/lib/python3.7/dist-packages (from python-dateutil>=2.7.3->pandas>=0.22.0->facets-overview==1.0.0) (1.15.0)\n",
            "Installing collected packages: facets-overview\n",
            "Successfully installed facets-overview-1.0.0\n"
          ]
        }
      ]
    },
    {
      "cell_type": "code",
      "source": [
        "from glob import glob\n",
        "files = glob(\"./*.csv\")\n",
        "files"
      ],
      "metadata": {
        "id": "LemS-EBvmRxA",
        "outputId": "22afa167-d34a-4df6-af73-949f8bf19d17",
        "colab": {
          "base_uri": "https://localhost:8080/"
        }
      },
      "execution_count": 16,
      "outputs": [
        {
          "output_type": "execute_result",
          "data": {
            "text/plain": [
              "['./2016.csv', './brfss2020.csv', './2018.csv', './2019.csv', './2017.csv']"
            ]
          },
          "metadata": {},
          "execution_count": 16
        }
      ]
    },
    {
      "cell_type": "code",
      "source": [
        "df = pd.concat([pd.read_csv(file) for file in files])"
      ],
      "metadata": {
        "id": "LiFF9UR1kVHV",
        "outputId": "8bc22e30-0b10-4f64-9073-97ba5b45e5f9",
        "colab": {
          "base_uri": "https://localhost:8080/"
        }
      },
      "execution_count": null,
      "outputs": [
        {
          "output_type": "stream",
          "name": "stderr",
          "text": [
            "/usr/local/lib/python3.7/dist-packages/ipykernel_launcher.py:1: DtypeWarning: Columns (131) have mixed types.Specify dtype option on import or set low_memory=False.\n",
            "  \"\"\"Entry point for launching an IPython kernel.\n",
            "/usr/local/lib/python3.7/dist-packages/ipykernel_launcher.py:1: DtypeWarning: Columns (125) have mixed types.Specify dtype option on import or set low_memory=False.\n",
            "  \"\"\"Entry point for launching an IPython kernel.\n",
            "/usr/local/lib/python3.7/dist-packages/ipykernel_launcher.py:1: DtypeWarning: Columns (171) have mixed types.Specify dtype option on import or set low_memory=False.\n",
            "  \"\"\"Entry point for launching an IPython kernel.\n"
          ]
        }
      ]
    },
    {
      "cell_type": "code",
      "source": [
        "columns = ['_AGE65YR', '_BMI5CAT', 'GENHLTH', 'SMOKE100', '_SMOKER3',\n",
        "                  'LCSFIRST', 'LCSLAST', 'LCSNUMCG', 'LCSCTSCN', 'CNCRTYP1',\n",
        "                  'STOPSMK2', 'ASTHMA3'] #'SEXVAR', \n",
        "\n",
        "data_2020 = pd.read_csv('./brfss2020.csv', usecols=columns).dropna().astype(\"float\")\n",
        "print(\"df shape:\", data_2020.shape)\n",
        "data_2020.head()"
      ],
      "metadata": {
        "id": "uFH7qV68xwB6",
        "outputId": "b0a830fb-158b-4399-a222-700994010d9b",
        "colab": {
          "base_uri": "https://localhost:8080/",
          "height": 224
        }
      },
      "execution_count": 29,
      "outputs": [
        {
          "output_type": "stream",
          "name": "stdout",
          "text": [
            "df shape: (236, 12)\n"
          ]
        },
        {
          "output_type": "execute_result",
          "data": {
            "text/plain": [
              "       GENHLTH  ASTHMA3  SMOKE100  STOPSMK2  LCSFIRST  LCSLAST  LCSNUMCG  \\\n",
              "48625      3.0      2.0       1.0       1.0      14.0     39.0       4.0   \n",
              "48647      3.0      2.0       1.0       2.0      18.0     66.0      10.0   \n",
              "48691      3.0      2.0       1.0       2.0      18.0     70.0      10.0   \n",
              "48698      1.0      2.0       1.0       1.0      21.0     71.0      10.0   \n",
              "48719      5.0      2.0       1.0       2.0      13.0     75.0     777.0   \n",
              "\n",
              "       LCSCTSCN  CNCRTYP1  _AGE65YR  _BMI5CAT  _SMOKER3  \n",
              "48625       3.0      22.0       1.0       4.0       2.0  \n",
              "48647       2.0       4.0       2.0       4.0       1.0  \n",
              "48691       2.0      30.0       2.0       1.0       1.0  \n",
              "48698       1.0      22.0       2.0       4.0       1.0  \n",
              "48719       2.0      22.0       2.0       3.0       1.0  "
            ],
            "text/html": [
              "\n",
              "  <div id=\"df-b5668d32-24c9-48f0-a22f-35c708d56ea3\">\n",
              "    <div class=\"colab-df-container\">\n",
              "      <div>\n",
              "<style scoped>\n",
              "    .dataframe tbody tr th:only-of-type {\n",
              "        vertical-align: middle;\n",
              "    }\n",
              "\n",
              "    .dataframe tbody tr th {\n",
              "        vertical-align: top;\n",
              "    }\n",
              "\n",
              "    .dataframe thead th {\n",
              "        text-align: right;\n",
              "    }\n",
              "</style>\n",
              "<table border=\"1\" class=\"dataframe\">\n",
              "  <thead>\n",
              "    <tr style=\"text-align: right;\">\n",
              "      <th></th>\n",
              "      <th>GENHLTH</th>\n",
              "      <th>ASTHMA3</th>\n",
              "      <th>SMOKE100</th>\n",
              "      <th>STOPSMK2</th>\n",
              "      <th>LCSFIRST</th>\n",
              "      <th>LCSLAST</th>\n",
              "      <th>LCSNUMCG</th>\n",
              "      <th>LCSCTSCN</th>\n",
              "      <th>CNCRTYP1</th>\n",
              "      <th>_AGE65YR</th>\n",
              "      <th>_BMI5CAT</th>\n",
              "      <th>_SMOKER3</th>\n",
              "    </tr>\n",
              "  </thead>\n",
              "  <tbody>\n",
              "    <tr>\n",
              "      <th>48625</th>\n",
              "      <td>3.0</td>\n",
              "      <td>2.0</td>\n",
              "      <td>1.0</td>\n",
              "      <td>1.0</td>\n",
              "      <td>14.0</td>\n",
              "      <td>39.0</td>\n",
              "      <td>4.0</td>\n",
              "      <td>3.0</td>\n",
              "      <td>22.0</td>\n",
              "      <td>1.0</td>\n",
              "      <td>4.0</td>\n",
              "      <td>2.0</td>\n",
              "    </tr>\n",
              "    <tr>\n",
              "      <th>48647</th>\n",
              "      <td>3.0</td>\n",
              "      <td>2.0</td>\n",
              "      <td>1.0</td>\n",
              "      <td>2.0</td>\n",
              "      <td>18.0</td>\n",
              "      <td>66.0</td>\n",
              "      <td>10.0</td>\n",
              "      <td>2.0</td>\n",
              "      <td>4.0</td>\n",
              "      <td>2.0</td>\n",
              "      <td>4.0</td>\n",
              "      <td>1.0</td>\n",
              "    </tr>\n",
              "    <tr>\n",
              "      <th>48691</th>\n",
              "      <td>3.0</td>\n",
              "      <td>2.0</td>\n",
              "      <td>1.0</td>\n",
              "      <td>2.0</td>\n",
              "      <td>18.0</td>\n",
              "      <td>70.0</td>\n",
              "      <td>10.0</td>\n",
              "      <td>2.0</td>\n",
              "      <td>30.0</td>\n",
              "      <td>2.0</td>\n",
              "      <td>1.0</td>\n",
              "      <td>1.0</td>\n",
              "    </tr>\n",
              "    <tr>\n",
              "      <th>48698</th>\n",
              "      <td>1.0</td>\n",
              "      <td>2.0</td>\n",
              "      <td>1.0</td>\n",
              "      <td>1.0</td>\n",
              "      <td>21.0</td>\n",
              "      <td>71.0</td>\n",
              "      <td>10.0</td>\n",
              "      <td>1.0</td>\n",
              "      <td>22.0</td>\n",
              "      <td>2.0</td>\n",
              "      <td>4.0</td>\n",
              "      <td>1.0</td>\n",
              "    </tr>\n",
              "    <tr>\n",
              "      <th>48719</th>\n",
              "      <td>5.0</td>\n",
              "      <td>2.0</td>\n",
              "      <td>1.0</td>\n",
              "      <td>2.0</td>\n",
              "      <td>13.0</td>\n",
              "      <td>75.0</td>\n",
              "      <td>777.0</td>\n",
              "      <td>2.0</td>\n",
              "      <td>22.0</td>\n",
              "      <td>2.0</td>\n",
              "      <td>3.0</td>\n",
              "      <td>1.0</td>\n",
              "    </tr>\n",
              "  </tbody>\n",
              "</table>\n",
              "</div>\n",
              "      <button class=\"colab-df-convert\" onclick=\"convertToInteractive('df-b5668d32-24c9-48f0-a22f-35c708d56ea3')\"\n",
              "              title=\"Convert this dataframe to an interactive table.\"\n",
              "              style=\"display:none;\">\n",
              "        \n",
              "  <svg xmlns=\"http://www.w3.org/2000/svg\" height=\"24px\"viewBox=\"0 0 24 24\"\n",
              "       width=\"24px\">\n",
              "    <path d=\"M0 0h24v24H0V0z\" fill=\"none\"/>\n",
              "    <path d=\"M18.56 5.44l.94 2.06.94-2.06 2.06-.94-2.06-.94-.94-2.06-.94 2.06-2.06.94zm-11 1L8.5 8.5l.94-2.06 2.06-.94-2.06-.94L8.5 2.5l-.94 2.06-2.06.94zm10 10l.94 2.06.94-2.06 2.06-.94-2.06-.94-.94-2.06-.94 2.06-2.06.94z\"/><path d=\"M17.41 7.96l-1.37-1.37c-.4-.4-.92-.59-1.43-.59-.52 0-1.04.2-1.43.59L10.3 9.45l-7.72 7.72c-.78.78-.78 2.05 0 2.83L4 21.41c.39.39.9.59 1.41.59.51 0 1.02-.2 1.41-.59l7.78-7.78 2.81-2.81c.8-.78.8-2.07 0-2.86zM5.41 20L4 18.59l7.72-7.72 1.47 1.35L5.41 20z\"/>\n",
              "  </svg>\n",
              "      </button>\n",
              "      \n",
              "  <style>\n",
              "    .colab-df-container {\n",
              "      display:flex;\n",
              "      flex-wrap:wrap;\n",
              "      gap: 12px;\n",
              "    }\n",
              "\n",
              "    .colab-df-convert {\n",
              "      background-color: #E8F0FE;\n",
              "      border: none;\n",
              "      border-radius: 50%;\n",
              "      cursor: pointer;\n",
              "      display: none;\n",
              "      fill: #1967D2;\n",
              "      height: 32px;\n",
              "      padding: 0 0 0 0;\n",
              "      width: 32px;\n",
              "    }\n",
              "\n",
              "    .colab-df-convert:hover {\n",
              "      background-color: #E2EBFA;\n",
              "      box-shadow: 0px 1px 2px rgba(60, 64, 67, 0.3), 0px 1px 3px 1px rgba(60, 64, 67, 0.15);\n",
              "      fill: #174EA6;\n",
              "    }\n",
              "\n",
              "    [theme=dark] .colab-df-convert {\n",
              "      background-color: #3B4455;\n",
              "      fill: #D2E3FC;\n",
              "    }\n",
              "\n",
              "    [theme=dark] .colab-df-convert:hover {\n",
              "      background-color: #434B5C;\n",
              "      box-shadow: 0px 1px 3px 1px rgba(0, 0, 0, 0.15);\n",
              "      filter: drop-shadow(0px 1px 2px rgba(0, 0, 0, 0.3));\n",
              "      fill: #FFFFFF;\n",
              "    }\n",
              "  </style>\n",
              "\n",
              "      <script>\n",
              "        const buttonEl =\n",
              "          document.querySelector('#df-b5668d32-24c9-48f0-a22f-35c708d56ea3 button.colab-df-convert');\n",
              "        buttonEl.style.display =\n",
              "          google.colab.kernel.accessAllowed ? 'block' : 'none';\n",
              "\n",
              "        async function convertToInteractive(key) {\n",
              "          const element = document.querySelector('#df-b5668d32-24c9-48f0-a22f-35c708d56ea3');\n",
              "          const dataTable =\n",
              "            await google.colab.kernel.invokeFunction('convertToInteractive',\n",
              "                                                     [key], {});\n",
              "          if (!dataTable) return;\n",
              "\n",
              "          const docLinkHtml = 'Like what you see? Visit the ' +\n",
              "            '<a target=\"_blank\" href=https://colab.research.google.com/notebooks/data_table.ipynb>data table notebook</a>'\n",
              "            + ' to learn more about interactive tables.';\n",
              "          element.innerHTML = '';\n",
              "          dataTable['output_type'] = 'display_data';\n",
              "          await google.colab.output.renderOutput(dataTable, element);\n",
              "          const docLink = document.createElement('div');\n",
              "          docLink.innerHTML = docLinkHtml;\n",
              "          element.appendChild(docLink);\n",
              "        }\n",
              "      </script>\n",
              "    </div>\n",
              "  </div>\n",
              "  "
            ]
          },
          "metadata": {},
          "execution_count": 29
        }
      ]
    },
    {
      "cell_type": "code",
      "source": [
        "columns = ['_AGE65YR', '_BMI5CAT', 'GENHLTH', 'SMOKE100', '_SMOKER3',\n",
        "                  'LCSFIRST', 'LCSLAST', 'LCSNUMCG', 'LCSCTSCN', 'CNCRTYP1',\n",
        "                  'STOPSMK2', 'ASTHMA3'] #'SEXVAR'\n",
        "\n",
        "data_2019 = pd.read_csv('./2019.csv', usecols=columns).dropna().astype(\"float\")\n",
        "print(\"df shape:\", data_2019.shape)\n",
        "data_2019.head()"
      ],
      "metadata": {
        "id": "vtcDgbqb1aw8",
        "outputId": "b62271fc-4bd8-40bc-d654-4dbec2bceda1",
        "colab": {
          "base_uri": "https://localhost:8080/",
          "height": 67
        }
      },
      "execution_count": 26,
      "outputs": [
        {
          "output_type": "stream",
          "name": "stdout",
          "text": [
            "df shape: (0, 12)\n"
          ]
        },
        {
          "output_type": "execute_result",
          "data": {
            "text/plain": [
              "Empty DataFrame\n",
              "Columns: [GENHLTH, ASTHMA3, SMOKE100, STOPSMK2, LCSFIRST, LCSLAST, LCSNUMCG, LCSCTSCN, CNCRTYP1, _AGE65YR, _BMI5CAT, _SMOKER3]\n",
              "Index: []"
            ],
            "text/html": [
              "\n",
              "  <div id=\"df-f48b0d87-8ec3-4e6d-93f0-fc3f1e8b01d4\">\n",
              "    <div class=\"colab-df-container\">\n",
              "      <div>\n",
              "<style scoped>\n",
              "    .dataframe tbody tr th:only-of-type {\n",
              "        vertical-align: middle;\n",
              "    }\n",
              "\n",
              "    .dataframe tbody tr th {\n",
              "        vertical-align: top;\n",
              "    }\n",
              "\n",
              "    .dataframe thead th {\n",
              "        text-align: right;\n",
              "    }\n",
              "</style>\n",
              "<table border=\"1\" class=\"dataframe\">\n",
              "  <thead>\n",
              "    <tr style=\"text-align: right;\">\n",
              "      <th></th>\n",
              "      <th>GENHLTH</th>\n",
              "      <th>ASTHMA3</th>\n",
              "      <th>SMOKE100</th>\n",
              "      <th>STOPSMK2</th>\n",
              "      <th>LCSFIRST</th>\n",
              "      <th>LCSLAST</th>\n",
              "      <th>LCSNUMCG</th>\n",
              "      <th>LCSCTSCN</th>\n",
              "      <th>CNCRTYP1</th>\n",
              "      <th>_AGE65YR</th>\n",
              "      <th>_BMI5CAT</th>\n",
              "      <th>_SMOKER3</th>\n",
              "    </tr>\n",
              "  </thead>\n",
              "  <tbody>\n",
              "  </tbody>\n",
              "</table>\n",
              "</div>\n",
              "      <button class=\"colab-df-convert\" onclick=\"convertToInteractive('df-f48b0d87-8ec3-4e6d-93f0-fc3f1e8b01d4')\"\n",
              "              title=\"Convert this dataframe to an interactive table.\"\n",
              "              style=\"display:none;\">\n",
              "        \n",
              "  <svg xmlns=\"http://www.w3.org/2000/svg\" height=\"24px\"viewBox=\"0 0 24 24\"\n",
              "       width=\"24px\">\n",
              "    <path d=\"M0 0h24v24H0V0z\" fill=\"none\"/>\n",
              "    <path d=\"M18.56 5.44l.94 2.06.94-2.06 2.06-.94-2.06-.94-.94-2.06-.94 2.06-2.06.94zm-11 1L8.5 8.5l.94-2.06 2.06-.94-2.06-.94L8.5 2.5l-.94 2.06-2.06.94zm10 10l.94 2.06.94-2.06 2.06-.94-2.06-.94-.94-2.06-.94 2.06-2.06.94z\"/><path d=\"M17.41 7.96l-1.37-1.37c-.4-.4-.92-.59-1.43-.59-.52 0-1.04.2-1.43.59L10.3 9.45l-7.72 7.72c-.78.78-.78 2.05 0 2.83L4 21.41c.39.39.9.59 1.41.59.51 0 1.02-.2 1.41-.59l7.78-7.78 2.81-2.81c.8-.78.8-2.07 0-2.86zM5.41 20L4 18.59l7.72-7.72 1.47 1.35L5.41 20z\"/>\n",
              "  </svg>\n",
              "      </button>\n",
              "      \n",
              "  <style>\n",
              "    .colab-df-container {\n",
              "      display:flex;\n",
              "      flex-wrap:wrap;\n",
              "      gap: 12px;\n",
              "    }\n",
              "\n",
              "    .colab-df-convert {\n",
              "      background-color: #E8F0FE;\n",
              "      border: none;\n",
              "      border-radius: 50%;\n",
              "      cursor: pointer;\n",
              "      display: none;\n",
              "      fill: #1967D2;\n",
              "      height: 32px;\n",
              "      padding: 0 0 0 0;\n",
              "      width: 32px;\n",
              "    }\n",
              "\n",
              "    .colab-df-convert:hover {\n",
              "      background-color: #E2EBFA;\n",
              "      box-shadow: 0px 1px 2px rgba(60, 64, 67, 0.3), 0px 1px 3px 1px rgba(60, 64, 67, 0.15);\n",
              "      fill: #174EA6;\n",
              "    }\n",
              "\n",
              "    [theme=dark] .colab-df-convert {\n",
              "      background-color: #3B4455;\n",
              "      fill: #D2E3FC;\n",
              "    }\n",
              "\n",
              "    [theme=dark] .colab-df-convert:hover {\n",
              "      background-color: #434B5C;\n",
              "      box-shadow: 0px 1px 3px 1px rgba(0, 0, 0, 0.15);\n",
              "      filter: drop-shadow(0px 1px 2px rgba(0, 0, 0, 0.3));\n",
              "      fill: #FFFFFF;\n",
              "    }\n",
              "  </style>\n",
              "\n",
              "      <script>\n",
              "        const buttonEl =\n",
              "          document.querySelector('#df-f48b0d87-8ec3-4e6d-93f0-fc3f1e8b01d4 button.colab-df-convert');\n",
              "        buttonEl.style.display =\n",
              "          google.colab.kernel.accessAllowed ? 'block' : 'none';\n",
              "\n",
              "        async function convertToInteractive(key) {\n",
              "          const element = document.querySelector('#df-f48b0d87-8ec3-4e6d-93f0-fc3f1e8b01d4');\n",
              "          const dataTable =\n",
              "            await google.colab.kernel.invokeFunction('convertToInteractive',\n",
              "                                                     [key], {});\n",
              "          if (!dataTable) return;\n",
              "\n",
              "          const docLinkHtml = 'Like what you see? Visit the ' +\n",
              "            '<a target=\"_blank\" href=https://colab.research.google.com/notebooks/data_table.ipynb>data table notebook</a>'\n",
              "            + ' to learn more about interactive tables.';\n",
              "          element.innerHTML = '';\n",
              "          dataTable['output_type'] = 'display_data';\n",
              "          await google.colab.output.renderOutput(dataTable, element);\n",
              "          const docLink = document.createElement('div');\n",
              "          docLink.innerHTML = docLinkHtml;\n",
              "          element.appendChild(docLink);\n",
              "        }\n",
              "      </script>\n",
              "    </div>\n",
              "  </div>\n",
              "  "
            ]
          },
          "metadata": {},
          "execution_count": 26
        }
      ]
    },
    {
      "cell_type": "code",
      "source": [
        "columns = ['_AGE65YR', '_BMI5CAT', 'GENHLTH', 'SMOKE100', '_SMOKER3',\n",
        "                  'LCSFIRST', 'LCSLAST', 'LCSNUMCG', 'LCSCTSCN', 'CNCRTYP1',\n",
        "                  'STOPSMK2', 'ASTHMA3'] #'SEXVAR'\n",
        "\n",
        "data_2018 = pd.read_csv('./2018.csv', usecols=columns).dropna().astype(\"float\")\n",
        "print(\"df shape:\", data_2018.shape)\n",
        "data_2018.head()"
      ],
      "metadata": {
        "id": "13Orrla5Yitb",
        "outputId": "ce8d1b14-8557-49f3-c11a-e1bf91c4873c",
        "colab": {
          "base_uri": "https://localhost:8080/",
          "height": 224
        }
      },
      "execution_count": 24,
      "outputs": [
        {
          "output_type": "stream",
          "name": "stdout",
          "text": [
            "df shape: (240, 12)\n"
          ]
        },
        {
          "output_type": "execute_result",
          "data": {
            "text/plain": [
              "       GENHLTH  ASTHMA3  SMOKE100  STOPSMK2  LCSFIRST  LCSLAST  LCSNUMCG  \\\n",
              "54354      2.0      2.0       1.0       1.0     777.0    777.0      10.0   \n",
              "54389      2.0      2.0       1.0       2.0      15.0     67.0      30.0   \n",
              "54432      1.0      2.0       1.0       2.0      15.0     50.0      20.0   \n",
              "54512      3.0      2.0       1.0       2.0      15.0     63.0      20.0   \n",
              "54597      2.0      2.0       1.0       1.0      15.0     64.0      10.0   \n",
              "\n",
              "       LCSCTSCN  CNCRTYP1  _AGE65YR  _BMI5CAT  _SMOKER3  \n",
              "54354       2.0      22.0       1.0       2.0       2.0  \n",
              "54389       2.0      22.0       2.0       2.0       1.0  \n",
              "54432       3.0      21.0       1.0       4.0       1.0  \n",
              "54512       2.0      22.0       1.0       2.0       1.0  \n",
              "54597       1.0      22.0       1.0       1.0       1.0  "
            ],
            "text/html": [
              "\n",
              "  <div id=\"df-d7ccb2c5-0f78-477e-bb20-502c2e36113a\">\n",
              "    <div class=\"colab-df-container\">\n",
              "      <div>\n",
              "<style scoped>\n",
              "    .dataframe tbody tr th:only-of-type {\n",
              "        vertical-align: middle;\n",
              "    }\n",
              "\n",
              "    .dataframe tbody tr th {\n",
              "        vertical-align: top;\n",
              "    }\n",
              "\n",
              "    .dataframe thead th {\n",
              "        text-align: right;\n",
              "    }\n",
              "</style>\n",
              "<table border=\"1\" class=\"dataframe\">\n",
              "  <thead>\n",
              "    <tr style=\"text-align: right;\">\n",
              "      <th></th>\n",
              "      <th>GENHLTH</th>\n",
              "      <th>ASTHMA3</th>\n",
              "      <th>SMOKE100</th>\n",
              "      <th>STOPSMK2</th>\n",
              "      <th>LCSFIRST</th>\n",
              "      <th>LCSLAST</th>\n",
              "      <th>LCSNUMCG</th>\n",
              "      <th>LCSCTSCN</th>\n",
              "      <th>CNCRTYP1</th>\n",
              "      <th>_AGE65YR</th>\n",
              "      <th>_BMI5CAT</th>\n",
              "      <th>_SMOKER3</th>\n",
              "    </tr>\n",
              "  </thead>\n",
              "  <tbody>\n",
              "    <tr>\n",
              "      <th>54354</th>\n",
              "      <td>2.0</td>\n",
              "      <td>2.0</td>\n",
              "      <td>1.0</td>\n",
              "      <td>1.0</td>\n",
              "      <td>777.0</td>\n",
              "      <td>777.0</td>\n",
              "      <td>10.0</td>\n",
              "      <td>2.0</td>\n",
              "      <td>22.0</td>\n",
              "      <td>1.0</td>\n",
              "      <td>2.0</td>\n",
              "      <td>2.0</td>\n",
              "    </tr>\n",
              "    <tr>\n",
              "      <th>54389</th>\n",
              "      <td>2.0</td>\n",
              "      <td>2.0</td>\n",
              "      <td>1.0</td>\n",
              "      <td>2.0</td>\n",
              "      <td>15.0</td>\n",
              "      <td>67.0</td>\n",
              "      <td>30.0</td>\n",
              "      <td>2.0</td>\n",
              "      <td>22.0</td>\n",
              "      <td>2.0</td>\n",
              "      <td>2.0</td>\n",
              "      <td>1.0</td>\n",
              "    </tr>\n",
              "    <tr>\n",
              "      <th>54432</th>\n",
              "      <td>1.0</td>\n",
              "      <td>2.0</td>\n",
              "      <td>1.0</td>\n",
              "      <td>2.0</td>\n",
              "      <td>15.0</td>\n",
              "      <td>50.0</td>\n",
              "      <td>20.0</td>\n",
              "      <td>3.0</td>\n",
              "      <td>21.0</td>\n",
              "      <td>1.0</td>\n",
              "      <td>4.0</td>\n",
              "      <td>1.0</td>\n",
              "    </tr>\n",
              "    <tr>\n",
              "      <th>54512</th>\n",
              "      <td>3.0</td>\n",
              "      <td>2.0</td>\n",
              "      <td>1.0</td>\n",
              "      <td>2.0</td>\n",
              "      <td>15.0</td>\n",
              "      <td>63.0</td>\n",
              "      <td>20.0</td>\n",
              "      <td>2.0</td>\n",
              "      <td>22.0</td>\n",
              "      <td>1.0</td>\n",
              "      <td>2.0</td>\n",
              "      <td>1.0</td>\n",
              "    </tr>\n",
              "    <tr>\n",
              "      <th>54597</th>\n",
              "      <td>2.0</td>\n",
              "      <td>2.0</td>\n",
              "      <td>1.0</td>\n",
              "      <td>1.0</td>\n",
              "      <td>15.0</td>\n",
              "      <td>64.0</td>\n",
              "      <td>10.0</td>\n",
              "      <td>1.0</td>\n",
              "      <td>22.0</td>\n",
              "      <td>1.0</td>\n",
              "      <td>1.0</td>\n",
              "      <td>1.0</td>\n",
              "    </tr>\n",
              "  </tbody>\n",
              "</table>\n",
              "</div>\n",
              "      <button class=\"colab-df-convert\" onclick=\"convertToInteractive('df-d7ccb2c5-0f78-477e-bb20-502c2e36113a')\"\n",
              "              title=\"Convert this dataframe to an interactive table.\"\n",
              "              style=\"display:none;\">\n",
              "        \n",
              "  <svg xmlns=\"http://www.w3.org/2000/svg\" height=\"24px\"viewBox=\"0 0 24 24\"\n",
              "       width=\"24px\">\n",
              "    <path d=\"M0 0h24v24H0V0z\" fill=\"none\"/>\n",
              "    <path d=\"M18.56 5.44l.94 2.06.94-2.06 2.06-.94-2.06-.94-.94-2.06-.94 2.06-2.06.94zm-11 1L8.5 8.5l.94-2.06 2.06-.94-2.06-.94L8.5 2.5l-.94 2.06-2.06.94zm10 10l.94 2.06.94-2.06 2.06-.94-2.06-.94-.94-2.06-.94 2.06-2.06.94z\"/><path d=\"M17.41 7.96l-1.37-1.37c-.4-.4-.92-.59-1.43-.59-.52 0-1.04.2-1.43.59L10.3 9.45l-7.72 7.72c-.78.78-.78 2.05 0 2.83L4 21.41c.39.39.9.59 1.41.59.51 0 1.02-.2 1.41-.59l7.78-7.78 2.81-2.81c.8-.78.8-2.07 0-2.86zM5.41 20L4 18.59l7.72-7.72 1.47 1.35L5.41 20z\"/>\n",
              "  </svg>\n",
              "      </button>\n",
              "      \n",
              "  <style>\n",
              "    .colab-df-container {\n",
              "      display:flex;\n",
              "      flex-wrap:wrap;\n",
              "      gap: 12px;\n",
              "    }\n",
              "\n",
              "    .colab-df-convert {\n",
              "      background-color: #E8F0FE;\n",
              "      border: none;\n",
              "      border-radius: 50%;\n",
              "      cursor: pointer;\n",
              "      display: none;\n",
              "      fill: #1967D2;\n",
              "      height: 32px;\n",
              "      padding: 0 0 0 0;\n",
              "      width: 32px;\n",
              "    }\n",
              "\n",
              "    .colab-df-convert:hover {\n",
              "      background-color: #E2EBFA;\n",
              "      box-shadow: 0px 1px 2px rgba(60, 64, 67, 0.3), 0px 1px 3px 1px rgba(60, 64, 67, 0.15);\n",
              "      fill: #174EA6;\n",
              "    }\n",
              "\n",
              "    [theme=dark] .colab-df-convert {\n",
              "      background-color: #3B4455;\n",
              "      fill: #D2E3FC;\n",
              "    }\n",
              "\n",
              "    [theme=dark] .colab-df-convert:hover {\n",
              "      background-color: #434B5C;\n",
              "      box-shadow: 0px 1px 3px 1px rgba(0, 0, 0, 0.15);\n",
              "      filter: drop-shadow(0px 1px 2px rgba(0, 0, 0, 0.3));\n",
              "      fill: #FFFFFF;\n",
              "    }\n",
              "  </style>\n",
              "\n",
              "      <script>\n",
              "        const buttonEl =\n",
              "          document.querySelector('#df-d7ccb2c5-0f78-477e-bb20-502c2e36113a button.colab-df-convert');\n",
              "        buttonEl.style.display =\n",
              "          google.colab.kernel.accessAllowed ? 'block' : 'none';\n",
              "\n",
              "        async function convertToInteractive(key) {\n",
              "          const element = document.querySelector('#df-d7ccb2c5-0f78-477e-bb20-502c2e36113a');\n",
              "          const dataTable =\n",
              "            await google.colab.kernel.invokeFunction('convertToInteractive',\n",
              "                                                     [key], {});\n",
              "          if (!dataTable) return;\n",
              "\n",
              "          const docLinkHtml = 'Like what you see? Visit the ' +\n",
              "            '<a target=\"_blank\" href=https://colab.research.google.com/notebooks/data_table.ipynb>data table notebook</a>'\n",
              "            + ' to learn more about interactive tables.';\n",
              "          element.innerHTML = '';\n",
              "          dataTable['output_type'] = 'display_data';\n",
              "          await google.colab.output.renderOutput(dataTable, element);\n",
              "          const docLink = document.createElement('div');\n",
              "          docLink.innerHTML = docLinkHtml;\n",
              "          element.appendChild(docLink);\n",
              "        }\n",
              "      </script>\n",
              "    </div>\n",
              "  </div>\n",
              "  "
            ]
          },
          "metadata": {},
          "execution_count": 24
        }
      ]
    },
    {
      "cell_type": "code",
      "source": [
        "columns = ['_AGE65YR', '_BMI5CAT', 'GENHLTH', 'SMOKE100', '_SMOKER3',\n",
        "                  'LCSFIRST', 'LCSLAST', 'LCSNUMCG', 'LCSCTSCN', 'CNCRTYP1',\n",
        "                  'STOPSMK2', 'ASTHMA3'] #'SEXVAR'\n",
        "\n",
        "data_2017 = pd.read_csv('./2017.csv', usecols=columns).dropna().astype(\"float\")\n",
        "print(\"df shape:\", data_2017.shape)\n",
        "data_2017.head()"
      ],
      "metadata": {
        "id": "C9PnNOly0bnt",
        "outputId": "3f8fd88c-06d9-475c-e5e0-b6fb9f588fb1",
        "colab": {
          "base_uri": "https://localhost:8080/",
          "height": 224
        }
      },
      "execution_count": 25,
      "outputs": [
        {
          "output_type": "stream",
          "name": "stdout",
          "text": [
            "df shape: (95, 12)\n"
          ]
        },
        {
          "output_type": "execute_result",
          "data": {
            "text/plain": [
              "       GENHLTH  ASTHMA3  SMOKE100  STOPSMK2  CNCRTYP1  LCSFIRST  LCSLAST  \\\n",
              "90783      2.0      1.0       1.0       1.0      22.0      57.0     61.0   \n",
              "90794      4.0      2.0       1.0       1.0      24.0      18.0     60.0   \n",
              "90854      5.0      2.0       1.0       2.0      21.0      15.0     64.0   \n",
              "90862      5.0      2.0       1.0       1.0      30.0      19.0     73.0   \n",
              "90873      1.0      2.0       1.0       1.0      19.0      20.0     58.0   \n",
              "\n",
              "       LCSNUMCG  LCSCTSCN  _AGE65YR  _BMI5CAT  _SMOKER3  \n",
              "90783      10.0       2.0       1.0       3.0       1.0  \n",
              "90794       5.0       1.0       2.0       1.0       2.0  \n",
              "90854      40.0       3.0       1.0       2.0       1.0  \n",
              "90862      15.0       1.0       2.0       2.0       1.0  \n",
              "90873       6.0       3.0       1.0       3.0       2.0  "
            ],
            "text/html": [
              "\n",
              "  <div id=\"df-cd292d5c-b13d-452a-ad72-733965baf4da\">\n",
              "    <div class=\"colab-df-container\">\n",
              "      <div>\n",
              "<style scoped>\n",
              "    .dataframe tbody tr th:only-of-type {\n",
              "        vertical-align: middle;\n",
              "    }\n",
              "\n",
              "    .dataframe tbody tr th {\n",
              "        vertical-align: top;\n",
              "    }\n",
              "\n",
              "    .dataframe thead th {\n",
              "        text-align: right;\n",
              "    }\n",
              "</style>\n",
              "<table border=\"1\" class=\"dataframe\">\n",
              "  <thead>\n",
              "    <tr style=\"text-align: right;\">\n",
              "      <th></th>\n",
              "      <th>GENHLTH</th>\n",
              "      <th>ASTHMA3</th>\n",
              "      <th>SMOKE100</th>\n",
              "      <th>STOPSMK2</th>\n",
              "      <th>CNCRTYP1</th>\n",
              "      <th>LCSFIRST</th>\n",
              "      <th>LCSLAST</th>\n",
              "      <th>LCSNUMCG</th>\n",
              "      <th>LCSCTSCN</th>\n",
              "      <th>_AGE65YR</th>\n",
              "      <th>_BMI5CAT</th>\n",
              "      <th>_SMOKER3</th>\n",
              "    </tr>\n",
              "  </thead>\n",
              "  <tbody>\n",
              "    <tr>\n",
              "      <th>90783</th>\n",
              "      <td>2.0</td>\n",
              "      <td>1.0</td>\n",
              "      <td>1.0</td>\n",
              "      <td>1.0</td>\n",
              "      <td>22.0</td>\n",
              "      <td>57.0</td>\n",
              "      <td>61.0</td>\n",
              "      <td>10.0</td>\n",
              "      <td>2.0</td>\n",
              "      <td>1.0</td>\n",
              "      <td>3.0</td>\n",
              "      <td>1.0</td>\n",
              "    </tr>\n",
              "    <tr>\n",
              "      <th>90794</th>\n",
              "      <td>4.0</td>\n",
              "      <td>2.0</td>\n",
              "      <td>1.0</td>\n",
              "      <td>1.0</td>\n",
              "      <td>24.0</td>\n",
              "      <td>18.0</td>\n",
              "      <td>60.0</td>\n",
              "      <td>5.0</td>\n",
              "      <td>1.0</td>\n",
              "      <td>2.0</td>\n",
              "      <td>1.0</td>\n",
              "      <td>2.0</td>\n",
              "    </tr>\n",
              "    <tr>\n",
              "      <th>90854</th>\n",
              "      <td>5.0</td>\n",
              "      <td>2.0</td>\n",
              "      <td>1.0</td>\n",
              "      <td>2.0</td>\n",
              "      <td>21.0</td>\n",
              "      <td>15.0</td>\n",
              "      <td>64.0</td>\n",
              "      <td>40.0</td>\n",
              "      <td>3.0</td>\n",
              "      <td>1.0</td>\n",
              "      <td>2.0</td>\n",
              "      <td>1.0</td>\n",
              "    </tr>\n",
              "    <tr>\n",
              "      <th>90862</th>\n",
              "      <td>5.0</td>\n",
              "      <td>2.0</td>\n",
              "      <td>1.0</td>\n",
              "      <td>1.0</td>\n",
              "      <td>30.0</td>\n",
              "      <td>19.0</td>\n",
              "      <td>73.0</td>\n",
              "      <td>15.0</td>\n",
              "      <td>1.0</td>\n",
              "      <td>2.0</td>\n",
              "      <td>2.0</td>\n",
              "      <td>1.0</td>\n",
              "    </tr>\n",
              "    <tr>\n",
              "      <th>90873</th>\n",
              "      <td>1.0</td>\n",
              "      <td>2.0</td>\n",
              "      <td>1.0</td>\n",
              "      <td>1.0</td>\n",
              "      <td>19.0</td>\n",
              "      <td>20.0</td>\n",
              "      <td>58.0</td>\n",
              "      <td>6.0</td>\n",
              "      <td>3.0</td>\n",
              "      <td>1.0</td>\n",
              "      <td>3.0</td>\n",
              "      <td>2.0</td>\n",
              "    </tr>\n",
              "  </tbody>\n",
              "</table>\n",
              "</div>\n",
              "      <button class=\"colab-df-convert\" onclick=\"convertToInteractive('df-cd292d5c-b13d-452a-ad72-733965baf4da')\"\n",
              "              title=\"Convert this dataframe to an interactive table.\"\n",
              "              style=\"display:none;\">\n",
              "        \n",
              "  <svg xmlns=\"http://www.w3.org/2000/svg\" height=\"24px\"viewBox=\"0 0 24 24\"\n",
              "       width=\"24px\">\n",
              "    <path d=\"M0 0h24v24H0V0z\" fill=\"none\"/>\n",
              "    <path d=\"M18.56 5.44l.94 2.06.94-2.06 2.06-.94-2.06-.94-.94-2.06-.94 2.06-2.06.94zm-11 1L8.5 8.5l.94-2.06 2.06-.94-2.06-.94L8.5 2.5l-.94 2.06-2.06.94zm10 10l.94 2.06.94-2.06 2.06-.94-2.06-.94-.94-2.06-.94 2.06-2.06.94z\"/><path d=\"M17.41 7.96l-1.37-1.37c-.4-.4-.92-.59-1.43-.59-.52 0-1.04.2-1.43.59L10.3 9.45l-7.72 7.72c-.78.78-.78 2.05 0 2.83L4 21.41c.39.39.9.59 1.41.59.51 0 1.02-.2 1.41-.59l7.78-7.78 2.81-2.81c.8-.78.8-2.07 0-2.86zM5.41 20L4 18.59l7.72-7.72 1.47 1.35L5.41 20z\"/>\n",
              "  </svg>\n",
              "      </button>\n",
              "      \n",
              "  <style>\n",
              "    .colab-df-container {\n",
              "      display:flex;\n",
              "      flex-wrap:wrap;\n",
              "      gap: 12px;\n",
              "    }\n",
              "\n",
              "    .colab-df-convert {\n",
              "      background-color: #E8F0FE;\n",
              "      border: none;\n",
              "      border-radius: 50%;\n",
              "      cursor: pointer;\n",
              "      display: none;\n",
              "      fill: #1967D2;\n",
              "      height: 32px;\n",
              "      padding: 0 0 0 0;\n",
              "      width: 32px;\n",
              "    }\n",
              "\n",
              "    .colab-df-convert:hover {\n",
              "      background-color: #E2EBFA;\n",
              "      box-shadow: 0px 1px 2px rgba(60, 64, 67, 0.3), 0px 1px 3px 1px rgba(60, 64, 67, 0.15);\n",
              "      fill: #174EA6;\n",
              "    }\n",
              "\n",
              "    [theme=dark] .colab-df-convert {\n",
              "      background-color: #3B4455;\n",
              "      fill: #D2E3FC;\n",
              "    }\n",
              "\n",
              "    [theme=dark] .colab-df-convert:hover {\n",
              "      background-color: #434B5C;\n",
              "      box-shadow: 0px 1px 3px 1px rgba(0, 0, 0, 0.15);\n",
              "      filter: drop-shadow(0px 1px 2px rgba(0, 0, 0, 0.3));\n",
              "      fill: #FFFFFF;\n",
              "    }\n",
              "  </style>\n",
              "\n",
              "      <script>\n",
              "        const buttonEl =\n",
              "          document.querySelector('#df-cd292d5c-b13d-452a-ad72-733965baf4da button.colab-df-convert');\n",
              "        buttonEl.style.display =\n",
              "          google.colab.kernel.accessAllowed ? 'block' : 'none';\n",
              "\n",
              "        async function convertToInteractive(key) {\n",
              "          const element = document.querySelector('#df-cd292d5c-b13d-452a-ad72-733965baf4da');\n",
              "          const dataTable =\n",
              "            await google.colab.kernel.invokeFunction('convertToInteractive',\n",
              "                                                     [key], {});\n",
              "          if (!dataTable) return;\n",
              "\n",
              "          const docLinkHtml = 'Like what you see? Visit the ' +\n",
              "            '<a target=\"_blank\" href=https://colab.research.google.com/notebooks/data_table.ipynb>data table notebook</a>'\n",
              "            + ' to learn more about interactive tables.';\n",
              "          element.innerHTML = '';\n",
              "          dataTable['output_type'] = 'display_data';\n",
              "          await google.colab.output.renderOutput(dataTable, element);\n",
              "          const docLink = document.createElement('div');\n",
              "          docLink.innerHTML = docLinkHtml;\n",
              "          element.appendChild(docLink);\n",
              "        }\n",
              "      </script>\n",
              "    </div>\n",
              "  </div>\n",
              "  "
            ]
          },
          "metadata": {},
          "execution_count": 25
        }
      ]
    },
    {
      "cell_type": "code",
      "source": [
        "df_selected = pd.concat([data_2017, data_2018, data_2020])\n",
        "print(\"df shape:\", df_selected.shape)\n",
        "df_selected.head()"
      ],
      "metadata": {
        "id": "CAMw-bu8Ym-6",
        "outputId": "af18a32d-2b3f-4fcc-e332-11f074cb05f1",
        "colab": {
          "base_uri": "https://localhost:8080/",
          "height": 224
        }
      },
      "execution_count": 30,
      "outputs": [
        {
          "output_type": "stream",
          "name": "stdout",
          "text": [
            "df shape: (571, 12)\n"
          ]
        },
        {
          "output_type": "execute_result",
          "data": {
            "text/plain": [
              "       GENHLTH  ASTHMA3  SMOKE100  STOPSMK2  CNCRTYP1  LCSFIRST  LCSLAST  \\\n",
              "90783      2.0      1.0       1.0       1.0      22.0      57.0     61.0   \n",
              "90794      4.0      2.0       1.0       1.0      24.0      18.0     60.0   \n",
              "90854      5.0      2.0       1.0       2.0      21.0      15.0     64.0   \n",
              "90862      5.0      2.0       1.0       1.0      30.0      19.0     73.0   \n",
              "90873      1.0      2.0       1.0       1.0      19.0      20.0     58.0   \n",
              "\n",
              "       LCSNUMCG  LCSCTSCN  _AGE65YR  _BMI5CAT  _SMOKER3  \n",
              "90783      10.0       2.0       1.0       3.0       1.0  \n",
              "90794       5.0       1.0       2.0       1.0       2.0  \n",
              "90854      40.0       3.0       1.0       2.0       1.0  \n",
              "90862      15.0       1.0       2.0       2.0       1.0  \n",
              "90873       6.0       3.0       1.0       3.0       2.0  "
            ],
            "text/html": [
              "\n",
              "  <div id=\"df-1439dc7c-cd4e-460e-a1d4-13c5f91fd308\">\n",
              "    <div class=\"colab-df-container\">\n",
              "      <div>\n",
              "<style scoped>\n",
              "    .dataframe tbody tr th:only-of-type {\n",
              "        vertical-align: middle;\n",
              "    }\n",
              "\n",
              "    .dataframe tbody tr th {\n",
              "        vertical-align: top;\n",
              "    }\n",
              "\n",
              "    .dataframe thead th {\n",
              "        text-align: right;\n",
              "    }\n",
              "</style>\n",
              "<table border=\"1\" class=\"dataframe\">\n",
              "  <thead>\n",
              "    <tr style=\"text-align: right;\">\n",
              "      <th></th>\n",
              "      <th>GENHLTH</th>\n",
              "      <th>ASTHMA3</th>\n",
              "      <th>SMOKE100</th>\n",
              "      <th>STOPSMK2</th>\n",
              "      <th>CNCRTYP1</th>\n",
              "      <th>LCSFIRST</th>\n",
              "      <th>LCSLAST</th>\n",
              "      <th>LCSNUMCG</th>\n",
              "      <th>LCSCTSCN</th>\n",
              "      <th>_AGE65YR</th>\n",
              "      <th>_BMI5CAT</th>\n",
              "      <th>_SMOKER3</th>\n",
              "    </tr>\n",
              "  </thead>\n",
              "  <tbody>\n",
              "    <tr>\n",
              "      <th>90783</th>\n",
              "      <td>2.0</td>\n",
              "      <td>1.0</td>\n",
              "      <td>1.0</td>\n",
              "      <td>1.0</td>\n",
              "      <td>22.0</td>\n",
              "      <td>57.0</td>\n",
              "      <td>61.0</td>\n",
              "      <td>10.0</td>\n",
              "      <td>2.0</td>\n",
              "      <td>1.0</td>\n",
              "      <td>3.0</td>\n",
              "      <td>1.0</td>\n",
              "    </tr>\n",
              "    <tr>\n",
              "      <th>90794</th>\n",
              "      <td>4.0</td>\n",
              "      <td>2.0</td>\n",
              "      <td>1.0</td>\n",
              "      <td>1.0</td>\n",
              "      <td>24.0</td>\n",
              "      <td>18.0</td>\n",
              "      <td>60.0</td>\n",
              "      <td>5.0</td>\n",
              "      <td>1.0</td>\n",
              "      <td>2.0</td>\n",
              "      <td>1.0</td>\n",
              "      <td>2.0</td>\n",
              "    </tr>\n",
              "    <tr>\n",
              "      <th>90854</th>\n",
              "      <td>5.0</td>\n",
              "      <td>2.0</td>\n",
              "      <td>1.0</td>\n",
              "      <td>2.0</td>\n",
              "      <td>21.0</td>\n",
              "      <td>15.0</td>\n",
              "      <td>64.0</td>\n",
              "      <td>40.0</td>\n",
              "      <td>3.0</td>\n",
              "      <td>1.0</td>\n",
              "      <td>2.0</td>\n",
              "      <td>1.0</td>\n",
              "    </tr>\n",
              "    <tr>\n",
              "      <th>90862</th>\n",
              "      <td>5.0</td>\n",
              "      <td>2.0</td>\n",
              "      <td>1.0</td>\n",
              "      <td>1.0</td>\n",
              "      <td>30.0</td>\n",
              "      <td>19.0</td>\n",
              "      <td>73.0</td>\n",
              "      <td>15.0</td>\n",
              "      <td>1.0</td>\n",
              "      <td>2.0</td>\n",
              "      <td>2.0</td>\n",
              "      <td>1.0</td>\n",
              "    </tr>\n",
              "    <tr>\n",
              "      <th>90873</th>\n",
              "      <td>1.0</td>\n",
              "      <td>2.0</td>\n",
              "      <td>1.0</td>\n",
              "      <td>1.0</td>\n",
              "      <td>19.0</td>\n",
              "      <td>20.0</td>\n",
              "      <td>58.0</td>\n",
              "      <td>6.0</td>\n",
              "      <td>3.0</td>\n",
              "      <td>1.0</td>\n",
              "      <td>3.0</td>\n",
              "      <td>2.0</td>\n",
              "    </tr>\n",
              "  </tbody>\n",
              "</table>\n",
              "</div>\n",
              "      <button class=\"colab-df-convert\" onclick=\"convertToInteractive('df-1439dc7c-cd4e-460e-a1d4-13c5f91fd308')\"\n",
              "              title=\"Convert this dataframe to an interactive table.\"\n",
              "              style=\"display:none;\">\n",
              "        \n",
              "  <svg xmlns=\"http://www.w3.org/2000/svg\" height=\"24px\"viewBox=\"0 0 24 24\"\n",
              "       width=\"24px\">\n",
              "    <path d=\"M0 0h24v24H0V0z\" fill=\"none\"/>\n",
              "    <path d=\"M18.56 5.44l.94 2.06.94-2.06 2.06-.94-2.06-.94-.94-2.06-.94 2.06-2.06.94zm-11 1L8.5 8.5l.94-2.06 2.06-.94-2.06-.94L8.5 2.5l-.94 2.06-2.06.94zm10 10l.94 2.06.94-2.06 2.06-.94-2.06-.94-.94-2.06-.94 2.06-2.06.94z\"/><path d=\"M17.41 7.96l-1.37-1.37c-.4-.4-.92-.59-1.43-.59-.52 0-1.04.2-1.43.59L10.3 9.45l-7.72 7.72c-.78.78-.78 2.05 0 2.83L4 21.41c.39.39.9.59 1.41.59.51 0 1.02-.2 1.41-.59l7.78-7.78 2.81-2.81c.8-.78.8-2.07 0-2.86zM5.41 20L4 18.59l7.72-7.72 1.47 1.35L5.41 20z\"/>\n",
              "  </svg>\n",
              "      </button>\n",
              "      \n",
              "  <style>\n",
              "    .colab-df-container {\n",
              "      display:flex;\n",
              "      flex-wrap:wrap;\n",
              "      gap: 12px;\n",
              "    }\n",
              "\n",
              "    .colab-df-convert {\n",
              "      background-color: #E8F0FE;\n",
              "      border: none;\n",
              "      border-radius: 50%;\n",
              "      cursor: pointer;\n",
              "      display: none;\n",
              "      fill: #1967D2;\n",
              "      height: 32px;\n",
              "      padding: 0 0 0 0;\n",
              "      width: 32px;\n",
              "    }\n",
              "\n",
              "    .colab-df-convert:hover {\n",
              "      background-color: #E2EBFA;\n",
              "      box-shadow: 0px 1px 2px rgba(60, 64, 67, 0.3), 0px 1px 3px 1px rgba(60, 64, 67, 0.15);\n",
              "      fill: #174EA6;\n",
              "    }\n",
              "\n",
              "    [theme=dark] .colab-df-convert {\n",
              "      background-color: #3B4455;\n",
              "      fill: #D2E3FC;\n",
              "    }\n",
              "\n",
              "    [theme=dark] .colab-df-convert:hover {\n",
              "      background-color: #434B5C;\n",
              "      box-shadow: 0px 1px 3px 1px rgba(0, 0, 0, 0.15);\n",
              "      filter: drop-shadow(0px 1px 2px rgba(0, 0, 0, 0.3));\n",
              "      fill: #FFFFFF;\n",
              "    }\n",
              "  </style>\n",
              "\n",
              "      <script>\n",
              "        const buttonEl =\n",
              "          document.querySelector('#df-1439dc7c-cd4e-460e-a1d4-13c5f91fd308 button.colab-df-convert');\n",
              "        buttonEl.style.display =\n",
              "          google.colab.kernel.accessAllowed ? 'block' : 'none';\n",
              "\n",
              "        async function convertToInteractive(key) {\n",
              "          const element = document.querySelector('#df-1439dc7c-cd4e-460e-a1d4-13c5f91fd308');\n",
              "          const dataTable =\n",
              "            await google.colab.kernel.invokeFunction('convertToInteractive',\n",
              "                                                     [key], {});\n",
              "          if (!dataTable) return;\n",
              "\n",
              "          const docLinkHtml = 'Like what you see? Visit the ' +\n",
              "            '<a target=\"_blank\" href=https://colab.research.google.com/notebooks/data_table.ipynb>data table notebook</a>'\n",
              "            + ' to learn more about interactive tables.';\n",
              "          element.innerHTML = '';\n",
              "          dataTable['output_type'] = 'display_data';\n",
              "          await google.colab.output.renderOutput(dataTable, element);\n",
              "          const docLink = document.createElement('div');\n",
              "          docLink.innerHTML = docLinkHtml;\n",
              "          element.appendChild(docLink);\n",
              "        }\n",
              "      </script>\n",
              "    </div>\n",
              "  </div>\n",
              "  "
            ]
          },
          "metadata": {},
          "execution_count": 30
        }
      ]
    },
    {
      "cell_type": "code",
      "source": [
        "features = ['_AGE65YR', '_BMI5CAT', 'GENHLTH', 'SMOKE100', '_SMOKER3',\n",
        "                  'LCSFIRST', 'LCSLAST', 'LCSNUMCG', 'LCSCTSCN',\n",
        "                  'STOPSMK2', 'ASTHMA3'] #'SEXVAR',  'ECIGARET', 'ECIGNOW'\n",
        "X = df_selected[features]\n",
        "y = df_selected['CNCRTYP1']\n",
        "\n",
        "X_train_val, X_test, y_train_val, y_test = train_test_split(X, y, test_size=0.2)\n",
        "X_train, X_val, y_train, y_val = train_test_split(X_train_val, y_train_val, test_size=0.2)"
      ],
      "metadata": {
        "id": "HuSBRuW3kNsW"
      },
      "execution_count": 31,
      "outputs": []
    },
    {
      "cell_type": "code",
      "source": [
        "X_train.shape"
      ],
      "metadata": {
        "id": "FTYh6R5qTvfA",
        "outputId": "05ac9ccb-1f7d-4304-f98a-a222b0880cba",
        "colab": {
          "base_uri": "https://localhost:8080/"
        }
      },
      "execution_count": 32,
      "outputs": [
        {
          "output_type": "execute_result",
          "data": {
            "text/plain": [
              "(364, 11)"
            ]
          },
          "metadata": {},
          "execution_count": 32
        }
      ]
    },
    {
      "cell_type": "code",
      "source": [
        "y_train.shape"
      ],
      "metadata": {
        "id": "Oo_fpfP0Tz45",
        "outputId": "0d8ae0ab-ebd7-4640-c9a5-bb7da438b6cd",
        "colab": {
          "base_uri": "https://localhost:8080/"
        }
      },
      "execution_count": 33,
      "outputs": [
        {
          "output_type": "execute_result",
          "data": {
            "text/plain": [
              "(364,)"
            ]
          },
          "metadata": {},
          "execution_count": 33
        }
      ]
    },
    {
      "cell_type": "markdown",
      "source": [
        "## Analyzing the BRFSS Dataset with Facets\n",
        "It is important to understand your dataset *before* diving straight into the prediction task. \n",
        "\n",
        "Some important questions to investigate when auditing a dataset for fairness:\n",
        "\n",
        "* **Are there missing feature values for a large number of observations?**\n",
        "* **Are there features that are missing that might affect other features?**\n",
        "* **Are there any unexpected feature values?**\n",
        "* **What signs of data skew do you see?**"
      ],
      "metadata": {
        "id": "caXHfhTDJo22"
      }
    },
    {
      "cell_type": "code",
      "source": [
        "#@title Visualize the Data in Facets\n",
        "fsg = FeatureStatisticsGenerator()\n",
        "dataframes = [\n",
        "    {'table': df_selected, 'name': 'trainData'}]\n",
        "censusProto = fsg.ProtoFromDataFrames(dataframes)\n",
        "protostr = base64.b64encode(censusProto.SerializeToString()).decode(\"utf-8\")\n",
        "\n",
        "\n",
        "HTML_TEMPLATE = \"\"\"<script src=\"https://cdnjs.cloudflare.com/ajax/libs/webcomponentsjs/1.3.3/webcomponents-lite.js\"></script>\n",
        "        <link rel=\"import\" href=\"https://raw.githubusercontent.com/PAIR-code/facets/1.0.0/facets-dist/facets-jupyter.html\">\n",
        "        <facets-overview id=\"elem\"></facets-overview>\n",
        "        <script>\n",
        "          document.querySelector(\"#elem\").protoInput = \"{protostr}\";\n",
        "        </script>\"\"\"\n",
        "html = HTML_TEMPLATE.format(protostr=protostr)\n",
        "display(HTML(html))"
      ],
      "metadata": {
        "id": "b3nB77QTJ9vO",
        "outputId": "737b3bcc-0ecf-4850-b8a1-5e82ee7bfbe9",
        "colab": {
          "base_uri": "https://localhost:8080/",
          "height": 1000
        }
      },
      "execution_count": 34,
      "outputs": [
        {
          "output_type": "display_data",
          "data": {
            "text/plain": [
              "<IPython.core.display.HTML object>"
            ],
            "text/html": [
              "<script src=\"https://cdnjs.cloudflare.com/ajax/libs/webcomponentsjs/1.3.3/webcomponents-lite.js\"></script>\n",
              "        <link rel=\"import\" href=\"https://raw.githubusercontent.com/PAIR-code/facets/1.0.0/facets-dist/facets-jupyter.html\">\n",
              "        <facets-overview id=\"elem\"></facets-overview>\n",
              "        <script>\n",
              "          document.querySelector(\"#elem\").protoInput = \"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\";\n",
              "        </script>"
            ]
          },
          "metadata": {}
        }
      ]
    },
    {
      "cell_type": "markdown",
      "source": [
        "**SEXVAR**\n",
        "\n",
        "SEXVAR column contains participants gender information. 1 means male and 2 means female. For better reading, the column renamed as 'Gender'."
      ],
      "metadata": {
        "id": "eOPPqKmZvEcm"
      }
    },
    {
      "cell_type": "code",
      "source": [
        "df_selected['SEXVAR'].value_counts()\n",
        "df_selected = df_selected.rename(columns={\"SEXVAR\":\"Gender\"})\n",
        "sns.countplot(x='Gender', data=df_selected)"
      ],
      "metadata": {
        "id": "PJ991MhYvDxK"
      },
      "execution_count": null,
      "outputs": []
    },
    {
      "cell_type": "markdown",
      "source": [
        "**_AGE65YR**\n",
        "\n",
        "The _AGE65YR column contains information about the age of the participants. Participants aged 65 and older are marked as 2, while younger ones are marked as 1. 3 means missing values and they removed.\n",
        "\n",
        "For better reading, the column renamed as 'Over 65 Years Old'."
      ],
      "metadata": {
        "id": "5jOXaJcrs9hX"
      }
    },
    {
      "cell_type": "code",
      "source": [
        "df_selected['_AGE65YR'].value_counts()\n",
        "df_selected.drop(df_selected[df_selected['_AGE65YR'] == 3].index, inplace = True)\n",
        "df_selected = df_selected.rename(columns={\"_AGE65YR\":\"Over 65 Years Old\"})\n",
        "sns.countplot(x='Over 65 Years Old', hue='Gender', data=df_selected)"
      ],
      "metadata": {
        "id": "HOZ5qhQMr527"
      },
      "execution_count": null,
      "outputs": []
    },
    {
      "cell_type": "markdown",
      "source": [
        "**GENHLTH**\n",
        "\n",
        "The GENHLTH column contains participants general health information.\n",
        "\n",
        "1 means excellent;\n",
        "2 means very good;\n",
        "3 means good;\n",
        "4 means fair;\n",
        "5 means poor;\n",
        "7 and 9 means Don’t know/Not Sure/Refused\n",
        "\n",
        "For better reading, the column renamed as 'General Health Status'. Uncertain values removed."
      ],
      "metadata": {
        "id": "_g3rciJysjyH"
      }
    },
    {
      "cell_type": "code",
      "source": [
        "df_selected['GENHLTH'].value_counts()\n",
        "df_selected = df_selected[(df_selected['GENHLTH'] != 7) & (df_selected['GENHLTH'] != 9)]\n",
        "df_selected = df_selected.rename(columns={\"GENHLTH\":\"General Health Status\"})\n",
        "sns.countplot(x='General Health Status', hue='Gender', data=df_selected)"
      ],
      "metadata": {
        "id": "WVJPI7PUsZ6b"
      },
      "execution_count": null,
      "outputs": []
    },
    {
      "cell_type": "code",
      "source": [
        "#@title Set the Number of Data Points to Visualize in Facets Dive\n",
        "\n",
        "SAMPLE_SIZE = 61 #@param\n",
        "  \n",
        "train_dive = X_train.sample(SAMPLE_SIZE).to_json(orient='records')\n",
        "\n",
        "HTML_TEMPLATE = \"\"\"<script src=\"https://cdnjs.cloudflare.com/ajax/libs/webcomponentsjs/1.3.3/webcomponents-lite.js\"></script>\n",
        "        <link rel=\"import\" href=\"https://raw.githubusercontent.com/PAIR-code/facets/1.0.0/facets-dist/facets-jupyter.html\">\n",
        "        <facets-dive id=\"elem\" height=\"600\"></facets-dive>\n",
        "        <script>\n",
        "          var data = {jsonstr};\n",
        "          document.querySelector(\"#elem\").data = data;\n",
        "        </script>\"\"\"\n",
        "html = HTML_TEMPLATE.format(jsonstr=train_dive)\n",
        "display(HTML(html))"
      ],
      "metadata": {
        "id": "C7C3AwfCtKkU",
        "outputId": "3304d785-0018-443d-a324-f8ae4ab74e8f",
        "colab": {
          "base_uri": "https://localhost:8080/",
          "height": 617
        }
      },
      "execution_count": 37,
      "outputs": [
        {
          "output_type": "display_data",
          "data": {
            "text/plain": [
              "<IPython.core.display.HTML object>"
            ],
            "text/html": [
              "<script src=\"https://cdnjs.cloudflare.com/ajax/libs/webcomponentsjs/1.3.3/webcomponents-lite.js\"></script>\n",
              "        <link rel=\"import\" href=\"https://raw.githubusercontent.com/PAIR-code/facets/1.0.0/facets-dist/facets-jupyter.html\">\n",
              "        <facets-dive id=\"elem\" height=\"600\"></facets-dive>\n",
              "        <script>\n",
              "          var data = [{\"_AGE65YR\":1.0,\"_BMI5CAT\":3.0,\"GENHLTH\":3.0,\"SMOKE100\":1.0,\"_SMOKER3\":2.0,\"LCSFIRST\":25.0,\"LCSLAST\":58.0,\"LCSNUMCG\":5.0,\"LCSCTSCN\":3.0,\"STOPSMK2\":2.0,\"ASTHMA3\":2.0},{\"_AGE65YR\":2.0,\"_BMI5CAT\":2.0,\"GENHLTH\":3.0,\"SMOKE100\":1.0,\"_SMOKER3\":1.0,\"LCSFIRST\":21.0,\"LCSLAST\":75.0,\"LCSNUMCG\":10.0,\"LCSCTSCN\":2.0,\"STOPSMK2\":1.0,\"ASTHMA3\":1.0},{\"_AGE65YR\":2.0,\"_BMI5CAT\":2.0,\"GENHLTH\":5.0,\"SMOKE100\":1.0,\"_SMOKER3\":1.0,\"LCSFIRST\":16.0,\"LCSLAST\":67.0,\"LCSNUMCG\":24.0,\"LCSCTSCN\":1.0,\"STOPSMK2\":2.0,\"ASTHMA3\":2.0},{\"_AGE65YR\":2.0,\"_BMI5CAT\":2.0,\"GENHLTH\":2.0,\"SMOKE100\":1.0,\"_SMOKER3\":1.0,\"LCSFIRST\":30.0,\"LCSLAST\":66.0,\"LCSNUMCG\":10.0,\"LCSCTSCN\":2.0,\"STOPSMK2\":1.0,\"ASTHMA3\":2.0},{\"_AGE65YR\":2.0,\"_BMI5CAT\":4.0,\"GENHLTH\":4.0,\"SMOKE100\":1.0,\"_SMOKER3\":2.0,\"LCSFIRST\":15.0,\"LCSLAST\":71.0,\"LCSNUMCG\":5.0,\"LCSCTSCN\":1.0,\"STOPSMK2\":1.0,\"ASTHMA3\":1.0},{\"_AGE65YR\":1.0,\"_BMI5CAT\":4.0,\"GENHLTH\":1.0,\"SMOKE100\":1.0,\"_SMOKER3\":1.0,\"LCSFIRST\":12.0,\"LCSLAST\":36.0,\"LCSNUMCG\":40.0,\"LCSCTSCN\":2.0,\"STOPSMK2\":2.0,\"ASTHMA3\":1.0},{\"_AGE65YR\":2.0,\"_BMI5CAT\":2.0,\"GENHLTH\":2.0,\"SMOKE100\":1.0,\"_SMOKER3\":1.0,\"LCSFIRST\":22.0,\"LCSLAST\":72.0,\"LCSNUMCG\":2.0,\"LCSCTSCN\":2.0,\"STOPSMK2\":1.0,\"ASTHMA3\":2.0},{\"_AGE65YR\":2.0,\"_BMI5CAT\":3.0,\"GENHLTH\":5.0,\"SMOKE100\":1.0,\"_SMOKER3\":1.0,\"LCSFIRST\":14.0,\"LCSLAST\":78.0,\"LCSNUMCG\":2.0,\"LCSCTSCN\":2.0,\"STOPSMK2\":2.0,\"ASTHMA3\":2.0},{\"_AGE65YR\":1.0,\"_BMI5CAT\":2.0,\"GENHLTH\":5.0,\"SMOKE100\":1.0,\"_SMOKER3\":1.0,\"LCSFIRST\":15.0,\"LCSLAST\":62.0,\"LCSNUMCG\":30.0,\"LCSCTSCN\":1.0,\"STOPSMK2\":2.0,\"ASTHMA3\":1.0},{\"_AGE65YR\":2.0,\"_BMI5CAT\":4.0,\"GENHLTH\":3.0,\"SMOKE100\":1.0,\"_SMOKER3\":1.0,\"LCSFIRST\":17.0,\"LCSLAST\":69.0,\"LCSNUMCG\":20.0,\"LCSCTSCN\":1.0,\"STOPSMK2\":1.0,\"ASTHMA3\":1.0},{\"_AGE65YR\":1.0,\"_BMI5CAT\":4.0,\"GENHLTH\":5.0,\"SMOKE100\":1.0,\"_SMOKER3\":2.0,\"LCSFIRST\":16.0,\"LCSLAST\":41.0,\"LCSNUMCG\":10.0,\"LCSCTSCN\":3.0,\"STOPSMK2\":1.0,\"ASTHMA3\":1.0},{\"_AGE65YR\":1.0,\"_BMI5CAT\":1.0,\"GENHLTH\":5.0,\"SMOKE100\":1.0,\"_SMOKER3\":2.0,\"LCSFIRST\":14.0,\"LCSLAST\":27.0,\"LCSNUMCG\":6.0,\"LCSCTSCN\":1.0,\"STOPSMK2\":1.0,\"ASTHMA3\":1.0},{\"_AGE65YR\":2.0,\"_BMI5CAT\":1.0,\"GENHLTH\":3.0,\"SMOKE100\":1.0,\"_SMOKER3\":2.0,\"LCSFIRST\":25.0,\"LCSLAST\":45.0,\"LCSNUMCG\":10.0,\"LCSCTSCN\":2.0,\"STOPSMK2\":1.0,\"ASTHMA3\":2.0},{\"_AGE65YR\":2.0,\"_BMI5CAT\":2.0,\"GENHLTH\":3.0,\"SMOKE100\":1.0,\"_SMOKER3\":1.0,\"LCSFIRST\":18.0,\"LCSLAST\":777.0,\"LCSNUMCG\":12.0,\"LCSCTSCN\":3.0,\"STOPSMK2\":2.0,\"ASTHMA3\":2.0},{\"_AGE65YR\":1.0,\"_BMI5CAT\":3.0,\"GENHLTH\":4.0,\"SMOKE100\":1.0,\"_SMOKER3\":1.0,\"LCSFIRST\":11.0,\"LCSLAST\":11.0,\"LCSNUMCG\":20.0,\"LCSCTSCN\":3.0,\"STOPSMK2\":2.0,\"ASTHMA3\":2.0},{\"_AGE65YR\":2.0,\"_BMI5CAT\":3.0,\"GENHLTH\":2.0,\"SMOKE100\":1.0,\"_SMOKER3\":1.0,\"LCSFIRST\":11.0,\"LCSLAST\":70.0,\"LCSNUMCG\":10.0,\"LCSCTSCN\":2.0,\"STOPSMK2\":1.0,\"ASTHMA3\":2.0},{\"_AGE65YR\":2.0,\"_BMI5CAT\":2.0,\"GENHLTH\":2.0,\"SMOKE100\":1.0,\"_SMOKER3\":1.0,\"LCSFIRST\":16.0,\"LCSLAST\":86.0,\"LCSNUMCG\":30.0,\"LCSCTSCN\":2.0,\"STOPSMK2\":2.0,\"ASTHMA3\":2.0},{\"_AGE65YR\":1.0,\"_BMI5CAT\":4.0,\"GENHLTH\":2.0,\"SMOKE100\":1.0,\"_SMOKER3\":1.0,\"LCSFIRST\":25.0,\"LCSLAST\":55.0,\"LCSNUMCG\":10.0,\"LCSCTSCN\":2.0,\"STOPSMK2\":1.0,\"ASTHMA3\":2.0},{\"_AGE65YR\":1.0,\"_BMI5CAT\":2.0,\"GENHLTH\":3.0,\"SMOKE100\":1.0,\"_SMOKER3\":1.0,\"LCSFIRST\":12.0,\"LCSLAST\":58.0,\"LCSNUMCG\":10.0,\"LCSCTSCN\":2.0,\"STOPSMK2\":1.0,\"ASTHMA3\":1.0},{\"_AGE65YR\":1.0,\"_BMI5CAT\":3.0,\"GENHLTH\":5.0,\"SMOKE100\":1.0,\"_SMOKER3\":2.0,\"LCSFIRST\":18.0,\"LCSLAST\":60.0,\"LCSNUMCG\":5.0,\"LCSCTSCN\":3.0,\"STOPSMK2\":2.0,\"ASTHMA3\":1.0},{\"_AGE65YR\":1.0,\"_BMI5CAT\":2.0,\"GENHLTH\":3.0,\"SMOKE100\":1.0,\"_SMOKER3\":1.0,\"LCSFIRST\":22.0,\"LCSLAST\":777.0,\"LCSNUMCG\":13.0,\"LCSCTSCN\":1.0,\"STOPSMK2\":2.0,\"ASTHMA3\":2.0},{\"_AGE65YR\":2.0,\"_BMI5CAT\":3.0,\"GENHLTH\":2.0,\"SMOKE100\":1.0,\"_SMOKER3\":1.0,\"LCSFIRST\":20.0,\"LCSLAST\":67.0,\"LCSNUMCG\":10.0,\"LCSCTSCN\":2.0,\"STOPSMK2\":1.0,\"ASTHMA3\":2.0},{\"_AGE65YR\":2.0,\"_BMI5CAT\":4.0,\"GENHLTH\":2.0,\"SMOKE100\":1.0,\"_SMOKER3\":1.0,\"LCSFIRST\":16.0,\"LCSLAST\":77.0,\"LCSNUMCG\":220.0,\"LCSCTSCN\":2.0,\"STOPSMK2\":2.0,\"ASTHMA3\":2.0},{\"_AGE65YR\":2.0,\"_BMI5CAT\":2.0,\"GENHLTH\":4.0,\"SMOKE100\":1.0,\"_SMOKER3\":1.0,\"LCSFIRST\":14.0,\"LCSLAST\":58.0,\"LCSNUMCG\":10.0,\"LCSCTSCN\":3.0,\"STOPSMK2\":2.0,\"ASTHMA3\":2.0},{\"_AGE65YR\":1.0,\"_BMI5CAT\":2.0,\"GENHLTH\":4.0,\"SMOKE100\":1.0,\"_SMOKER3\":1.0,\"LCSFIRST\":16.0,\"LCSLAST\":64.0,\"LCSNUMCG\":20.0,\"LCSCTSCN\":3.0,\"STOPSMK2\":2.0,\"ASTHMA3\":2.0},{\"_AGE65YR\":1.0,\"_BMI5CAT\":2.0,\"GENHLTH\":3.0,\"SMOKE100\":1.0,\"_SMOKER3\":1.0,\"LCSFIRST\":18.0,\"LCSLAST\":64.0,\"LCSNUMCG\":30.0,\"LCSCTSCN\":2.0,\"STOPSMK2\":1.0,\"ASTHMA3\":2.0},{\"_AGE65YR\":2.0,\"_BMI5CAT\":3.0,\"GENHLTH\":2.0,\"SMOKE100\":1.0,\"_SMOKER3\":2.0,\"LCSFIRST\":30.0,\"LCSLAST\":70.0,\"LCSNUMCG\":10.0,\"LCSCTSCN\":2.0,\"STOPSMK2\":1.0,\"ASTHMA3\":2.0},{\"_AGE65YR\":1.0,\"_BMI5CAT\":3.0,\"GENHLTH\":4.0,\"SMOKE100\":1.0,\"_SMOKER3\":1.0,\"LCSFIRST\":21.0,\"LCSLAST\":51.0,\"LCSNUMCG\":20.0,\"LCSCTSCN\":1.0,\"STOPSMK2\":1.0,\"ASTHMA3\":2.0},{\"_AGE65YR\":1.0,\"_BMI5CAT\":3.0,\"GENHLTH\":3.0,\"SMOKE100\":1.0,\"_SMOKER3\":1.0,\"LCSFIRST\":15.0,\"LCSLAST\":38.0,\"LCSNUMCG\":3.0,\"LCSCTSCN\":3.0,\"STOPSMK2\":1.0,\"ASTHMA3\":2.0},{\"_AGE65YR\":2.0,\"_BMI5CAT\":4.0,\"GENHLTH\":3.0,\"SMOKE100\":1.0,\"_SMOKER3\":2.0,\"LCSFIRST\":35.0,\"LCSLAST\":777.0,\"LCSNUMCG\":2.0,\"LCSCTSCN\":2.0,\"STOPSMK2\":1.0,\"ASTHMA3\":2.0},{\"_AGE65YR\":1.0,\"_BMI5CAT\":3.0,\"GENHLTH\":2.0,\"SMOKE100\":1.0,\"_SMOKER3\":1.0,\"LCSFIRST\":25.0,\"LCSLAST\":59.0,\"LCSNUMCG\":15.0,\"LCSCTSCN\":3.0,\"STOPSMK2\":1.0,\"ASTHMA3\":2.0},{\"_AGE65YR\":1.0,\"_BMI5CAT\":4.0,\"GENHLTH\":5.0,\"SMOKE100\":1.0,\"_SMOKER3\":1.0,\"LCSFIRST\":13.0,\"LCSLAST\":47.0,\"LCSNUMCG\":15.0,\"LCSCTSCN\":2.0,\"STOPSMK2\":2.0,\"ASTHMA3\":1.0},{\"_AGE65YR\":1.0,\"_BMI5CAT\":2.0,\"GENHLTH\":5.0,\"SMOKE100\":1.0,\"_SMOKER3\":1.0,\"LCSFIRST\":20.0,\"LCSLAST\":64.0,\"LCSNUMCG\":20.0,\"LCSCTSCN\":3.0,\"STOPSMK2\":1.0,\"ASTHMA3\":1.0},{\"_AGE65YR\":2.0,\"_BMI5CAT\":2.0,\"GENHLTH\":5.0,\"SMOKE100\":1.0,\"_SMOKER3\":1.0,\"LCSFIRST\":11.0,\"LCSLAST\":71.0,\"LCSNUMCG\":60.0,\"LCSCTSCN\":3.0,\"STOPSMK2\":2.0,\"ASTHMA3\":2.0},{\"_AGE65YR\":2.0,\"_BMI5CAT\":1.0,\"GENHLTH\":2.0,\"SMOKE100\":1.0,\"_SMOKER3\":2.0,\"LCSFIRST\":18.0,\"LCSLAST\":70.0,\"LCSNUMCG\":2.0,\"LCSCTSCN\":1.0,\"STOPSMK2\":1.0,\"ASTHMA3\":1.0},{\"_AGE65YR\":1.0,\"_BMI5CAT\":3.0,\"GENHLTH\":3.0,\"SMOKE100\":1.0,\"_SMOKER3\":1.0,\"LCSFIRST\":19.0,\"LCSLAST\":58.0,\"LCSNUMCG\":20.0,\"LCSCTSCN\":2.0,\"STOPSMK2\":2.0,\"ASTHMA3\":2.0},{\"_AGE65YR\":1.0,\"_BMI5CAT\":3.0,\"GENHLTH\":3.0,\"SMOKE100\":1.0,\"_SMOKER3\":1.0,\"LCSFIRST\":20.0,\"LCSLAST\":60.0,\"LCSNUMCG\":20.0,\"LCSCTSCN\":2.0,\"STOPSMK2\":2.0,\"ASTHMA3\":2.0},{\"_AGE65YR\":1.0,\"_BMI5CAT\":3.0,\"GENHLTH\":5.0,\"SMOKE100\":1.0,\"_SMOKER3\":1.0,\"LCSFIRST\":11.0,\"LCSLAST\":63.0,\"LCSNUMCG\":20.0,\"LCSCTSCN\":3.0,\"STOPSMK2\":2.0,\"ASTHMA3\":2.0},{\"_AGE65YR\":1.0,\"_BMI5CAT\":1.0,\"GENHLTH\":2.0,\"SMOKE100\":1.0,\"_SMOKER3\":1.0,\"LCSFIRST\":15.0,\"LCSLAST\":64.0,\"LCSNUMCG\":10.0,\"LCSCTSCN\":1.0,\"STOPSMK2\":1.0,\"ASTHMA3\":2.0},{\"_AGE65YR\":2.0,\"_BMI5CAT\":3.0,\"GENHLTH\":4.0,\"SMOKE100\":1.0,\"_SMOKER3\":2.0,\"LCSFIRST\":25.0,\"LCSLAST\":777.0,\"LCSNUMCG\":5.0,\"LCSCTSCN\":3.0,\"STOPSMK2\":1.0,\"ASTHMA3\":2.0},{\"_AGE65YR\":1.0,\"_BMI5CAT\":4.0,\"GENHLTH\":3.0,\"SMOKE100\":1.0,\"_SMOKER3\":1.0,\"LCSFIRST\":13.0,\"LCSLAST\":54.0,\"LCSNUMCG\":25.0,\"LCSCTSCN\":2.0,\"STOPSMK2\":2.0,\"ASTHMA3\":2.0},{\"_AGE65YR\":1.0,\"_BMI5CAT\":4.0,\"GENHLTH\":5.0,\"SMOKE100\":1.0,\"_SMOKER3\":1.0,\"LCSFIRST\":14.0,\"LCSLAST\":64.0,\"LCSNUMCG\":8.0,\"LCSCTSCN\":3.0,\"STOPSMK2\":2.0,\"ASTHMA3\":2.0},{\"_AGE65YR\":1.0,\"_BMI5CAT\":2.0,\"GENHLTH\":2.0,\"SMOKE100\":1.0,\"_SMOKER3\":1.0,\"LCSFIRST\":21.0,\"LCSLAST\":61.0,\"LCSNUMCG\":10.0,\"LCSCTSCN\":1.0,\"STOPSMK2\":1.0,\"ASTHMA3\":2.0},{\"_AGE65YR\":2.0,\"_BMI5CAT\":4.0,\"GENHLTH\":3.0,\"SMOKE100\":1.0,\"_SMOKER3\":1.0,\"LCSFIRST\":13.0,\"LCSLAST\":67.0,\"LCSNUMCG\":20.0,\"LCSCTSCN\":2.0,\"STOPSMK2\":2.0,\"ASTHMA3\":1.0},{\"_AGE65YR\":2.0,\"_BMI5CAT\":3.0,\"GENHLTH\":4.0,\"SMOKE100\":1.0,\"_SMOKER3\":2.0,\"LCSFIRST\":30.0,\"LCSLAST\":69.0,\"LCSNUMCG\":5.0,\"LCSCTSCN\":2.0,\"STOPSMK2\":1.0,\"ASTHMA3\":2.0},{\"_AGE65YR\":2.0,\"_BMI5CAT\":3.0,\"GENHLTH\":3.0,\"SMOKE100\":1.0,\"_SMOKER3\":1.0,\"LCSFIRST\":13.0,\"LCSLAST\":82.0,\"LCSNUMCG\":10.0,\"LCSCTSCN\":2.0,\"STOPSMK2\":1.0,\"ASTHMA3\":2.0},{\"_AGE65YR\":2.0,\"_BMI5CAT\":4.0,\"GENHLTH\":2.0,\"SMOKE100\":1.0,\"_SMOKER3\":1.0,\"LCSFIRST\":13.0,\"LCSLAST\":75.0,\"LCSNUMCG\":20.0,\"LCSCTSCN\":2.0,\"STOPSMK2\":1.0,\"ASTHMA3\":2.0},{\"_AGE65YR\":1.0,\"_BMI5CAT\":3.0,\"GENHLTH\":4.0,\"SMOKE100\":1.0,\"_SMOKER3\":1.0,\"LCSFIRST\":17.0,\"LCSLAST\":61.0,\"LCSNUMCG\":20.0,\"LCSCTSCN\":1.0,\"STOPSMK2\":2.0,\"ASTHMA3\":2.0},{\"_AGE65YR\":2.0,\"_BMI5CAT\":4.0,\"GENHLTH\":2.0,\"SMOKE100\":1.0,\"_SMOKER3\":1.0,\"LCSFIRST\":20.0,\"LCSLAST\":72.0,\"LCSNUMCG\":20.0,\"LCSCTSCN\":1.0,\"STOPSMK2\":1.0,\"ASTHMA3\":2.0},{\"_AGE65YR\":1.0,\"_BMI5CAT\":2.0,\"GENHLTH\":3.0,\"SMOKE100\":1.0,\"_SMOKER3\":1.0,\"LCSFIRST\":12.0,\"LCSLAST\":36.0,\"LCSNUMCG\":20.0,\"LCSCTSCN\":3.0,\"STOPSMK2\":2.0,\"ASTHMA3\":2.0},{\"_AGE65YR\":1.0,\"_BMI5CAT\":2.0,\"GENHLTH\":5.0,\"SMOKE100\":1.0,\"_SMOKER3\":1.0,\"LCSFIRST\":18.0,\"LCSLAST\":58.0,\"LCSNUMCG\":10.0,\"LCSCTSCN\":1.0,\"STOPSMK2\":2.0,\"ASTHMA3\":2.0},{\"_AGE65YR\":1.0,\"_BMI5CAT\":2.0,\"GENHLTH\":5.0,\"SMOKE100\":1.0,\"_SMOKER3\":1.0,\"LCSFIRST\":15.0,\"LCSLAST\":64.0,\"LCSNUMCG\":40.0,\"LCSCTSCN\":3.0,\"STOPSMK2\":2.0,\"ASTHMA3\":2.0},{\"_AGE65YR\":1.0,\"_BMI5CAT\":3.0,\"GENHLTH\":2.0,\"SMOKE100\":1.0,\"_SMOKER3\":2.0,\"LCSFIRST\":18.0,\"LCSLAST\":59.0,\"LCSNUMCG\":6.0,\"LCSCTSCN\":1.0,\"STOPSMK2\":1.0,\"ASTHMA3\":2.0},{\"_AGE65YR\":3.0,\"_BMI5CAT\":4.0,\"GENHLTH\":5.0,\"SMOKE100\":1.0,\"_SMOKER3\":1.0,\"LCSFIRST\":15.0,\"LCSLAST\":60.0,\"LCSNUMCG\":30.0,\"LCSCTSCN\":3.0,\"STOPSMK2\":1.0,\"ASTHMA3\":2.0},{\"_AGE65YR\":2.0,\"_BMI5CAT\":3.0,\"GENHLTH\":1.0,\"SMOKE100\":1.0,\"_SMOKER3\":2.0,\"LCSFIRST\":14.0,\"LCSLAST\":68.0,\"LCSNUMCG\":20.0,\"LCSCTSCN\":2.0,\"STOPSMK2\":2.0,\"ASTHMA3\":2.0},{\"_AGE65YR\":2.0,\"_BMI5CAT\":3.0,\"GENHLTH\":3.0,\"SMOKE100\":1.0,\"_SMOKER3\":2.0,\"LCSFIRST\":18.0,\"LCSLAST\":75.0,\"LCSNUMCG\":5.0,\"LCSCTSCN\":7.0,\"STOPSMK2\":1.0,\"ASTHMA3\":2.0},{\"_AGE65YR\":1.0,\"_BMI5CAT\":4.0,\"GENHLTH\":1.0,\"SMOKE100\":1.0,\"_SMOKER3\":1.0,\"LCSFIRST\":14.0,\"LCSLAST\":42.0,\"LCSNUMCG\":8.0,\"LCSCTSCN\":2.0,\"STOPSMK2\":1.0,\"ASTHMA3\":1.0},{\"_AGE65YR\":2.0,\"_BMI5CAT\":1.0,\"GENHLTH\":3.0,\"SMOKE100\":1.0,\"_SMOKER3\":1.0,\"LCSFIRST\":35.0,\"LCSLAST\":80.0,\"LCSNUMCG\":20.0,\"LCSCTSCN\":2.0,\"STOPSMK2\":2.0,\"ASTHMA3\":2.0},{\"_AGE65YR\":2.0,\"_BMI5CAT\":3.0,\"GENHLTH\":2.0,\"SMOKE100\":1.0,\"_SMOKER3\":2.0,\"LCSFIRST\":18.0,\"LCSLAST\":70.0,\"LCSNUMCG\":30.0,\"LCSCTSCN\":3.0,\"STOPSMK2\":1.0,\"ASTHMA3\":2.0},{\"_AGE65YR\":1.0,\"_BMI5CAT\":3.0,\"GENHLTH\":2.0,\"SMOKE100\":1.0,\"_SMOKER3\":1.0,\"LCSFIRST\":20.0,\"LCSLAST\":62.0,\"LCSNUMCG\":30.0,\"LCSCTSCN\":2.0,\"STOPSMK2\":2.0,\"ASTHMA3\":2.0},{\"_AGE65YR\":2.0,\"_BMI5CAT\":2.0,\"GENHLTH\":4.0,\"SMOKE100\":1.0,\"_SMOKER3\":1.0,\"LCSFIRST\":25.0,\"LCSLAST\":69.0,\"LCSNUMCG\":10.0,\"LCSCTSCN\":1.0,\"STOPSMK2\":1.0,\"ASTHMA3\":2.0}];\n",
              "          document.querySelector(\"#elem\").data = data;\n",
              "        </script>"
            ]
          },
          "metadata": {}
        }
      ]
    },
    {
      "cell_type": "markdown",
      "source": [],
      "metadata": {
        "id": "fLzEmTIBv23a"
      }
    }
  ]
}