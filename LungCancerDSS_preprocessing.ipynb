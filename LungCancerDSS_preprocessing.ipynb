{
  "nbformat": 4,
  "nbformat_minor": 0,
  "metadata": {
    "colab": {
      "provenance": [],
      "toc_visible": true,
      "authorship_tag": "ABX9TyPR+ymNODY9NxWYGwZWzw7U",
      "include_colab_link": true
    },
    "kernelspec": {
      "name": "python3",
      "display_name": "Python 3"
    },
    "language_info": {
      "name": "python"
    }
  },
  "cells": [
    {
      "cell_type": "markdown",
      "metadata": {
        "id": "view-in-github",
        "colab_type": "text"
      },
      "source": [
        "<a href=\"https://colab.research.google.com/github/nhuyen183/DS-DV-Project/blob/master/LungCancerDSS_preprocessing.ipynb\" target=\"_parent\"><img src=\"https://colab.research.google.com/assets/colab-badge.svg\" alt=\"Open In Colab\"/></a>"
      ]
    },
    {
      "cell_type": "code",
      "execution_count": null,
      "metadata": {
        "id": "UxvbCvWzF2iN"
      },
      "outputs": [],
      "source": [
        "import numpy as np\n",
        "import pandas as pd\n",
        "import tensorflow as tf\n",
        "from tensorflow.keras import layers\n",
        "from matplotlib import pyplot as plt\n",
        "import seaborn as sns"
      ]
    },
    {
      "cell_type": "markdown",
      "source": [
        "# New Section"
      ],
      "metadata": {
        "id": "HwB3gc2dewzz"
      }
    },
    {
      "cell_type": "code",
      "source": [
        "BRFSS_data = pd.read_csv(\"../input/2015.csv\") "
      ],
      "metadata": {
        "id": "c6udoYI94hjI"
      },
      "execution_count": null,
      "outputs": []
    },
    {
      "cell_type": "code",
      "source": [],
      "metadata": {
        "id": "UJAvHSw3_PY2"
      },
      "execution_count": null,
      "outputs": []
    },
    {
      "cell_type": "code",
      "source": [
        "df['PHYSHLTH'].describe()\n",
        "\n",
        "phys_health = df['PHYSHLTH'].value_counts()\n",
        "print(\"Percentage:\", phys_health.iloc[0] / df['PHYSHLTH'].count())\n",
        "phys_health.iloc[:3]\n",
        "\n",
        "# Out of 441,455 respondents, 274,143 said they have no days of being physically unhealthly\n",
        "# That's about 62% in good physical health, which is good news"
      ],
      "metadata": {
        "id": "gfoITIK14wFt"
      },
      "execution_count": null,
      "outputs": []
    },
    {
      "cell_type": "code",
      "source": [],
      "metadata": {
        "id": "TKKEiZnQ_Opq"
      },
      "execution_count": null,
      "outputs": []
    }
  ]
}