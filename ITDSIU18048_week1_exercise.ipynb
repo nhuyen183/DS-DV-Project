{
  "nbformat": 4,
  "nbformat_minor": 0,
  "metadata": {
    "colab": {
      "provenance": [],
      "collapsed_sections": [],
      "include_colab_link": true
    },
    "kernelspec": {
      "name": "python3",
      "display_name": "Python 3"
    },
    "language_info": {
      "name": "python"
    }
  },
  "cells": [
    {
      "cell_type": "markdown",
      "metadata": {
        "id": "view-in-github",
        "colab_type": "text"
      },
      "source": [
        "<a href=\"https://colab.research.google.com/github/nhuyen183/DS-DV-Project/blob/master/ITDSIU18048_week1_exercise.ipynb\" target=\"_parent\"><img src=\"https://colab.research.google.com/assets/colab-badge.svg\" alt=\"Open In Colab\"/></a>"
      ]
    },
    {
      "cell_type": "markdown",
      "metadata": {
        "id": "Hv7qWVkz6THJ"
      },
      "source": [
        "1) Using `bash` to clone the file `cat_to_name.json` from [here](https://github.com/udacity/pytorch_challenge/raw/master/cat_to_name.json) , check if it exists and print out content of this file in the notebook"
      ]
    },
    {
      "cell_type": "code",
      "metadata": {
        "id": "vk2hiRg264VU"
      },
      "source": [
        "!pwd"
      ],
      "execution_count": null,
      "outputs": []
    },
    {
      "cell_type": "markdown",
      "metadata": {
        "id": "vlb8huNy7Mke"
      },
      "source": [
        "2) Clone the data from [here](https://s3.amazonaws.com/content.udacity-data.com/nd089/flower_data.tar.gz) , then upzip it and remove the original file"
      ]
    },
    {
      "cell_type": "code",
      "metadata": {
        "id": "ptvJK-jo8CMO"
      },
      "source": [],
      "execution_count": null,
      "outputs": []
    },
    {
      "cell_type": "markdown",
      "metadata": {
        "id": "rtkz6LWh8Nc0"
      },
      "source": [
        "3) Create a new folder named `newbie`, copy a file in `sample_data` to `newbie`. Then go to `newbie`, create a folder `next_newbie`, and copy the file in `newbie` to `next_newbie`. Jump into `next_newbie`, remove the file in `newbie`. Stand in `next_newbie`, list out the list of file in detail in `sample_data`"
      ]
    },
    {
      "cell_type": "code",
      "metadata": {
        "id": "iy_93Hdu9NcH"
      },
      "source": [],
      "execution_count": null,
      "outputs": []
    },
    {
      "cell_type": "markdown",
      "metadata": {
        "id": "-bKChdhzbgUF"
      },
      "source": [
        "4) Please write a Python function to sort (ascending and descending) a dictionary by key. For example, this below dictionary:\n",
        "```python\n",
        "alphabets = {\n",
        "    5: 'e',\n",
        "    4: 'd',\n",
        "    3: 'c',\n",
        "    2: 'b',\n",
        "    1: 'a',\n",
        "}\n",
        "```"
      ]
    },
    {
      "cell_type": "code",
      "metadata": {
        "id": "MST8InAfbhPe"
      },
      "source": [],
      "execution_count": null,
      "outputs": []
    },
    {
      "cell_type": "markdown",
      "metadata": {
        "id": "7p6a0bCJeRGW"
      },
      "source": [
        "5) Given $n$ dictionaries, write a Python script to merge them all to a unique dictionary."
      ]
    },
    {
      "cell_type": "code",
      "metadata": {
        "id": "4fQo9fPMbijz"
      },
      "source": [],
      "execution_count": null,
      "outputs": []
    },
    {
      "cell_type": "markdown",
      "metadata": {
        "id": "OqTInTOde4cb"
      },
      "source": [
        "6) Write a Python fuction to take a dictionary as input to remove duplicates from Dictionary."
      ]
    },
    {
      "cell_type": "code",
      "metadata": {
        "id": "K6qHtzm9e4mv"
      },
      "source": [],
      "execution_count": null,
      "outputs": []
    },
    {
      "cell_type": "markdown",
      "metadata": {
        "id": "8j8C_GrViIht"
      },
      "source": [
        "7) Write a function to perform the Fibonacci series."
      ]
    },
    {
      "cell_type": "code",
      "metadata": {
        "id": "oSFrnugAiIsT"
      },
      "source": [],
      "execution_count": null,
      "outputs": []
    },
    {
      "cell_type": "markdown",
      "metadata": {
        "id": "7kt_eamej9BK"
      },
      "source": [
        "8) Password Generator: Write a function for password generator in Python that can be workable to strong passwords (having a mix of lowercase letters, uppercase letters, numbers, and symbols). The passwords should be as random as possible, generating a new password every time the user asks for a new password."
      ]
    },
    {
      "cell_type": "code",
      "metadata": {
        "id": "4KbvHqwhj9MH"
      },
      "source": [],
      "execution_count": null,
      "outputs": []
    }
  ]
}